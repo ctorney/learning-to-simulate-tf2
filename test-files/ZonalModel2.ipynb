{
  "nbformat": 4,
  "nbformat_minor": 0,
  "metadata": {
    "colab": {
      "name": "ZonalModel2.ipynb",
      "provenance": [],
      "collapsed_sections": [
        "djgc1AVtrAdy",
        "q_J2CFR8rljZ"
      ],
      "authorship_tag": "ABX9TyMlf90jTjjIboNsN/u3U6QO",
      "include_colab_link": true
    },
    "kernelspec": {
      "name": "python3",
      "display_name": "Python 3"
    },
    "language_info": {
      "name": "python"
    }
  },
  "cells": [
    {
      "cell_type": "markdown",
      "metadata": {
        "id": "view-in-github",
        "colab_type": "text"
      },
      "source": [
        "<a href=\"https://colab.research.google.com/github/ctorney/learning-to-simulate-tf2/blob/main/test-files/ZonalModel2.ipynb\" target=\"_parent\"><img src=\"https://colab.research.google.com/assets/colab-badge.svg\" alt=\"Open In Colab\"/></a>"
      ]
    },
    {
      "cell_type": "code",
      "metadata": {
        "id": "Z3TcOyZ_njXA"
      },
      "source": [
        "!pip install \"graph_nets>=1.1\" \"dm-sonnet>=2.0.0b0\" \"tensorflow_probability\""
      ],
      "execution_count": 2,
      "outputs": []
    },
    {
      "cell_type": "code",
      "metadata": {
        "id": "XemapxUWfYJZ",
        "cellView": "form"
      },
      "source": [
        "#@title ### Imports\n",
        "\n",
        "import numpy as np\n",
        "from math import *\n",
        "import sys\n",
        "import random\n",
        "import time\n",
        "\n",
        "from tqdm import tqdm\n",
        "import tensorflow as tf\n",
        "import os\n",
        "\n",
        "import functools\n",
        "\n",
        "from sklearn import neighbors\n",
        "\n",
        "from typing import Callable\n",
        "\n",
        "import graph_nets as gn\n",
        "import sonnet as snt\n",
        "import collections\n",
        "\n",
        "from tqdm import tqdm\n",
        "import pickle\n",
        "\n",
        "import matplotlib.pyplot as plt\n",
        "from matplotlib import animation, rc"
      ],
      "execution_count": 3,
      "outputs": []
    },
    {
      "cell_type": "markdown",
      "metadata": {
        "id": "djgc1AVtrAdy"
      },
      "source": [
        "# Generate Data"
      ]
    },
    {
      "cell_type": "code",
      "metadata": {
        "id": "o_lpv__-npkr",
        "cellView": "form"
      },
      "source": [
        "#@title ### Zonal Model\n",
        "\n",
        "def get_record(group_id,pos,vel):\n",
        "    feature = { 'group_id': tf.train.Feature(int64_list=tf.train.Int64List(value=[group_id])),\n",
        "                'pos': tf.train.Feature(bytes_list=tf.train.BytesList(value=[pos.numpy()])),\n",
        "                'vel': tf.train.Feature(bytes_list=tf.train.BytesList(value=[vel.numpy()]))\n",
        "                }\n",
        "    return tf.train.Example(features=tf.train.Features(feature=feature))\n",
        "\n",
        "\n",
        "class zonal_model:\n",
        "    def __init__(self, N, timesteps, discard, repeat, L, dt, save_interval,train_directory='train_datasets', valid_directory='valid_datasets', disable_progress=False):\n",
        "        self.N = N\n",
        "        self.timesteps = timesteps\n",
        "        self.discard = discard\n",
        "        self.B = repeat  # repeat for B batches\n",
        "        self.L = L\n",
        "        self.dt = dt\n",
        "        self.save_interval = save_interval\n",
        "        \n",
        "        self.micro_state = np.zeros((self.B, (self.timesteps - self.discard)//self.save_interval, N, 4),dtype=np.float32)\n",
        "\n",
        "        self.sim_counter=0\n",
        "\n",
        "        if not os.path.exists(train_directory):\n",
        "            os.makedirs(train_directory)\n",
        "\n",
        "        if not os.path.exists(valid_directory):\n",
        "            os.makedirs(valid_directory)\n",
        "\n",
        "        self.train_directory = train_directory\n",
        "        self.valid_directory = valid_directory\n",
        "\n",
        "        # turn progress bar on or off\n",
        "        self.disable_progress = disable_progress\n",
        "\n",
        "        self.valid_fraction = 0.1\n",
        "        \n",
        "    def initialise_state(self):\n",
        "\n",
        "        self.positions = tf.random.uniform((self.B,self.N,2),0.5*self.L, 0.5*self.L+20) #0,self.L)\n",
        "        #self.positions = tf.random.uniform((self.B,self.N,2),0, self.L) \n",
        "        self.angles = tf.random.uniform((self.B,self.N,1), 0, 2*pi) #\n",
        "        \n",
        "\n",
        "\n",
        "    def run_sim(self, *params):\n",
        "\n",
        "        eta, Ra, Ro, Rr, vs, va, sigma = params\n",
        "        \n",
        "        record_file = self.train_directory + '/microstates-' + str(self.sim_counter) + '.tfrecords'\n",
        "        self.writer = tf.io.TFRecordWriter(record_file) \n",
        "        \n",
        "        valid_file = self.valid_directory + '/microstates-' + str(self.sim_counter) + '.tfrecords'\n",
        "        self.validwriter = tf.io.TFRecordWriter(valid_file) \n",
        "        \n",
        "        # tensorflow function to run an update step\n",
        "        @tf.function\n",
        "        def update_tf(X, A):\n",
        "            cos_A = tf.math.cos(A)\n",
        "            sin_A = tf.math.sin(A)\n",
        "\n",
        "\n",
        "            Xx = tf.expand_dims(X[...,0],-1)\n",
        "            dx = -Xx + tf.linalg.matrix_transpose(Xx)\n",
        "            dx = tf.where(dx>0.5*self.L, dx-self.L, dx)\n",
        "            dx = tf.where(dx<-0.5*self.L, dx+self.L, dx)\n",
        "\n",
        "            Xy = tf.expand_dims(X[...,1],-1)\n",
        "            dy = -Xy + tf.linalg.matrix_transpose(Xy)\n",
        "            dy = tf.where(dy>0.5*self.L, dy-self.L, dy)\n",
        "            dy = tf.where(dy<-0.5*self.L, dy+self.L, dy)\n",
        "\n",
        "\n",
        "            angle_to_neigh = tf.math.atan2(dy, dx)\n",
        "            cos_N = tf.math.cos(angle_to_neigh)\n",
        "            sin_N = tf.math.sin(angle_to_neigh)\n",
        "            rel_angle_to_neigh = angle_to_neigh - A\n",
        "            rel_angle_to_neigh = tf.math.atan2(tf.math.sin(rel_angle_to_neigh), tf.math.cos(rel_angle_to_neigh))\n",
        "            \n",
        "            dist = tf.math.sqrt(tf.square(dx)+tf.square(dy))\n",
        "    \n",
        "            # repulsion \n",
        "            rep_x = tf.where(dist<=Rr, -dx, tf.zeros_like(dx))\n",
        "            rep_x = tf.where(rel_angle_to_neigh<0.5*va, rep_x, tf.zeros_like(rep_x))\n",
        "            rep_x = tf.where(rel_angle_to_neigh>-0.5*va, rep_x, tf.zeros_like(rep_x))\n",
        "            rep_x = tf.math.divide_no_nan(rep_x,tf.math.square(dist))\n",
        "            rep_x = tf.reduce_sum(rep_x,axis=2)\n",
        "\n",
        "            rep_y = tf.where(dist<=Rr, -dy, tf.zeros_like(dy))\n",
        "            rep_y = tf.where(rel_angle_to_neigh<0.5*va, rep_y, tf.zeros_like(rep_y))\n",
        "            rep_y = tf.where(rel_angle_to_neigh>-0.5*va, rep_y, tf.zeros_like(rep_y))\n",
        "            rep_y = tf.math.divide_no_nan(rep_y,tf.math.square(dist))\n",
        "            rep_y = tf.reduce_sum(rep_y,axis=2)\n",
        "\n",
        "            # alignment \n",
        "            align_x = tf.where(dist<=Ro, cos_A, tf.zeros_like(cos_A))\n",
        "            align_x = tf.where(rel_angle_to_neigh<0.5*va, align_x, tf.zeros_like(align_x))\n",
        "            align_x = tf.where(rel_angle_to_neigh>-0.5*va, align_x, tf.zeros_like(align_x))\n",
        "            align_x = tf.reduce_sum(align_x,axis=1)\n",
        "            \n",
        "            align_y = tf.where(dist<=Ro, sin_A, tf.zeros_like(sin_A))\n",
        "            align_y = tf.where(rel_angle_to_neigh<0.5*va, align_y, tf.zeros_like(align_y))\n",
        "            align_y = tf.where(rel_angle_to_neigh>-0.5*va, align_y, tf.zeros_like(align_y))\n",
        "            align_y = tf.reduce_sum(align_y,axis=1)\n",
        "\n",
        "            al_norm = tf.math.sqrt(align_x**2+align_y**2)\n",
        "            align_x = tf.math.divide_no_nan(align_x,al_norm)\n",
        "            align_y = tf.math.divide_no_nan(align_y,al_norm)\n",
        "\n",
        "            # attractive interactions\n",
        "            attr_x = tf.where(dist<=Ra, dx, tf.zeros_like(dx))\n",
        "            attr_x = tf.where(rel_angle_to_neigh<0.5*va, attr_x, tf.zeros_like(attr_x))\n",
        "            attr_x = tf.where(rel_angle_to_neigh>-0.5*va, attr_x, tf.zeros_like(attr_x))\n",
        "            attr_x = tf.reduce_sum(attr_x,axis=2)\n",
        "\n",
        "            attr_y = tf.where(dist<=Ra, dy, tf.zeros_like(dy))\n",
        "            attr_y = tf.where(rel_angle_to_neigh<0.5*va, attr_y, tf.zeros_like(attr_y))\n",
        "            attr_y = tf.where(rel_angle_to_neigh>-0.5*va, attr_y, tf.zeros_like(attr_y))\n",
        "            attr_y = tf.reduce_sum(attr_y,axis=2)\n",
        "\n",
        "            at_norm = tf.math.sqrt(attr_x**2+attr_y**2)\n",
        "            attr_x = tf.math.divide_no_nan(attr_x,at_norm)\n",
        "            attr_y = tf.math.divide_no_nan(attr_y,at_norm)\n",
        "\n",
        "            # combine angles and convert to desired angle change\n",
        "            social_x = rep_x + align_x + attr_x\n",
        "            social_y = rep_y + align_y + attr_y\n",
        "\n",
        "            d_angle = tf.math.atan2(social_y,social_x)\n",
        "            d_angle = tf.expand_dims(d_angle,-1)\n",
        "\n",
        "            \n",
        "            d_angle = tf.math.atan2((1-eta)*tf.math.sin(d_angle) + eta*sin_A, (1-eta)*tf.math.cos(d_angle) + eta*cos_A)\n",
        "\n",
        "            d_angle = d_angle - A\n",
        "            d_angle = tf.where(d_angle>pi, d_angle-2*pi, d_angle)\n",
        "            d_angle = tf.where(d_angle<-pi, d_angle+2*pi, d_angle)\n",
        "\n",
        "\n",
        "            # add perception noise\n",
        "            noise = tf.random.normal(shape=(self.B,self.N,1),mean=0,stddev=sigma*(self.dt**0.5))\n",
        "            d_angle = d_angle + noise\n",
        "            \n",
        "            # restrict to maximum turning angle\n",
        "            #d_angle = tf.where(tf.math.abs(d_angle)>eta*self.dt, tf.math.sign(d_angle)*eta*self.dt, d_angle)\n",
        "            \n",
        "            # rotate headings\n",
        "            A = A + d_angle\n",
        "            \n",
        "            # update positions\n",
        "            velocity = self.dt*vs*tf.concat([tf.cos(A),tf.sin(A)],axis=-1)\n",
        "            X += velocity\n",
        "\n",
        "            # add periodic boundary conditions\n",
        "            A = tf.where(A<-pi,  A+2*pi, A)\n",
        "            A = tf.where(A>pi, A-2*pi, A)\n",
        "\n",
        "            X = tf.where(X>self.L, X-self.L, X)\n",
        "            X = tf.where(X<0, X+self.L, X)\n",
        "\n",
        "            X = tf.where(X>self.L, X-self.L, X)\n",
        "            X = tf.where(X<0, X+self.L, X)\n",
        "\n",
        "            return X, A\n",
        "            \n",
        "        self.initialise_state()\n",
        "\n",
        "        counter=0\n",
        "        for i in tqdm(range(self.timesteps),disable=self.disable_progress):\n",
        "            self.positions, self.angles = update_tf(self.positions,  self.angles)\n",
        "            if i>=self.discard:\n",
        "                if i%self.save_interval==0:\n",
        "                    # store in an array in case we want to visualise\n",
        "                    self.micro_state[:,counter,:,0:2] = self.positions.numpy()\n",
        "                    self.micro_state[:,counter,:,2:3] = np.cos(self.angles.numpy())\n",
        "                    self.micro_state[:,counter,:,3:4] = np.sin(self.angles.numpy())\n",
        "                        \n",
        "                    \n",
        "\n",
        "                    counter = counter + 1\n",
        "\n",
        "        for b in range(self.B):\n",
        "            self.save_tf_record(b)\n",
        "\n",
        "        self.writer.close()\n",
        "        self.validwriter.close()\n",
        "        self.sim_counter+=1\n",
        "        return \n",
        "\n",
        "    def save_tf_record(self, b):\n",
        "        pos =  tf.io.serialize_tensor(self.micro_state[b,:,:,0:2])\n",
        "        vel =  tf.io.serialize_tensor(self.micro_state[b,:,:,2:4])\n",
        "\n",
        "        tf_record = get_record(b,pos,vel)\n",
        "        if b> self.B*self.valid_fraction:\n",
        "            self.writer.write(tf_record.SerializeToString())\n",
        "        else:\n",
        "            self.validwriter.write(tf_record.SerializeToString())\n",
        "\n",
        "        \n",
        "        return "
      ],
      "execution_count": 4,
      "outputs": []
    },
    {
      "cell_type": "code",
      "metadata": {
        "id": "W-iHCH3WaZuO",
        "cellView": "form"
      },
      "source": [
        "#@title ### Params\n",
        "\n",
        "n_points=50 #10\n",
        "\n",
        "param_values = np.linspace(0,25,n_points)\n",
        "L= 200\n",
        "N= 100 \n",
        "repeat = 100\n",
        "discard = 0\n",
        "timesteps = 200\n",
        "save_interval=1\n",
        "dt=0.1\n",
        "\n",
        "\n",
        "sim = zonal_model(N,timesteps=timesteps+discard,discard=discard,L=L,repeat=repeat, dt=dt,save_interval=save_interval,disable_progress=False)\n",
        "\n",
        "latt=0  # adapt\n",
        "lrep= 1 # adapt\n",
        "lali= 5 # adapt\n",
        "eta=0.9 # adapt\n",
        "va=2*pi # adapt\n",
        "vs=5 # fix \n",
        "sigma=0.1 "
      ],
      "execution_count": 7,
      "outputs": []
    },
    {
      "cell_type": "code",
      "metadata": {
        "colab": {
          "base_uri": "https://localhost:8080/",
          "height": 52
        },
        "id": "kiyL0DASnrzU",
        "cellView": "form",
        "outputId": "e9f07251-3cb3-4165-ad38-e9245d704a66"
      },
      "source": [
        "#@title ### Create Training Data\n",
        "\n",
        "def evaluate_zonal_model(X):\n",
        "    sim.run_sim(eta, latt, X, lrep, vs, va, sigma)\n",
        "    return\n",
        "\n",
        "evaluate_zonal_model(0)\n",
        "\n",
        "\"\"\"\n",
        "for i in tqdm(range(param_values.shape[0])):\n",
        "    evaluate_zonal_model(param_values[i])\n",
        "\"\"\""
      ],
      "execution_count": 8,
      "outputs": [
        {
          "output_type": "stream",
          "name": "stderr",
          "text": [
            "100%|██████████| 200/200 [00:27<00:00,  7.40it/s]\n"
          ]
        },
        {
          "output_type": "execute_result",
          "data": {
            "application/vnd.google.colaboratory.intrinsic+json": {
              "type": "string"
            },
            "text/plain": [
              "'\\nfor i in tqdm(range(param_values.shape[0])):\\n    evaluate_zonal_model(param_values[i])\\n'"
            ]
          },
          "metadata": {},
          "execution_count": 8
        }
      ]
    },
    {
      "cell_type": "markdown",
      "metadata": {
        "id": "n2LGVb74rFW9"
      },
      "source": [
        "# Utils"
      ]
    },
    {
      "cell_type": "code",
      "metadata": {
        "id": "9BL8x-cdXhgo",
        "cellView": "form"
      },
      "source": [
        "#@title ### connectivity_utils\n",
        "\n",
        "def _compute_connectivity(positions, radius, add_self_edges):\n",
        "  \"\"\"Get the indices of connected edges with radius connectivity.\n",
        "  Args:\n",
        "    positions: Positions of nodes in the graph. Shape:\n",
        "      [num_nodes_in_graph, num_dims].\n",
        "    radius: Radius of connectivity.\n",
        "    add_self_edges: Whether to include self edges or not.\n",
        "  Returns:\n",
        "    senders indices [num_edges_in_graph]\n",
        "    receiver indices [num_edges_in_graph]\n",
        "  \"\"\"\n",
        "  tree = neighbors.KDTree(positions)\n",
        "  receivers_list = tree.query_radius(positions, r=radius)\n",
        "  num_nodes = len(positions)\n",
        "  senders = np.repeat(range(num_nodes), [len(a) for a in receivers_list])\n",
        "  receivers = np.concatenate(receivers_list, axis=0)\n",
        "\n",
        "  if not add_self_edges:\n",
        "    # Remove self edges.\n",
        "    mask = senders != receivers\n",
        "    senders = senders[mask]\n",
        "    receivers = receivers[mask]\n",
        "\n",
        "  return senders, receivers\n",
        "\n",
        "\n",
        "def _compute_connectivity_for_batch(\n",
        "    positions, n_node, radius, add_self_edges):\n",
        "  \"\"\"`compute_connectivity` for a batch of graphs.\n",
        "  Args:\n",
        "    positions: Positions of nodes in the batch of graphs. Shape:\n",
        "      [num_nodes_in_batch, num_dims].\n",
        "    n_node: Number of nodes for each graph in the batch. Shape:\n",
        "      [num_graphs in batch].\n",
        "    radius: Radius of connectivity.\n",
        "    add_self_edges: Whether to include self edges or not.\n",
        "  Returns:\n",
        "    senders indices [num_edges_in_batch]\n",
        "    receiver indices [num_edges_in_batch]\n",
        "    number of edges per graph [num_graphs_in_batch]\n",
        "  \"\"\"\n",
        "\n",
        "  # TODO(alvarosg): Consider if we want to support batches here or not.\n",
        "  # Separate the positions corresponding to particles in different graphs.\n",
        "  positions_per_graph_list = np.split(positions, np.cumsum(n_node[:-1]), axis=0)\n",
        "  receivers_list = []\n",
        "  senders_list = []\n",
        "  n_edge_list = []\n",
        "  num_nodes_in_previous_graphs = 0\n",
        "\n",
        "  # Compute connectivity for each graph in the batch.\n",
        "  for positions_graph_i in positions_per_graph_list:\n",
        "    senders_graph_i, receivers_graph_i = _compute_connectivity(\n",
        "        positions_graph_i, radius, add_self_edges)\n",
        "\n",
        "    num_edges_graph_i = len(senders_graph_i)\n",
        "    n_edge_list.append(num_edges_graph_i)\n",
        "\n",
        "    # Because the inputs will be concatenated, we need to add offsets to the\n",
        "    # sender and receiver indices according to the number of nodes in previous\n",
        "    # graphs in the same batch.\n",
        "    receivers_list.append(receivers_graph_i + num_nodes_in_previous_graphs)\n",
        "    senders_list.append(senders_graph_i + num_nodes_in_previous_graphs)\n",
        "\n",
        "    num_nodes_graph_i = len(positions_graph_i)\n",
        "    num_nodes_in_previous_graphs += num_nodes_graph_i\n",
        "\n",
        "  # Concatenate all of the results.\n",
        "  senders = np.concatenate(senders_list, axis=0).astype(np.int32)\n",
        "  receivers = np.concatenate(receivers_list, axis=0).astype(np.int32)\n",
        "  n_edge = np.stack(n_edge_list).astype(np.int32)\n",
        "\n",
        "  return senders, receivers, n_edge\n",
        "\n",
        "\n",
        "def compute_connectivity_for_batch_pyfunc(\n",
        "    positions, n_node, radius, add_self_edges=True):\n",
        "  \"\"\"`_compute_connectivity_for_batch` wrapped in a pyfunc.\"\"\"\n",
        "  partial_fn = functools.partial(\n",
        "      _compute_connectivity_for_batch, add_self_edges=add_self_edges)\n",
        "  #print(\"Connectivity_func\", positions.shape, n_node.shape, radius)\n",
        "  senders, receivers, n_edge = tf.py_function(\n",
        "      partial_fn,\n",
        "      [positions, n_node, radius],\n",
        "      [tf.int32, tf.int32, tf.int32])\n",
        "  senders.set_shape([None])\n",
        "  receivers.set_shape([None])\n",
        "  n_edge.set_shape(n_node.get_shape())\n",
        "  return senders, receivers, n_edge"
      ],
      "execution_count": 9,
      "outputs": []
    },
    {
      "cell_type": "code",
      "metadata": {
        "id": "EEx3i6DgXslW",
        "cellView": "form"
      },
      "source": [
        "#@title ### graph_network\n",
        "\n",
        "Reducer = Callable[[tf.Tensor, tf.Tensor, tf.Tensor], tf.Tensor]\n",
        "\n",
        "def build_mlp(\n",
        "    hidden_size: int, num_hidden_layers: int, output_size: int) -> snt.Module:\n",
        "  \"\"\"Builds an MLP.\"\"\"\n",
        "  return snt.nets.MLP(\n",
        "      output_sizes=[hidden_size] * num_hidden_layers + [output_size])\n",
        "\n",
        "\n",
        "class EncodeProcessDecode(snt.Module):\n",
        "  \"\"\"Encode-Process-Decode function approximator for learnable simulator.\"\"\"\n",
        "\n",
        "  def __init__(\n",
        "      self,\n",
        "      latent_size: int,\n",
        "      mlp_hidden_size: int,\n",
        "      mlp_num_hidden_layers: int,\n",
        "      num_message_passing_steps: int,\n",
        "      output_size: int,\n",
        "      reducer: Reducer = tf.math.unsorted_segment_sum,\n",
        "      name: str = \"EncodeProcessDecode\"):\n",
        "    \"\"\"Inits the model.\n",
        "    Args:\n",
        "      latent_size: Size of the node and edge latent representations.\n",
        "      mlp_hidden_size: Hidden layer size for all MLPs.\n",
        "      mlp_num_hidden_layers: Number of hidden layers in all MLPs.\n",
        "      num_message_passing_steps: Number of message passing steps.\n",
        "      output_size: Output size of the decode node representations as required\n",
        "        by the downstream update function.\n",
        "      reducer: Reduction to be used when aggregating the edges in the nodes in\n",
        "        the interaction network. This should be a callable whose signature\n",
        "        matches tf.math.unsorted_segment_sum.\n",
        "      name: Name of the model.\n",
        "    \"\"\"\n",
        "\n",
        "    super().__init__(name=name)\n",
        "\n",
        "    self._latent_size = latent_size\n",
        "    self._mlp_hidden_size = mlp_hidden_size\n",
        "    self._mlp_num_hidden_layers = mlp_num_hidden_layers\n",
        "    self._num_message_passing_steps = num_message_passing_steps\n",
        "    self._output_size = output_size\n",
        "    self._reducer = reducer\n",
        "\n",
        "    #with self._enter_variable_scope():\n",
        "    self._networks_builder()\n",
        "\n",
        "  def __call__(self, input_graph: gn.graphs.GraphsTuple) -> tf.Tensor:\n",
        "    \"\"\"Forward pass of the learnable dynamics model.\"\"\"\n",
        "\n",
        "    # Encode the input_graph.\n",
        "    latent_graph_0 = self._encode(input_graph)\n",
        "\n",
        "    # Do `m` message passing steps in the latent graphs.\n",
        "    latent_graph_m = self._process(latent_graph_0)\n",
        "\n",
        "    # Decode from the last latent graph.\n",
        "    return self._decode(latent_graph_m)\n",
        "\n",
        "  def _networks_builder(self):\n",
        "    \"\"\"Builds the networks.\"\"\"\n",
        "    def build_mlp_with_layer_norm():\n",
        "      mlp = build_mlp(\n",
        "          hidden_size=self._mlp_hidden_size,\n",
        "          num_hidden_layers=self._mlp_num_hidden_layers,\n",
        "          output_size=self._latent_size)\n",
        "      return snt.Sequential([mlp, snt.LayerNorm(axis=slice(1, None),create_scale=False,create_offset=False)])\n",
        "\n",
        "    # The encoder graph network independently encodes edge and node features.\n",
        "    encoder_kwargs = dict(\n",
        "        edge_model_fn=build_mlp_with_layer_norm,\n",
        "        node_model_fn=build_mlp_with_layer_norm)\n",
        "    self._encoder_network = gn.modules.GraphIndependent(**encoder_kwargs)\n",
        "    # Create `num_message_passing_steps` graph networks with unshared parameters\n",
        "    # that update the node and edge latent features.\n",
        "    # Note that we can use `modules.InteractionNetwork` because\n",
        "    # it also outputs the messages as updated edge latent features.\n",
        "    self._processor_networks = []\n",
        "    for _ in range(self._num_message_passing_steps):\n",
        "      self._processor_networks.append(\n",
        "          gn.modules.InteractionNetwork(\n",
        "              edge_model_fn=build_mlp_with_layer_norm,\n",
        "              node_model_fn=build_mlp_with_layer_norm,\n",
        "              reducer=self._reducer))\n",
        "    # The decoder MLP decodes node latent features into the output size.\n",
        "    self._decoder_network = build_mlp(\n",
        "        hidden_size=self._mlp_hidden_size,\n",
        "        num_hidden_layers=self._mlp_num_hidden_layers,\n",
        "        output_size=self._output_size)\n",
        "  def _encode(\n",
        "      self, input_graph: gn.graphs.GraphsTuple) -> gn.graphs.GraphsTuple:\n",
        "    \"\"\"Encodes the input graph features into a latent graph.\"\"\"\n",
        "\n",
        "    # Copy the globals to all of the nodes, if applicable.\n",
        "    if input_graph.globals is not None:\n",
        "      broadcasted_globals = gn.blocks.broadcast_globals_to_nodes(input_graph)\n",
        "      input_graph = input_graph.replace(\n",
        "          nodes=tf.concat([input_graph.nodes, broadcasted_globals], axis=-1),\n",
        "          globals=None)\n",
        "\n",
        "    # Encode the node and edge features.\n",
        "    latent_graph_0 = self._encoder_network(input_graph)\n",
        "\n",
        "    return latent_graph_0\n",
        "\n",
        "  def _process(\n",
        "      self, latent_graph_0: gn.graphs.GraphsTuple) -> gn.graphs.GraphsTuple:\n",
        "    \"\"\"Processes the latent graph with several steps of message passing.\"\"\"\n",
        "\n",
        "    # Do `m` message passing steps in the latent graphs.\n",
        "    # (In the shared parameters case, just reuse the same `processor_network`)\n",
        "    latent_graph_prev_k = latent_graph_0\n",
        "    latent_graph_k = latent_graph_0\n",
        "    for processor_network_k in self._processor_networks:\n",
        "      latent_graph_k = self._process_step(\n",
        "          processor_network_k, latent_graph_prev_k)\n",
        "      latent_graph_prev_k = latent_graph_k\n",
        "\n",
        "    latent_graph_m = latent_graph_k\n",
        "    return latent_graph_m\n",
        "\n",
        "  def _process_step(\n",
        "      self, processor_network_k: snt.Module,\n",
        "      latent_graph_prev_k: gn.graphs.GraphsTuple) -> gn.graphs.GraphsTuple:\n",
        "    \"\"\"Single step of message passing with node/edge residual connections.\"\"\"\n",
        "\n",
        "    # One step of message passing.\n",
        "    latent_graph_k = processor_network_k(latent_graph_prev_k)\n",
        "\n",
        "    # Add residuals.\n",
        "    latent_graph_k = latent_graph_k.replace(\n",
        "        nodes=latent_graph_k.nodes+latent_graph_prev_k.nodes,\n",
        "        edges=latent_graph_k.edges+latent_graph_prev_k.edges)\n",
        "    return latent_graph_k\n",
        "\n",
        "  def _decode(self, latent_graph: gn.graphs.GraphsTuple) -> tf.Tensor:\n",
        "    \"\"\"Decodes from the latent graph.\"\"\"\n",
        "    return self._decoder_network(latent_graph.nodes)"
      ],
      "execution_count": 10,
      "outputs": []
    },
    {
      "cell_type": "code",
      "metadata": {
        "id": "CnGLHy8zTbYo",
        "cellView": "form"
      },
      "source": [
        "#@title ### learned_simulator\n",
        "\n",
        "STD_EPSILON = 1e-8\n",
        "\n",
        "\n",
        "class LearnedSimulator(snt.Module):\n",
        "  \"\"\"Learned simulator from https://arxiv.org/pdf/2002.09405.pdf.\"\"\"\n",
        "\n",
        "  def __init__(\n",
        "      self,\n",
        "      num_dimensions,\n",
        "      connectivity_radius,\n",
        "      graph_network_kwargs,\n",
        "      boundaries,\n",
        "      normalization_stats,\n",
        "      num_particle_types,\n",
        "      particle_type_embedding_size,\n",
        "      name=\"LearnedSimulator\"):\n",
        "    \"\"\"Inits the model.\n",
        "    Args:\n",
        "      num_dimensions: Dimensionality of the problem.\n",
        "      connectivity_radius: Scalar with the radius of connectivity.\n",
        "      graph_network_kwargs: Keyword arguments to pass to the learned part\n",
        "        of the graph network `model.EncodeProcessDecode`.\n",
        "      boundaries: List of 2-tuples, containing the lower and upper boundaries of\n",
        "        the cuboid containing the particles along each dimensions, matching\n",
        "        the dimensionality of the problem.\n",
        "      normalization_stats: Dictionary with statistics with keys \"acceleration\"\n",
        "        and \"velocity\", containing a named tuple for each with mean and std\n",
        "        fields, matching the dimensionality of the problem.\n",
        "      num_particle_types: Number of different particle types.\n",
        "      particle_type_embedding_size: Embedding size for the particle type.\n",
        "      name: Name of the Sonnet module.\n",
        "    \"\"\"\n",
        "    super().__init__(name=name)\n",
        "\n",
        "    self._connectivity_radius = connectivity_radius\n",
        "    self._num_particle_types = num_particle_types\n",
        "    self._boundaries = boundaries\n",
        "    self._normalization_stats = normalization_stats\n",
        "    #with self._enter_variable_scope():\n",
        "    self._graph_network = EncodeProcessDecode(output_size=num_dimensions, **graph_network_kwargs)\n",
        "\n",
        "    if self._num_particle_types > 1:\n",
        "        self._particle_type_embedding = tf.compat.v1.get_variable(\n",
        "            \"particle_embedding\",\n",
        "            [self._num_particle_types, particle_type_embedding_size],\n",
        "            trainable=True, use_resource=True)\n",
        "\n",
        "  def __call__(self, position_sequence, velocity_sequence, n_particles_per_example=N,\n",
        "             global_context=None, particle_types=None):\n",
        "    \"\"\"Produces a model step, outputting the next position for each particle.\n",
        "    Args:\n",
        "      position_sequence: Sequence of positions for each node in the batch,\n",
        "        with shape [num_particles_in_batch, sequence_length, num_dimensions]\n",
        "      n_particles_per_example: Number of particles for each graph in the batch\n",
        "        with shape [batch_size]\n",
        "      global_context: Tensor of shape [batch_size, context_size], with global\n",
        "        context.\n",
        "      particle_types: Integer tensor of shape [num_particles_in_batch] with\n",
        "        the integer types of the particles, from 0 to `num_particle_types - 1`.\n",
        "        If None, we assume all particles are the same type.\n",
        "    Returns:\n",
        "      Next position with shape [num_particles_in_batch, num_dimensions] for one\n",
        "      step into the future from the input sequence.\n",
        "    \"\"\"\n",
        "    input_graphs_tuple = self._encoder_preprocessor(\n",
        "        position_sequence,\n",
        "        velocity_sequence,\n",
        "        n_particles_per_example,\n",
        "        global_context=None,\n",
        "        particle_types=None)\n",
        "\n",
        "    normalized_acceleration = self._graph_network(input_graphs_tuple)\n",
        "\n",
        "    next_position, next_velocity = self._decoder_postprocessor(\n",
        "        normalized_acceleration, position_sequence)\n",
        "\n",
        "    return next_position, next_velocity\n",
        "\n",
        "  def _encoder_preprocessor(\n",
        "      self, position_sequence, velocity_sequence, n_node, global_context, particle_types):\n",
        "    # Extract important features from the position_sequence.\n",
        "    most_recent_position = position_sequence[-1]\n",
        "\n",
        "    #print(\"encoder\", position_sequence.shape, velocity_sequence.shape, n_node)\n",
        "\n",
        "    # Get connectivity of the graph.\n",
        "    (senders, receivers, n_edge\n",
        "     ) = compute_connectivity_for_batch_pyfunc(\n",
        "         most_recent_position, n_node, self._connectivity_radius)\n",
        "\n",
        "    # Collect node features.\n",
        "    node_features = []\n",
        "\n",
        "    #Calculate velocity mean and std\n",
        "    vm = tf.reduce_mean(velocity_sequence)\n",
        "    vstd = tf.math.reduce_std(velocity_sequence)\n",
        "\n",
        "    # Normalized velocity sequence, merging spatial an time axis.\n",
        "    normalized_velocity_sequence = (\n",
        "        velocity_sequence - vm) / vstd\n",
        "    \n",
        "    normalized_velocity_sequence = tf.reshape(normalized_velocity_sequence, shape=[N,-1])\n",
        "    node_features.append(normalized_velocity_sequence)\n",
        "\n",
        "    # Normalized clipped distances to lower and upper boundaries.\n",
        "    # boundaries are an array of shape [num_dimensions, 2], where the second\n",
        "    # axis, provides the lower/upper boundaries.\n",
        "    boundaries = tf.constant(self._boundaries, dtype=tf.float32)\n",
        "    distance_to_lower_boundary = (\n",
        "        most_recent_position - tf.expand_dims(boundaries[:, 0], 0))\n",
        "    distance_to_upper_boundary = (\n",
        "        tf.expand_dims(boundaries[:, 1], 0) - most_recent_position)\n",
        "    distance_to_boundaries = tf.concat(\n",
        "        [distance_to_lower_boundary, distance_to_upper_boundary], axis=1)\n",
        "    normalized_clipped_distance_to_boundaries = tf.clip_by_value(\n",
        "        distance_to_boundaries / self._connectivity_radius, -1., 1.)\n",
        "    node_features.append(normalized_clipped_distance_to_boundaries)\n",
        "\n",
        "    # Particle type.\n",
        "    if self._num_particle_types > 1:\n",
        "      particle_type_embeddings = tf.nn.embedding_lookup(\n",
        "          self._particle_type_embedding, particle_types)\n",
        "      node_features.append(particle_type_embeddings)\n",
        "\n",
        "    # Collect edge features.\n",
        "    edge_features = []\n",
        "\n",
        "    # Relative displacement and distances normalized to radius\n",
        "    normalized_relative_displacements = (\n",
        "        tf.gather(most_recent_position, senders) -\n",
        "        tf.gather(most_recent_position, receivers)) / self._connectivity_radius\n",
        "    edge_features.append(normalized_relative_displacements)\n",
        "\n",
        "    normalized_relative_distances = tf.norm(\n",
        "        normalized_relative_displacements, axis=-1, keepdims=True)\n",
        "    edge_features.append(normalized_relative_distances)\n",
        "\n",
        "    # Normalize the global context.\n",
        "    if global_context is not None:\n",
        "      context_stats = self._normalization_stats[\"context\"]\n",
        "      # Context in some datasets are all zero, so add an epsilon for numerical\n",
        "      # stability.\n",
        "      global_context = (global_context - context_stats.mean) / tf.math.maximum(\n",
        "          context_stats.std, STD_EPSILON)\n",
        "      \n",
        "    return gn.graphs.GraphsTuple(\n",
        "        nodes=tf.concat(node_features, axis=-1),\n",
        "        edges=tf.concat(edge_features, axis=-1),\n",
        "        globals=global_context,  # self._graph_net will appending this to nodes.\n",
        "        n_node=n_node,\n",
        "        n_edge=n_edge,\n",
        "        senders=senders,\n",
        "        receivers=receivers,\n",
        "        )\n",
        "\n",
        "  def _decoder_postprocessor(self, normalized_acceleration, position_sequence):\n",
        "\n",
        "    # The model produces the output in normalized space so we apply inverse\n",
        "    # normalization.\n",
        "    accmean = tf.reduce_mean(normalized_acceleration)\n",
        "    accstd = tf.math.reduce_std(normalized_acceleration)\n",
        "    acceleration = (\n",
        "        normalized_acceleration * accstd\n",
        "        ) + accmean\n",
        "\n",
        "    # Use an Euler integrator to go from acceleration to position, assuming\n",
        "    # a dt=1 corresponding to the size of the finite difference.\n",
        "    most_recent_position = position_sequence[-1]\n",
        "    most_recent_velocity = most_recent_position - position_sequence[-2]\n",
        "\n",
        "    new_velocity = most_recent_velocity + acceleration  # * dt = 1\n",
        "    new_position = most_recent_position + new_velocity  # * dt = 1\n",
        "    return new_position, new_velocity\n",
        "\n",
        "  def get_predicted_and_target_normalized_accelerations(\n",
        "      self, next_position, position_sequence_noise, position_sequence, velocity_sequence,\n",
        "      n_particles_per_example, global_context=None, particle_types=None):  # pylint: disable=g-doc-args\n",
        "    \"\"\"Produces normalized and predicted acceleration targets.\n",
        "    Args:\n",
        "      next_position: Tensor of shape [num_particles_in_batch, num_dimensions]\n",
        "        with the positions the model should output given the inputs.\n",
        "      position_sequence_noise: Tensor of the same shape as `position_sequence`\n",
        "        with the noise to apply to each particle.\n",
        "      position_sequence, n_node, global_context, particle_types: Inputs to the\n",
        "        model as defined by `_build`.\n",
        "    Returns:\n",
        "      Tensors of shape [num_particles_in_batch, num_dimensions] with the\n",
        "        predicted and target normalized accelerations.\n",
        "    \"\"\"\n",
        "\n",
        "    # Add noise to the input position sequence.\n",
        "    noisy_position_sequence = position_sequence + position_sequence_noise\n",
        "\n",
        "    # Perform the forward pass with the noisy position sequence.\n",
        "    input_graphs_tuple = self._encoder_preprocessor(\n",
        "        noisy_position_sequence, velocity_sequence, n_particles_per_example, global_context,\n",
        "        particle_types)\n",
        "    predicted_normalized_acceleration = self._graph_network(input_graphs_tuple)\n",
        "\n",
        "    # Calculate the target acceleration, using an `adjusted_next_position `that\n",
        "    # is shifted by the noise in the last input position.\n",
        "\n",
        "    next_position_adjusted = next_position + position_sequence_noise[-1]\n",
        "    target_normalized_acceleration = self._inverse_decoder_postprocessor(\n",
        "        next_position_adjusted, noisy_position_sequence)\n",
        "    # As a result the inverted Euler update in the `_inverse_decoder` produces:\n",
        "    # * A target acceleration that does not explicitly correct for the noise in\n",
        "    #   the input positions, as the `next_position_adjusted` is different\n",
        "    #   from the true `next_position`.\n",
        "    # * A target acceleration that exactly corrects noise in the input velocity\n",
        "    #   since the target next velocity calculated by the inverse Euler update\n",
        "    #   as `next_position_adjusted - noisy_position_sequence[:,-1]`\n",
        "    #   matches the ground truth next velocity (noise cancels out).\n",
        "\n",
        "    return predicted_normalized_acceleration, target_normalized_acceleration\n",
        "\n",
        "  def _inverse_decoder_postprocessor(self, next_position, position_sequence):\n",
        "    \"\"\"Inverse of `_decoder_postprocessor`.\"\"\"\n",
        "\n",
        "    previous_position = position_sequence[-1]\n",
        "    previous_velocity = previous_position - position_sequence[-2]\n",
        "    next_velocity = next_position - previous_position\n",
        "    acceleration = next_velocity - previous_velocity\n",
        "\n",
        "    accmean = tf.reduce_mean(acceleration)\n",
        "    accstd = tf.math.reduce_std(acceleration)\n",
        "    normalized_acceleration = (\n",
        "        acceleration - accmean) / accstd\n",
        "    return normalized_acceleration\n",
        "\n",
        "\n",
        "def time_diff(input_sequence):\n",
        "  return input_sequence[:, 1:] - input_sequence[:, :-1]"
      ],
      "execution_count": 11,
      "outputs": []
    },
    {
      "cell_type": "code",
      "metadata": {
        "id": "6ntN9CfJTROC",
        "cellView": "form"
      },
      "source": [
        "#@title ### noise_utils\n",
        "\n",
        "\n",
        "def get_random_walk_noise_for_position_sequence(\n",
        "    position_sequence, noise_std_last_step):\n",
        "  \"\"\"Returns random-walk noise in the velocity applied to the position.\"\"\"\n",
        "\n",
        "  velocity_sequence = time_diff(position_sequence)\n",
        "\n",
        "  # We want the noise scale in the velocity at the last step to be fixed.\n",
        "  # Because we are going to compose noise at each step using a random_walk:\n",
        "  # std_last_step**2 = num_velocities * std_each_step**2\n",
        "  # so to keep `std_last_step` fixed, we apply at each step:\n",
        "  # std_each_step `std_last_step / np.sqrt(num_input_velocities)`\n",
        "  # TODO(alvarosg): Make sure this is consistent with the value and\n",
        "  # description provided in the paper.\n",
        "  num_velocities = velocity_sequence.shape.as_list()[1]\n",
        "  velocity_sequence_noise = tf.random.normal(\n",
        "      tf.shape(velocity_sequence),\n",
        "      stddev=noise_std_last_step / num_velocities ** 0.5,\n",
        "      dtype=position_sequence.dtype)\n",
        "\n",
        "  # Apply the random walk.\n",
        "  velocity_sequence_noise = tf.cumsum(velocity_sequence_noise, axis=1)\n",
        "\n",
        "  # Integrate the noise in the velocity to the positions, assuming\n",
        "  # an Euler intergrator and a dt = 1, and adding no noise to the very first\n",
        "  # position (since that will only be used to calculate the first position\n",
        "  # change).\n",
        "  position_sequence_noise = tf.concat([\n",
        "      tf.zeros_like(velocity_sequence_noise[:, 0:1]),\n",
        "      tf.cumsum(velocity_sequence_noise, axis=1)], axis=1)\n",
        "  return position_sequence_noise"
      ],
      "execution_count": 12,
      "outputs": []
    },
    {
      "cell_type": "code",
      "metadata": {
        "id": "NKnr3tQGX7pv",
        "cellView": "form"
      },
      "source": [
        "#@title ### reading_utils\n",
        "\n",
        "# Create a description of the features.\n",
        "_FEATURE_DESCRIPTION = {\n",
        "    'pos': tf.io.FixedLenSequenceFeature([timesteps//save_interval, N, 2], tf.string),\n",
        "    'vel': tf.io.FixedLenSequenceFeature([timesteps//save_interval, N, 2], tf.string)\n",
        "}\n",
        "\n",
        "_FEATURE_DESCRIPTION_WITH_GLOBAL_CONTEXT = _FEATURE_DESCRIPTION.copy()\n",
        "_FEATURE_DESCRIPTION_WITH_GLOBAL_CONTEXT['step_context'] = tf.io.VarLenFeature(\n",
        "    tf.string)\n",
        "\n",
        "_FEATURE_DTYPES = {\n",
        "    'pos': {\n",
        "        'in': np.float32,\n",
        "        'out': tf.float32\n",
        "    },\n",
        "    'vel': {\n",
        "        'in': np.float32,\n",
        "        'out': tf.float32\n",
        "    }\n",
        "}\n",
        "\n",
        "_CONTEXT_FEATURES = {\n",
        "    'group_id': tf.io.FixedLenFeature([1],tf.int64)\n",
        "}\n",
        "\n",
        "\n",
        "def convert_to_tensor(x, encoded_dtype):\n",
        "  if len(x) == 1:\n",
        "    out = np.frombuffer(x[0].numpy(), dtype=encoded_dtype)\n",
        "  else:\n",
        "    out = []\n",
        "    for el in x:\n",
        "      out.append(np.frombuffer(el.numpy(), dtype=encoded_dtype))\n",
        "  out = tf.convert_to_tensor(np.array(out))\n",
        "  return out\n",
        "\n",
        "\n",
        "\n",
        "def split_trajectory(context, features, window_length=7):\n",
        "  \"\"\"Splits trajectory into sliding windows.\"\"\"\n",
        "  # Our strategy is to make sure all the leading dimensions are the same size,\n",
        "  # then we can use from_tensor_slices.\n",
        "  \n",
        "  trajectory_length = features['pos'].get_shape().as_list()[0]\n",
        "\n",
        "  # We then stack window_length position changes so the final\n",
        "  # trajectory length will be - window_length +1 (the 1 to make sure we get\n",
        "  # the last split).\n",
        "  input_trajectory_length = trajectory_length - window_length + 1\n",
        "\n",
        "  model_input_features = {}\n",
        "  # Prepare the context features per step.\n",
        "  model_input_features['group_id'] = tf.tile(\n",
        "      tf.expand_dims(context['group_id'], axis=0),\n",
        "      [input_trajectory_length, 1])\n",
        "\n",
        "  if 'step_context' in features:\n",
        "    global_stack = []\n",
        "    for idx in range(input_trajectory_length):\n",
        "      global_stack.append(features['step_context'][idx:idx + window_length])\n",
        "    model_input_features['step_context'] = tf.stack(global_stack)\n",
        "\n",
        "  pos_stack = []\n",
        "  for idx in range(input_trajectory_length):\n",
        "    pos_stack.append(features['pos'][idx:idx + window_length])\n",
        "  # Get the corresponding positions\n",
        "  model_input_features['pos'] = tf.stack(pos_stack)\n",
        "\n",
        "  vel_stack = []\n",
        "  for idx in range(input_trajectory_length):\n",
        "    vel_stack.append(features['vel'][idx:idx + window_length])\n",
        "  # Get the corresponding velocities\n",
        "  model_input_features['vel'] = tf.stack(vel_stack)\n",
        "\n",
        "  return tf.data.Dataset.from_tensor_slices(model_input_features)\n",
        "\n",
        "def print_graphs_tuple(graphs_tuple):\n",
        "  print(\"Shapes of `GraphsTuple`'s fields:\")\n",
        "  print(graphs_tuple.map(lambda x: x if x is None else x.shape, fields=gn.graphs.ALL_FIELDS))\n",
        "  # print(\"\\nData contained in `GraphsTuple`'s fields:\")\n",
        "  # print(\"globals:\\n{}\".format(graphs_tuple.globals))\n",
        "  # print(\"nodes:\\n{}\".format(graphs_tuple.nodes))\n",
        "  # print(\"edges:\\n{}\".format(graphs_tuple.edges))\n",
        "  # print(\"senders:\\n{}\".format(graphs_tuple.senders))\n",
        "  # print(\"receivers:\\n{}\".format(graphs_tuple.receivers))\n",
        "  # print(\"n_node:\\n{}\".format(graphs_tuple.n_node))\n",
        "  # print(\"n_edge:\\n{}\".format(graphs_tuple.n_edge))\n",
        "\n",
        "#print_graphs_tuple(graphs_tuple)"
      ],
      "execution_count": 13,
      "outputs": []
    },
    {
      "cell_type": "markdown",
      "metadata": {
        "id": "q_J2CFR8rljZ"
      },
      "source": [
        "# Preprocessing"
      ]
    },
    {
      "cell_type": "code",
      "metadata": {
        "id": "AYeIwYzirjCM",
        "cellView": "form"
      },
      "source": [
        "#@title ### Colin Code\n",
        "\n",
        "#Create a tf.data.Dataset from the TFRecord.\n",
        "ds = tf.data.TFRecordDataset(['train_datasets/microstates-' + str(i) + '.tfrecords' for i in range(1)])\n",
        "\n",
        "WINDOW_SIZE=7\n",
        "\n",
        "def _parse_record(x):\n",
        "  feature_description = {'group_id': tf.io.FixedLenFeature([], tf.int64),\n",
        "                        'pos': tf.io.FixedLenFeature([], tf.string),\n",
        "                        'vel': tf.io.FixedLenFeature([], tf.string)}\n",
        "  # Parse the input tf.train.Example proto using the dictionary above.\n",
        "  return tf.io.parse_single_example(x, feature_description)\n",
        "\n",
        "def _parse_tensor(x):\n",
        "    output = {'group_id': x['group_id'],\n",
        "                'pos': tf.io.parse_tensor(x['pos'],out_type=tf.float32),\n",
        "                'vel': tf.io.parse_tensor(x['vel'],out_type=tf.float32)}\n",
        "    return output\n",
        "\n",
        "def create_data(ds, WINDOW_SIZE=7):\n",
        "    # map the record to features\n",
        "    ds = ds.map(_parse_record)\n",
        "\n",
        "    # map the features to tensors\n",
        "    ds = ds.map(_parse_tensor)\n",
        "\n",
        "\n",
        "    def make_window_dataset(x):\n",
        "        # make a dataset from the time series tensor\n",
        "        windows = tf.data.Dataset.from_tensor_slices((x['pos'],x['vel']))\n",
        "        #print(windows)\n",
        "        # convert to windows\n",
        "        windows = windows.window(WINDOW_SIZE+1, shift=1, stride=1)\n",
        "        #print(windows)\n",
        "        # take a batch of window size and combine pos, vel to a single dataset\n",
        "        windows = windows.flat_map(lambda pos_ds,vel_ds: tf.data.Dataset.zip((pos_ds.batch(WINDOW_SIZE, drop_remainder=True),vel_ds.batch(WINDOW_SIZE, drop_remainder=True))))\n",
        "        #print(windows)\n",
        "        return windows\n",
        "\n",
        "    # flatten the windowed dataset\n",
        "    ds = ds.flat_map(make_window_dataset)\n",
        "    #print(ds)\n",
        "    ds.shuffle(2000)\n",
        "\n",
        "    def split_targets(x, y, w=7):\n",
        "        inputs = (x[0:w-1], y[0:w-1])\n",
        "        targets = (x[-1], y[-1])\n",
        "        return (inputs, targets)\n",
        "\n",
        "    split_with_window = functools.partial(\n",
        "      split_targets,\n",
        "      w=WINDOW_SIZE)\n",
        "    ds = ds.map(split_with_window)\n",
        "\n",
        "    return ds\n",
        "\n",
        "ds = create_data(ds, WINDOW_SIZE)"
      ],
      "execution_count": 14,
      "outputs": []
    },
    {
      "cell_type": "code",
      "metadata": {
        "id": "VzgGNFysMx35",
        "cellView": "form"
      },
      "source": [
        "#@title ### Preprocessing function\n",
        "\n",
        "interaction_radius = 15.0\n",
        "L = 200\n",
        "def preprocess_data(databatch):\n",
        "    \n",
        "    # node features xpos, ypos, xvel, yvel\n",
        "    # edge features distance, rel angle to receiver\n",
        "    X = databatch['pos']\n",
        "    V = databatch['vel']\n",
        "    \n",
        "    Xx = tf.expand_dims(X[...,0],-1)\n",
        "    dx = -Xx + tf.linalg.matrix_transpose(Xx)\n",
        "    dx = tf.where(dx>0.5*L, dx-L, dx)\n",
        "    dx = tf.where(dx<-0.5*L, dx+L, dx)\n",
        "\n",
        "    Xy = tf.expand_dims(X[...,1],-1)\n",
        "    dy = -Xy + tf.linalg.matrix_transpose(Xy)\n",
        "    dy = tf.where(dy>0.5*L, dy-L, dy)\n",
        "    dy = tf.where(dy<-0.5*L, dy+L, dy)\n",
        "\n",
        "\n",
        "\n",
        "    A = tf.expand_dims(tf.math.atan2(V[...,1],V[...,0]),-1)\n",
        "    angle_to_neigh = tf.math.atan2(dy, dx)\n",
        "\n",
        "    rel_angle_to_neigh = angle_to_neigh - A\n",
        "\n",
        "    dist = tf.math.sqrt(tf.square(dx)+tf.square(dy))\n",
        "\n",
        "    adj_matrix = tf.where(dist<interaction_radius, tf.ones_like(dist,dtype=tf.int32), tf.zeros_like(dist,dtype=tf.int32))\n",
        "    adj_matrix = tf.linalg.set_diag(adj_matrix, tf.zeros(tf.shape(adj_matrix)[:2],dtype=tf.int32))\n",
        "    sender_recv_list = tf.where(adj_matrix)\n",
        "    n_edge = tf.reduce_sum(adj_matrix, axis=[1,2])\n",
        "    n_node = tf.ones_like(n_edge)*tf.shape(adj_matrix)[-1]\n",
        "\n",
        "    senders = sender_recv_list[:,1] + sender_recv_list[:,0]*tf.shape(adj_matrix,out_type=tf.int64)[-1]\n",
        "    receivers = sender_recv_list[:,2] + sender_recv_list[:,0]*tf.shape(adj_matrix,out_type=tf.int64)[-1]\n",
        "\n",
        "\n",
        "    edge_distance = tf.expand_dims(tf.gather_nd(dist,sender_recv_list),-1)\n",
        "    edge_x_distance =  tf.expand_dims(tf.gather_nd(tf.math.cos(rel_angle_to_neigh),sender_recv_list),-1)  # relative to sender heading\n",
        "    edge_y_distance =  tf.expand_dims( tf.gather_nd(tf.math.sin(rel_angle_to_neigh),sender_recv_list),-1)  # relative to sender heading\n",
        "\n",
        "\n",
        "    edges = tf.concat([edge_distance,edge_x_distance,edge_y_distance],axis=-1)\n",
        "\n",
        "    node_positions = tf.reshape(X,(-1,2))\n",
        "    node_velocities = tf.reshape(V,(-1,2))\n",
        "\n",
        "    nodes = tf.concat([node_positions,node_velocities],axis=-1)\n",
        "\n",
        "    gn = graphs.GraphsTuple(nodes=nodes,edges=edges,globals=None,receivers=receivers,senders=senders,n_node=n_node,n_edge=n_edge)\n",
        "    gn = utils_tf.set_zero_global_features(gn,1)\n",
        "    \n",
        "    return gn"
      ],
      "execution_count": 15,
      "outputs": []
    },
    {
      "cell_type": "code",
      "metadata": {
        "id": "AbMPiqZENpAe",
        "cellView": "form"
      },
      "source": [
        "#@title ### More Functions\n",
        "\n",
        "INPUT_SEQUENCE_LENGTH = WINDOW_SIZE-1  # So we can calculate the last 5 velocities.\n",
        "NUM_PARTICLE_TYPES = 1\n",
        "KINEMATIC_PARTICLE_ID = 3\n",
        "\n",
        "batch_size=5\n",
        "\n",
        "metadata = {\"sequence_length\": timesteps//save_interval,\n",
        "            \"dim\": 2,\n",
        "            \"acc_mean\": 1,\n",
        "            \"acc_std\": 1,\n",
        "            \"vel_mean\": 1,\n",
        "            \"vel_std\": 1,\n",
        "            \"default_connectivity_radius\": lali,\n",
        "            \"bounds\": [(0,L), (0,L)]\n",
        "            }\n",
        "\n",
        "def _read_metadata(data_path):\n",
        "    with open(os.path.join(data_path, 'metadata.json'), 'rt') as fp:\n",
        "        return json.loads(fp.read())\n",
        "\n",
        "def prepare_inputs(tensor_dict):\n",
        "  \"\"\"Prepares a single stack of inputs by calculating inputs and targets.\n",
        "\n",
        "  Computes n_particles_per_example, which is a tensor that contains information\n",
        "  about how to partition the axis - i.e. which nodes belong to which graph.\n",
        "\n",
        "  Adds a batch axis to `n_particles_per_example` and `step_context` so they can\n",
        "  later be batched using `batch_concat`. This batch will be the same as if the\n",
        "  elements had been batched via stacking.\n",
        "\n",
        "  Note that all other tensors have a variable size particle axis,\n",
        "  and in this case they will simply be concatenated along that\n",
        "  axis.\n",
        "\n",
        "\n",
        "\n",
        "  Args:\n",
        "    tensor_dict: A dict of tensors containing positions, and step context (\n",
        "    if available).\n",
        "\n",
        "  Returns:\n",
        "    A tuple of input features and target positions.\n",
        "\n",
        "  \"\"\"\n",
        "  # Position is encoded as [sequence_length, num_particles, dim] but the model\n",
        "  # expects [num_particles, sequence_length, dim].\n",
        "  pos = tensor_dict['pos']\n",
        "  pos = pos[tf.newaxis,...]\n",
        "  pos = tf.transpose(pos, perm=[0, 2, 1, 3])\n",
        "\n",
        "  # The target position is the final step of the stack of positions.\n",
        "  target_position = pos[:, :, -1]\n",
        "\n",
        "  # Remove the target from the input.\n",
        "  tensor_dict['pos'] = pos[:, :, :-1]\n",
        "\n",
        "  # Velocity is encoded as [sequence_length, num_particles, dim] but the model\n",
        "  # expects [num_particles, sequence_length, dim].\n",
        "  vel = tensor_dict['vel']\n",
        "  vel = vel[tf.newaxis, ...]\n",
        "  vel = tf.transpose(vel, perm=[0, 2, 1, 3])\n",
        "\n",
        "  # The target position is the final step of the stack of positions.\n",
        "  target_position = vel[:, :, -1]\n",
        "\n",
        "  # Remove the target from the input.\n",
        "  tensor_dict['vel'] = vel[:, :, :-1]\n",
        "\n",
        "  # Compute the number of particles per example.\n",
        "  num_particles = tf.shape(pos)[0]\n",
        "  # Add an extra dimension for stacking via concat.\n",
        "  tensor_dict['n_particles_per_example'] = num_particles[tf.newaxis]\n",
        "\n",
        "  if 'step_context' in tensor_dict:\n",
        "    # Take the input global context. We have a stack of global contexts,\n",
        "    # and we take the penultimate since the final is the target.\n",
        "    tensor_dict['step_context'] = tensor_dict['step_context'][-2]\n",
        "    # Add an extra dimension for stacking via concat.\n",
        "    tensor_dict['step_context'] = tensor_dict['step_context'][tf.newaxis]\n",
        "  return tensor_dict, target_position\n",
        "\n",
        "def prepare_rollout_inputs(context, features):\n",
        "  \"\"\"Prepares an inputs trajectory for rollout.\"\"\"\n",
        "  out_dict = {**context}\n",
        "  # Position is encoded as [sequence_length, num_particles, dim] but the model\n",
        "  # expects [num_particles, sequence_length, dim].\n",
        "  pos = tf.transpose(features['pos'], [1, 0, 2])\n",
        "  # The target position is the final step of the stack of positions.\n",
        "  target_position = pos[:, -1]\n",
        "  # Remove the target from the input.\n",
        "  out_dict['pos'] = pos[:, :-1]\n",
        "\n",
        "  # Compute the number of nodes\n",
        "  out_dict['n_particles_per_example'] = [tf.shape(pos)[0]]\n",
        "  if 'step_context' in features:\n",
        "    out_dict['step_context'] = features['step_context']\n",
        "  out_dict['is_trajectory'] = tf.constant([True], tf.bool)\n",
        "  return out_dict, target_position"
      ],
      "execution_count": 16,
      "outputs": []
    },
    {
      "cell_type": "markdown",
      "metadata": {
        "id": "o51fJ2WOoCc5"
      },
      "source": [
        "# Create and Train Model"
      ]
    },
    {
      "cell_type": "code",
      "metadata": {
        "id": "rUe5GAlNCD2X",
        "cellView": "form"
      },
      "source": [
        "#@title ### Create Model\n",
        "#@markdown loss_fn may be broken - features[0] adds noise to all timesteps\n",
        "\n",
        "noise_std=6.7e-4\n",
        "latent_size=128\n",
        "hidden_size=128\n",
        "hidden_layers=2\n",
        "message_passing_steps=10\n",
        "\n",
        "\"\"\"Gets one step model for training simulation.\"\"\"\n",
        "#metadata = _read_metadata(data_path)\n",
        "model_kwargs = dict(\n",
        "      latent_size=latent_size,\n",
        "      mlp_hidden_size=hidden_size,\n",
        "      mlp_num_hidden_layers=hidden_layers,\n",
        "      num_message_passing_steps=message_passing_steps)\n",
        "def _combine_std(std_x, std_y):\n",
        "  return np.sqrt(std_x**2 + std_y**2)\n",
        "\n",
        "Stats = collections.namedtuple('Stats', ['mean', 'std'])\n",
        "vel_noise_std=noise_std\n",
        "acc_noise_std=noise_std\n",
        "\"\"\"Instantiates the simulator.\"\"\"\n",
        "# Cast statistics to numpy so they are arrays when entering the model.\n",
        "cast = lambda v: np.array(v, dtype=np.float32)\n",
        "acceleration_stats = Stats(cast(metadata['acc_mean']), _combine_std(cast(metadata['acc_std']), acc_noise_std))\n",
        "velocity_stats = Stats(cast(metadata['vel_mean']),_combine_std(cast(metadata['vel_std']), vel_noise_std))\n",
        "normalization_stats = {'acceleration': acceleration_stats, 'velocity': velocity_stats}\n",
        "\n",
        "\n",
        "\n",
        "if 'context_mean' in metadata:\n",
        "    context_stats = Stats(cast(metadata['context_mean']), cast(metadata['context_std']))\n",
        "    normalization_stats['context'] = context_stats\n",
        "\n",
        "\n",
        "simulator = LearnedSimulator(\n",
        "      num_dimensions=metadata['dim'],\n",
        "      connectivity_radius=metadata['default_connectivity_radius'],\n",
        "      graph_network_kwargs=model_kwargs,\n",
        "      boundaries=metadata['bounds'],\n",
        "      num_particle_types=NUM_PARTICLE_TYPES,\n",
        "      normalization_stats=normalization_stats,\n",
        "      particle_type_embedding_size=16)\n",
        "\n",
        "\n",
        "KINEMATIC_PARTICLE_ID = 3\n",
        "def get_kinematic_mask(particle_types):\n",
        "  \"\"\"Returns a boolean mask, set to true for kinematic (obstacle) particles.\"\"\"\n",
        "  return tf.equal(particle_types, KINEMATIC_PARTICLE_ID)\n",
        "\n",
        "#@tf.function\n",
        "def loss_fn(features, labels):\n",
        "    target_next_position = labels[0]\n",
        "    # Sample the noise to add to the inputs to the model during training.\n",
        "    sampled_noise = get_random_walk_noise_for_position_sequence(\n",
        "        features[0], noise_std_last_step=noise_std)\n",
        "    non_kinematic_mask = tf.logical_not(get_kinematic_mask(tf.zeros(N)))\n",
        "    noise_mask = tf.cast(non_kinematic_mask, sampled_noise.dtype)\n",
        "    sampled_noise *= noise_mask[tf.newaxis,:,tf.newaxis]\n",
        "\n",
        "    # Get the predictions and target accelerations.\n",
        "    pred_target = simulator.get_predicted_and_target_normalized_accelerations(\n",
        "        next_position=target_next_position,\n",
        "        position_sequence=features[0],\n",
        "        position_sequence_noise=sampled_noise,\n",
        "        velocity_sequence=features[1],\n",
        "        n_particles_per_example=tf.constant([N]),\n",
        "        particle_types=None,\n",
        "        global_context=None)\n",
        "\n",
        "    pred_acceleration, target_acceleration = pred_target\n",
        "\n",
        "    # Calculate the loss and mask out loss on kinematic particles/\n",
        "    loss = (pred_acceleration - target_acceleration)**2\n",
        "    num_non_kinematic = tf.reduce_sum(tf.cast(non_kinematic_mask, tf.float32))\n",
        "    loss = tf.where(tf.expand_dims(non_kinematic_mask,-1), loss, tf.zeros_like(loss))\n",
        "    loss = tf.reduce_sum(loss) / tf.reduce_sum(num_non_kinematic)\n",
        "    \n",
        "    return loss\n",
        "\n"
      ],
      "execution_count": 17,
      "outputs": []
    },
    {
      "cell_type": "code",
      "metadata": {
        "id": "X8VFYHpFS-6X",
        "colab": {
          "base_uri": "https://localhost:8080/"
        },
        "cellView": "form",
        "outputId": "b6f39ed7-bb40-4b97-f053-1fd47bcbe107"
      },
      "source": [
        "#@title ### Train\n",
        "\n",
        "min_lr = 1e-6\n",
        "lr = tf.keras.optimizers.schedules.ExponentialDecay(initial_learning_rate=1e-4 - min_lr,\n",
        "                                decay_steps=int(5e6),\n",
        "                                decay_rate=0.1) #+ min_lr\n",
        "optimizer = tf.keras.optimizers.Adam(learning_rate=lr)\n",
        "\n",
        "# @tf.function - ideally we'd like to decorate this with tf.function for faster code - but the connectivity utils is written using numpy so will need to be converted to tensorflow code\n",
        "def train_step(x, y):\n",
        "    with tf.GradientTape() as tape:\n",
        "        loss_value = loss_fn(x,y)\n",
        "    grads = tape.gradient(loss_value, simulator.trainable_variables)\n",
        "    optimizer.apply_gradients(zip(grads, simulator.trainable_variables))\n",
        "    return loss_value\n",
        "\n",
        "max_data_points = -1 #Set to -1 to include all data points\n",
        "ds = ds.take(max_data_points)\n",
        "\n",
        "epochs = 2\n",
        "loss_values = np.zeros((epochs, len(list(ds))))\n",
        "for epoch in range(epochs):\n",
        "    print(\"\\nStart of epoch %d\" % (epoch,))\n",
        "\n",
        "    # Iterate over the batches of the dataset.\n",
        "    for step, (x_batch_train, y_batch_train) in tqdm(enumerate(iter(ds)), total=len(list(ds))):\n",
        "        loss_value = train_step(x_batch_train, y_batch_train)\n",
        "        loss_values[epoch, step] = loss_value\n",
        "        # Log every 200 batches.\n",
        "        if step % 200 == 0:\n",
        "            print(\n",
        "                \"Training loss (for one batch) at step %d: %.4f\"\n",
        "                % (step, float(loss_value))\n",
        "            )\n",
        "            print(\"Seen so far: %d samples\" % ((step + 1) * batch_size))"
      ],
      "execution_count": null,
      "outputs": [
        {
          "output_type": "stream",
          "name": "stdout",
          "text": [
            "\n",
            "Start of epoch 0\n"
          ]
        },
        {
          "output_type": "stream",
          "name": "stderr",
          "text": [
            "  0%|          | 1/17266 [00:01<6:00:08,  1.25s/it]"
          ]
        },
        {
          "output_type": "stream",
          "name": "stdout",
          "text": [
            "Training loss (for one batch) at step 0: 3.1273\n",
            "Seen so far: 5 samples\n"
          ]
        },
        {
          "output_type": "stream",
          "name": "stderr",
          "text": [
            "  1%|          | 201/17266 [01:06<2:29:23,  1.90it/s]"
          ]
        },
        {
          "output_type": "stream",
          "name": "stdout",
          "text": [
            "Training loss (for one batch) at step 200: 2.0836\n",
            "Seen so far: 1005 samples\n"
          ]
        },
        {
          "output_type": "stream",
          "name": "stderr",
          "text": [
            "  2%|▏         | 401/17266 [02:11<2:12:38,  2.12it/s]"
          ]
        },
        {
          "output_type": "stream",
          "name": "stdout",
          "text": [
            "Training loss (for one batch) at step 400: 2.2037\n",
            "Seen so far: 2005 samples\n"
          ]
        },
        {
          "output_type": "stream",
          "name": "stderr",
          "text": [
            "  3%|▎         | 601/17266 [03:15<1:55:34,  2.40it/s]"
          ]
        },
        {
          "output_type": "stream",
          "name": "stdout",
          "text": [
            "Training loss (for one batch) at step 600: 2.2531\n",
            "Seen so far: 3005 samples\n"
          ]
        },
        {
          "output_type": "stream",
          "name": "stderr",
          "text": [
            "  5%|▍         | 801/17266 [04:21<1:45:02,  2.61it/s]"
          ]
        },
        {
          "output_type": "stream",
          "name": "stdout",
          "text": [
            "Training loss (for one batch) at step 800: 1.9519\n",
            "Seen so far: 4005 samples\n"
          ]
        },
        {
          "output_type": "stream",
          "name": "stderr",
          "text": [
            "  6%|▌         | 1001/17266 [05:25<1:37:07,  2.79it/s]"
          ]
        },
        {
          "output_type": "stream",
          "name": "stdout",
          "text": [
            "Training loss (for one batch) at step 1000: 2.1377\n",
            "Seen so far: 5005 samples\n"
          ]
        },
        {
          "output_type": "stream",
          "name": "stderr",
          "text": [
            "  7%|▋         | 1201/17266 [06:29<1:25:42,  3.12it/s]"
          ]
        },
        {
          "output_type": "stream",
          "name": "stdout",
          "text": [
            "Training loss (for one batch) at step 1200: 2.8198\n",
            "Seen so far: 6005 samples\n"
          ]
        },
        {
          "output_type": "stream",
          "name": "stderr",
          "text": [
            "  8%|▊         | 1401/17266 [07:32<1:28:50,  2.98it/s]"
          ]
        },
        {
          "output_type": "stream",
          "name": "stdout",
          "text": [
            "Training loss (for one batch) at step 1400: 2.0476\n",
            "Seen so far: 7005 samples\n"
          ]
        },
        {
          "output_type": "stream",
          "name": "stderr",
          "text": [
            "  9%|▉         | 1601/17266 [08:35<1:19:48,  3.27it/s]"
          ]
        },
        {
          "output_type": "stream",
          "name": "stdout",
          "text": [
            "Training loss (for one batch) at step 1600: 1.9061\n",
            "Seen so far: 8005 samples\n"
          ]
        },
        {
          "output_type": "stream",
          "name": "stderr",
          "text": [
            " 10%|█         | 1801/17266 [09:39<1:23:04,  3.10it/s]"
          ]
        },
        {
          "output_type": "stream",
          "name": "stdout",
          "text": [
            "Training loss (for one batch) at step 1800: 2.4440\n",
            "Seen so far: 9005 samples\n"
          ]
        },
        {
          "output_type": "stream",
          "name": "stderr",
          "text": [
            " 12%|█▏        | 2001/17266 [10:43<1:18:21,  3.25it/s]"
          ]
        },
        {
          "output_type": "stream",
          "name": "stdout",
          "text": [
            "Training loss (for one batch) at step 2000: 1.8444\n",
            "Seen so far: 10005 samples\n"
          ]
        },
        {
          "output_type": "stream",
          "name": "stderr",
          "text": [
            " 13%|█▎        | 2201/17266 [11:47<1:18:32,  3.20it/s]"
          ]
        },
        {
          "output_type": "stream",
          "name": "stdout",
          "text": [
            "Training loss (for one batch) at step 2200: 1.9859\n",
            "Seen so far: 11005 samples\n"
          ]
        },
        {
          "output_type": "stream",
          "name": "stderr",
          "text": [
            " 14%|█▍        | 2401/17266 [12:51<1:15:44,  3.27it/s]"
          ]
        },
        {
          "output_type": "stream",
          "name": "stdout",
          "text": [
            "Training loss (for one batch) at step 2400: 2.0277\n",
            "Seen so far: 12005 samples\n"
          ]
        },
        {
          "output_type": "stream",
          "name": "stderr",
          "text": [
            " 15%|█▌        | 2601/17266 [13:55<1:12:54,  3.35it/s]"
          ]
        },
        {
          "output_type": "stream",
          "name": "stdout",
          "text": [
            "Training loss (for one batch) at step 2600: 2.0333\n",
            "Seen so far: 13005 samples\n"
          ]
        },
        {
          "output_type": "stream",
          "name": "stderr",
          "text": [
            " 16%|█▌        | 2801/17266 [14:59<1:10:36,  3.41it/s]"
          ]
        },
        {
          "output_type": "stream",
          "name": "stdout",
          "text": [
            "Training loss (for one batch) at step 2800: 1.9848\n",
            "Seen so far: 14005 samples\n"
          ]
        },
        {
          "output_type": "stream",
          "name": "stderr",
          "text": [
            " 17%|█▋        | 3001/17266 [16:02<1:07:46,  3.51it/s]"
          ]
        },
        {
          "output_type": "stream",
          "name": "stdout",
          "text": [
            "Training loss (for one batch) at step 3000: 1.9763\n",
            "Seen so far: 15005 samples\n"
          ]
        },
        {
          "output_type": "stream",
          "name": "stderr",
          "text": [
            " 19%|█▊        | 3201/17266 [17:06<1:08:10,  3.44it/s]"
          ]
        },
        {
          "output_type": "stream",
          "name": "stdout",
          "text": [
            "Training loss (for one batch) at step 3200: 2.0264\n",
            "Seen so far: 16005 samples\n"
          ]
        },
        {
          "output_type": "stream",
          "name": "stderr",
          "text": [
            " 20%|█▉        | 3401/17266 [18:09<1:06:38,  3.47it/s]"
          ]
        },
        {
          "output_type": "stream",
          "name": "stdout",
          "text": [
            "Training loss (for one batch) at step 3400: 1.9888\n",
            "Seen so far: 17005 samples\n"
          ]
        },
        {
          "output_type": "stream",
          "name": "stderr",
          "text": [
            " 21%|██        | 3601/17266 [19:12<1:06:28,  3.43it/s]"
          ]
        },
        {
          "output_type": "stream",
          "name": "stdout",
          "text": [
            "Training loss (for one batch) at step 3600: 2.0006\n",
            "Seen so far: 18005 samples\n"
          ]
        },
        {
          "output_type": "stream",
          "name": "stderr",
          "text": [
            " 22%|██▏       | 3801/17266 [20:15<1:03:53,  3.51it/s]"
          ]
        },
        {
          "output_type": "stream",
          "name": "stdout",
          "text": [
            "Training loss (for one batch) at step 3800: 1.9842\n",
            "Seen so far: 19005 samples\n"
          ]
        },
        {
          "output_type": "stream",
          "name": "stderr",
          "text": [
            " 23%|██▎       | 4001/17266 [21:20<1:04:55,  3.40it/s]"
          ]
        },
        {
          "output_type": "stream",
          "name": "stdout",
          "text": [
            "Training loss (for one batch) at step 4000: 1.9928\n",
            "Seen so far: 20005 samples\n"
          ]
        },
        {
          "output_type": "stream",
          "name": "stderr",
          "text": [
            " 24%|██▍       | 4201/17266 [22:23<1:02:47,  3.47it/s]"
          ]
        },
        {
          "output_type": "stream",
          "name": "stdout",
          "text": [
            "Training loss (for one batch) at step 4200: 1.9833\n",
            "Seen so far: 21005 samples\n"
          ]
        },
        {
          "output_type": "stream",
          "name": "stderr",
          "text": [
            " 25%|██▌       | 4401/17266 [23:26<1:02:13,  3.45it/s]"
          ]
        },
        {
          "output_type": "stream",
          "name": "stdout",
          "text": [
            "Training loss (for one batch) at step 4400: 1.9796\n",
            "Seen so far: 22005 samples\n"
          ]
        },
        {
          "output_type": "stream",
          "name": "stderr",
          "text": [
            " 27%|██▋       | 4601/17266 [24:31<1:01:49,  3.41it/s]"
          ]
        },
        {
          "output_type": "stream",
          "name": "stdout",
          "text": [
            "Training loss (for one batch) at step 4600: 2.0319\n",
            "Seen so far: 23005 samples\n"
          ]
        },
        {
          "output_type": "stream",
          "name": "stderr",
          "text": [
            " 28%|██▊       | 4801/17266 [25:36<1:00:38,  3.43it/s]"
          ]
        },
        {
          "output_type": "stream",
          "name": "stdout",
          "text": [
            "Training loss (for one batch) at step 4800: 2.0504\n",
            "Seen so far: 24005 samples\n"
          ]
        },
        {
          "output_type": "stream",
          "name": "stderr",
          "text": [
            " 29%|██▉       | 5001/17266 [26:40<57:10,  3.58it/s]"
          ]
        },
        {
          "output_type": "stream",
          "name": "stdout",
          "text": [
            "Training loss (for one batch) at step 5000: 1.9930\n",
            "Seen so far: 25005 samples\n"
          ]
        },
        {
          "output_type": "stream",
          "name": "stderr",
          "text": [
            " 30%|███       | 5201/17266 [27:44<56:41,  3.55it/s]"
          ]
        },
        {
          "output_type": "stream",
          "name": "stdout",
          "text": [
            "Training loss (for one batch) at step 5200: 2.0280\n",
            "Seen so far: 26005 samples\n"
          ]
        },
        {
          "output_type": "stream",
          "name": "stderr",
          "text": [
            " 31%|███▏      | 5401/17266 [28:48<56:23,  3.51it/s]"
          ]
        },
        {
          "output_type": "stream",
          "name": "stdout",
          "text": [
            "Training loss (for one batch) at step 5400: 1.9923\n",
            "Seen so far: 27005 samples\n"
          ]
        },
        {
          "output_type": "stream",
          "name": "stderr",
          "text": [
            " 32%|███▏      | 5601/17266 [29:51<54:20,  3.58it/s]"
          ]
        },
        {
          "output_type": "stream",
          "name": "stdout",
          "text": [
            "Training loss (for one batch) at step 5600: 2.0005\n",
            "Seen so far: 28005 samples\n"
          ]
        },
        {
          "output_type": "stream",
          "name": "stderr",
          "text": [
            " 34%|███▎      | 5801/17266 [30:55<52:22,  3.65it/s]"
          ]
        },
        {
          "output_type": "stream",
          "name": "stdout",
          "text": [
            "Training loss (for one batch) at step 5800: 2.0010\n",
            "Seen so far: 29005 samples\n"
          ]
        },
        {
          "output_type": "stream",
          "name": "stderr",
          "text": [
            " 35%|███▍      | 6001/17266 [32:02<53:06,  3.54it/s]"
          ]
        },
        {
          "output_type": "stream",
          "name": "stdout",
          "text": [
            "Training loss (for one batch) at step 6000: 2.0016\n",
            "Seen so far: 30005 samples\n"
          ]
        },
        {
          "output_type": "stream",
          "name": "stderr",
          "text": [
            " 36%|███▌      | 6201/17266 [33:06<51:30,  3.58it/s]"
          ]
        },
        {
          "output_type": "stream",
          "name": "stdout",
          "text": [
            "Training loss (for one batch) at step 6200: 2.0014\n",
            "Seen so far: 31005 samples\n"
          ]
        },
        {
          "output_type": "stream",
          "name": "stderr",
          "text": [
            " 37%|███▋      | 6401/17266 [34:11<49:43,  3.64it/s]"
          ]
        },
        {
          "output_type": "stream",
          "name": "stdout",
          "text": [
            "Training loss (for one batch) at step 6400: 2.0001\n",
            "Seen so far: 32005 samples\n"
          ]
        },
        {
          "output_type": "stream",
          "name": "stderr",
          "text": [
            " 38%|███▊      | 6601/17266 [35:15<1:36:44,  1.84it/s]"
          ]
        },
        {
          "output_type": "stream",
          "name": "stdout",
          "text": [
            "Training loss (for one batch) at step 6600: 1.9925\n",
            "Seen so far: 33005 samples\n"
          ]
        },
        {
          "output_type": "stream",
          "name": "stderr",
          "text": [
            " 39%|███▉      | 6801/17266 [36:24<1:33:59,  1.86it/s]"
          ]
        },
        {
          "output_type": "stream",
          "name": "stdout",
          "text": [
            "Training loss (for one batch) at step 6800: 1.9942\n",
            "Seen so far: 34005 samples\n"
          ]
        },
        {
          "output_type": "stream",
          "name": "stderr",
          "text": [
            " 41%|████      | 7001/17266 [37:29<1:20:32,  2.12it/s]"
          ]
        },
        {
          "output_type": "stream",
          "name": "stdout",
          "text": [
            "Training loss (for one batch) at step 7000: 2.1795\n",
            "Seen so far: 35005 samples\n"
          ]
        },
        {
          "output_type": "stream",
          "name": "stderr",
          "text": [
            " 42%|████▏     | 7201/17266 [38:35<1:15:15,  2.23it/s]"
          ]
        },
        {
          "output_type": "stream",
          "name": "stdout",
          "text": [
            "Training loss (for one batch) at step 7200: 2.0087\n",
            "Seen so far: 36005 samples\n"
          ]
        },
        {
          "output_type": "stream",
          "name": "stderr",
          "text": [
            " 43%|████▎     | 7401/17266 [39:41<58:24,  2.82it/s]"
          ]
        },
        {
          "output_type": "stream",
          "name": "stdout",
          "text": [
            "Training loss (for one batch) at step 7400: 1.9956\n",
            "Seen so far: 37005 samples\n"
          ]
        },
        {
          "output_type": "stream",
          "name": "stderr",
          "text": [
            " 44%|████▍     | 7601/17266 [40:44<52:30,  3.07it/s]"
          ]
        },
        {
          "output_type": "stream",
          "name": "stdout",
          "text": [
            "Training loss (for one batch) at step 7600: 2.0027\n",
            "Seen so far: 38005 samples\n"
          ]
        },
        {
          "output_type": "stream",
          "name": "stderr",
          "text": [
            " 45%|████▌     | 7801/17266 [41:48<50:04,  3.15it/s]"
          ]
        },
        {
          "output_type": "stream",
          "name": "stdout",
          "text": [
            "Training loss (for one batch) at step 7800: 2.0005\n",
            "Seen so far: 39005 samples\n"
          ]
        },
        {
          "output_type": "stream",
          "name": "stderr",
          "text": [
            " 46%|████▋     | 8001/17266 [42:55<50:53,  3.03it/s]"
          ]
        },
        {
          "output_type": "stream",
          "name": "stdout",
          "text": [
            "Training loss (for one batch) at step 8000: 2.0049\n",
            "Seen so far: 40005 samples\n"
          ]
        },
        {
          "output_type": "stream",
          "name": "stderr",
          "text": [
            " 47%|████▋     | 8201/17266 [44:00<46:41,  3.24it/s]"
          ]
        },
        {
          "output_type": "stream",
          "name": "stdout",
          "text": [
            "Training loss (for one batch) at step 8200: 1.9988\n",
            "Seen so far: 41005 samples\n"
          ]
        },
        {
          "output_type": "stream",
          "name": "stderr",
          "text": [
            " 49%|████▊     | 8401/17266 [45:05<46:12,  3.20it/s]"
          ]
        },
        {
          "output_type": "stream",
          "name": "stdout",
          "text": [
            "Training loss (for one batch) at step 8400: 2.0000\n",
            "Seen so far: 42005 samples\n"
          ]
        },
        {
          "output_type": "stream",
          "name": "stderr",
          "text": [
            " 50%|████▉     | 8601/17266 [46:12<45:55,  3.14it/s]"
          ]
        },
        {
          "output_type": "stream",
          "name": "stdout",
          "text": [
            "Training loss (for one batch) at step 8600: 1.9995\n",
            "Seen so far: 43005 samples\n"
          ]
        },
        {
          "output_type": "stream",
          "name": "stderr",
          "text": [
            " 51%|█████     | 8801/17266 [47:18<43:17,  3.26it/s]"
          ]
        },
        {
          "output_type": "stream",
          "name": "stdout",
          "text": [
            "Training loss (for one batch) at step 8800: 1.9976\n",
            "Seen so far: 44005 samples\n"
          ]
        },
        {
          "output_type": "stream",
          "name": "stderr",
          "text": [
            " 52%|█████▏    | 9001/17266 [48:23<42:48,  3.22it/s]"
          ]
        },
        {
          "output_type": "stream",
          "name": "stdout",
          "text": [
            "Training loss (for one batch) at step 9000: 1.9985\n",
            "Seen so far: 45005 samples\n"
          ]
        },
        {
          "output_type": "stream",
          "name": "stderr",
          "text": [
            " 53%|█████▎    | 9201/17266 [49:28<41:35,  3.23it/s]"
          ]
        },
        {
          "output_type": "stream",
          "name": "stdout",
          "text": [
            "Training loss (for one batch) at step 9200: 2.0040\n",
            "Seen so far: 46005 samples\n"
          ]
        },
        {
          "output_type": "stream",
          "name": "stderr",
          "text": [
            " 54%|█████▍    | 9401/17266 [50:35<41:02,  3.19it/s]"
          ]
        },
        {
          "output_type": "stream",
          "name": "stdout",
          "text": [
            "Training loss (for one batch) at step 9400: 2.0007\n",
            "Seen so far: 47005 samples\n"
          ]
        },
        {
          "output_type": "stream",
          "name": "stderr",
          "text": [
            " 56%|█████▌    | 9601/17266 [51:40<37:26,  3.41it/s]"
          ]
        },
        {
          "output_type": "stream",
          "name": "stdout",
          "text": [
            "Training loss (for one batch) at step 9600: 1.9957\n",
            "Seen so far: 48005 samples\n"
          ]
        },
        {
          "output_type": "stream",
          "name": "stderr",
          "text": [
            " 57%|█████▋    | 9801/17266 [52:44<36:32,  3.41it/s]"
          ]
        },
        {
          "output_type": "stream",
          "name": "stdout",
          "text": [
            "Training loss (for one batch) at step 9800: 2.0126\n",
            "Seen so far: 49005 samples\n"
          ]
        },
        {
          "output_type": "stream",
          "name": "stderr",
          "text": [
            " 58%|█████▊    | 10001/17266 [53:48<35:30,  3.41it/s]"
          ]
        },
        {
          "output_type": "stream",
          "name": "stdout",
          "text": [
            "Training loss (for one batch) at step 10000: 2.0081\n",
            "Seen so far: 50005 samples\n"
          ]
        },
        {
          "output_type": "stream",
          "name": "stderr",
          "text": [
            " 59%|█████▉    | 10201/17266 [54:53<34:55,  3.37it/s]"
          ]
        },
        {
          "output_type": "stream",
          "name": "stdout",
          "text": [
            "Training loss (for one batch) at step 10200: 1.9962\n",
            "Seen so far: 51005 samples\n"
          ]
        },
        {
          "output_type": "stream",
          "name": "stderr",
          "text": [
            " 60%|██████    | 10401/17266 [55:58<32:46,  3.49it/s]"
          ]
        },
        {
          "output_type": "stream",
          "name": "stdout",
          "text": [
            "Training loss (for one batch) at step 10400: 2.0022\n",
            "Seen so far: 52005 samples\n"
          ]
        },
        {
          "output_type": "stream",
          "name": "stderr",
          "text": [
            " 61%|██████▏   | 10601/17266 [57:02<32:47,  3.39it/s]"
          ]
        },
        {
          "output_type": "stream",
          "name": "stdout",
          "text": [
            "Training loss (for one batch) at step 10600: 2.0029\n",
            "Seen so far: 53005 samples\n"
          ]
        },
        {
          "output_type": "stream",
          "name": "stderr",
          "text": [
            " 63%|██████▎   | 10801/17266 [58:08<33:29,  3.22it/s]"
          ]
        },
        {
          "output_type": "stream",
          "name": "stdout",
          "text": [
            "Training loss (for one batch) at step 10800: 1.9997\n",
            "Seen so far: 54005 samples\n"
          ]
        },
        {
          "output_type": "stream",
          "name": "stderr",
          "text": [
            " 64%|██████▎   | 11001/17266 [59:16<31:43,  3.29it/s]"
          ]
        },
        {
          "output_type": "stream",
          "name": "stdout",
          "text": [
            "Training loss (for one batch) at step 11000: 2.0057\n",
            "Seen so far: 55005 samples\n"
          ]
        },
        {
          "output_type": "stream",
          "name": "stderr",
          "text": [
            " 65%|██████▍   | 11201/17266 [1:00:22<29:23,  3.44it/s]"
          ]
        },
        {
          "output_type": "stream",
          "name": "stdout",
          "text": [
            "Training loss (for one batch) at step 11200: 2.0153\n",
            "Seen so far: 56005 samples\n"
          ]
        },
        {
          "output_type": "stream",
          "name": "stderr",
          "text": [
            " 66%|██████▌   | 11401/17266 [1:01:28<27:37,  3.54it/s]"
          ]
        },
        {
          "output_type": "stream",
          "name": "stdout",
          "text": [
            "Training loss (for one batch) at step 11400: 2.0146\n",
            "Seen so far: 57005 samples\n"
          ]
        },
        {
          "output_type": "stream",
          "name": "stderr",
          "text": [
            " 67%|██████▋   | 11601/17266 [1:02:31<26:40,  3.54it/s]"
          ]
        },
        {
          "output_type": "stream",
          "name": "stdout",
          "text": [
            "Training loss (for one batch) at step 11600: 1.9873\n",
            "Seen so far: 58005 samples\n"
          ]
        },
        {
          "output_type": "stream",
          "name": "stderr",
          "text": [
            " 68%|██████▊   | 11801/17266 [1:03:34<25:23,  3.59it/s]"
          ]
        },
        {
          "output_type": "stream",
          "name": "stdout",
          "text": [
            "Training loss (for one batch) at step 11800: 1.9976\n",
            "Seen so far: 59005 samples\n"
          ]
        },
        {
          "output_type": "stream",
          "name": "stderr",
          "text": [
            " 70%|██████▉   | 12001/17266 [1:04:38<23:48,  3.68it/s]"
          ]
        },
        {
          "output_type": "stream",
          "name": "stdout",
          "text": [
            "Training loss (for one batch) at step 12000: 1.9931\n",
            "Seen so far: 60005 samples\n"
          ]
        },
        {
          "output_type": "stream",
          "name": "stderr",
          "text": [
            " 71%|███████   | 12201/17266 [1:05:41<23:39,  3.57it/s]"
          ]
        },
        {
          "output_type": "stream",
          "name": "stdout",
          "text": [
            "Training loss (for one batch) at step 12200: 1.9983\n",
            "Seen so far: 61005 samples\n"
          ]
        },
        {
          "output_type": "stream",
          "name": "stderr",
          "text": [
            " 72%|███████▏  | 12401/17266 [1:06:47<22:57,  3.53it/s]"
          ]
        },
        {
          "output_type": "stream",
          "name": "stdout",
          "text": [
            "Training loss (for one batch) at step 12400: 1.9987\n",
            "Seen so far: 62005 samples\n"
          ]
        },
        {
          "output_type": "stream",
          "name": "stderr",
          "text": [
            " 73%|███████▎  | 12601/17266 [1:07:55<23:13,  3.35it/s]"
          ]
        },
        {
          "output_type": "stream",
          "name": "stdout",
          "text": [
            "Training loss (for one batch) at step 12600: 1.9989\n",
            "Seen so far: 63005 samples\n"
          ]
        },
        {
          "output_type": "stream",
          "name": "stderr",
          "text": [
            " 74%|███████▍  | 12801/17266 [1:09:00<21:23,  3.48it/s]"
          ]
        },
        {
          "output_type": "stream",
          "name": "stdout",
          "text": [
            "Training loss (for one batch) at step 12800: 2.0013\n",
            "Seen so far: 64005 samples\n"
          ]
        },
        {
          "output_type": "stream",
          "name": "stderr",
          "text": [
            " 75%|███████▌  | 13001/17266 [1:10:05<33:35,  2.12it/s]"
          ]
        },
        {
          "output_type": "stream",
          "name": "stdout",
          "text": [
            "Training loss (for one batch) at step 13000: 1.9907\n",
            "Seen so far: 65005 samples\n"
          ]
        },
        {
          "output_type": "stream",
          "name": "stderr",
          "text": [
            " 76%|███████▋  | 13201/17266 [1:11:12<37:41,  1.80it/s]"
          ]
        },
        {
          "output_type": "stream",
          "name": "stdout",
          "text": [
            "Training loss (for one batch) at step 13200: 2.0045\n",
            "Seen so far: 66005 samples\n"
          ]
        },
        {
          "output_type": "stream",
          "name": "stderr",
          "text": [
            " 78%|███████▊  | 13401/17266 [1:12:18<29:43,  2.17it/s]"
          ]
        },
        {
          "output_type": "stream",
          "name": "stdout",
          "text": [
            "Training loss (for one batch) at step 13400: 1.9995\n",
            "Seen so far: 67005 samples\n"
          ]
        },
        {
          "output_type": "stream",
          "name": "stderr",
          "text": [
            " 79%|███████▉  | 13601/17266 [1:13:23<27:24,  2.23it/s]"
          ]
        },
        {
          "output_type": "stream",
          "name": "stdout",
          "text": [
            "Training loss (for one batch) at step 13600: 1.9976\n",
            "Seen so far: 68005 samples\n"
          ]
        },
        {
          "output_type": "stream",
          "name": "stderr",
          "text": [
            " 80%|███████▉  | 13801/17266 [1:14:30<23:03,  2.50it/s]"
          ]
        },
        {
          "output_type": "stream",
          "name": "stdout",
          "text": [
            "Training loss (for one batch) at step 13800: 2.0034\n",
            "Seen so far: 69005 samples\n"
          ]
        },
        {
          "output_type": "stream",
          "name": "stderr",
          "text": [
            " 81%|████████  | 14001/17266 [1:15:35<18:21,  2.96it/s]"
          ]
        },
        {
          "output_type": "stream",
          "name": "stdout",
          "text": [
            "Training loss (for one batch) at step 14000: 1.9994\n",
            "Seen so far: 70005 samples\n"
          ]
        },
        {
          "output_type": "stream",
          "name": "stderr",
          "text": [
            " 82%|████████▏ | 14201/17266 [1:16:39<17:26,  2.93it/s]"
          ]
        },
        {
          "output_type": "stream",
          "name": "stdout",
          "text": [
            "Training loss (for one batch) at step 14200: 2.0016\n",
            "Seen so far: 71005 samples\n"
          ]
        },
        {
          "output_type": "stream",
          "name": "stderr",
          "text": [
            " 83%|████████▎ | 14401/17266 [1:17:44<15:21,  3.11it/s]"
          ]
        },
        {
          "output_type": "stream",
          "name": "stdout",
          "text": [
            "Training loss (for one batch) at step 14400: 1.9973\n",
            "Seen so far: 72005 samples\n"
          ]
        },
        {
          "output_type": "stream",
          "name": "stderr",
          "text": [
            " 85%|████████▍ | 14601/17266 [1:18:48<13:44,  3.23it/s]"
          ]
        },
        {
          "output_type": "stream",
          "name": "stdout",
          "text": [
            "Training loss (for one batch) at step 14600: 1.9944\n",
            "Seen so far: 73005 samples\n"
          ]
        },
        {
          "output_type": "stream",
          "name": "stderr",
          "text": [
            " 86%|████████▌ | 14801/17266 [1:19:52<12:52,  3.19it/s]"
          ]
        },
        {
          "output_type": "stream",
          "name": "stdout",
          "text": [
            "Training loss (for one batch) at step 14800: 2.0001\n",
            "Seen so far: 74005 samples\n"
          ]
        },
        {
          "output_type": "stream",
          "name": "stderr",
          "text": [
            " 87%|████████▋ | 15001/17266 [1:20:57<11:44,  3.22it/s]"
          ]
        },
        {
          "output_type": "stream",
          "name": "stdout",
          "text": [
            "Training loss (for one batch) at step 15000: 1.9982\n",
            "Seen so far: 75005 samples\n"
          ]
        },
        {
          "output_type": "stream",
          "name": "stderr",
          "text": [
            " 88%|████████▊ | 15201/17266 [1:22:03<11:19,  3.04it/s]"
          ]
        },
        {
          "output_type": "stream",
          "name": "stdout",
          "text": [
            "Training loss (for one batch) at step 15200: 1.9977\n",
            "Seen so far: 76005 samples\n"
          ]
        },
        {
          "output_type": "stream",
          "name": "stderr",
          "text": [
            " 89%|████████▉ | 15401/17266 [1:23:09<09:20,  3.33it/s]"
          ]
        },
        {
          "output_type": "stream",
          "name": "stdout",
          "text": [
            "Training loss (for one batch) at step 15400: 2.0047\n",
            "Seen so far: 77005 samples\n"
          ]
        },
        {
          "output_type": "stream",
          "name": "stderr",
          "text": [
            " 90%|█████████ | 15601/17266 [1:24:11<08:22,  3.31it/s]"
          ]
        },
        {
          "output_type": "stream",
          "name": "stdout",
          "text": [
            "Training loss (for one batch) at step 15600: 2.0042\n",
            "Seen so far: 78005 samples\n"
          ]
        },
        {
          "output_type": "stream",
          "name": "stderr",
          "text": [
            " 92%|█████████▏| 15801/17266 [1:25:16<07:02,  3.47it/s]"
          ]
        },
        {
          "output_type": "stream",
          "name": "stdout",
          "text": [
            "Training loss (for one batch) at step 15800: 2.0009\n",
            "Seen so far: 79005 samples\n"
          ]
        },
        {
          "output_type": "stream",
          "name": "stderr",
          "text": [
            " 93%|█████████▎| 16001/17266 [1:26:20<06:02,  3.49it/s]"
          ]
        },
        {
          "output_type": "stream",
          "name": "stdout",
          "text": [
            "Training loss (for one batch) at step 16000: 1.9917\n",
            "Seen so far: 80005 samples\n"
          ]
        },
        {
          "output_type": "stream",
          "name": "stderr",
          "text": [
            " 94%|█████████▍| 16201/17266 [1:27:25<05:14,  3.38it/s]"
          ]
        },
        {
          "output_type": "stream",
          "name": "stdout",
          "text": [
            "Training loss (for one batch) at step 16200: 2.0057\n",
            "Seen so far: 81005 samples\n"
          ]
        },
        {
          "output_type": "stream",
          "name": "stderr",
          "text": [
            " 95%|█████████▍| 16401/17266 [1:28:29<04:12,  3.43it/s]"
          ]
        },
        {
          "output_type": "stream",
          "name": "stdout",
          "text": [
            "Training loss (for one batch) at step 16400: 2.0032\n",
            "Seen so far: 82005 samples\n"
          ]
        },
        {
          "output_type": "stream",
          "name": "stderr",
          "text": [
            " 96%|█████████▌| 16601/17266 [1:29:35<03:20,  3.31it/s]"
          ]
        },
        {
          "output_type": "stream",
          "name": "stdout",
          "text": [
            "Training loss (for one batch) at step 16600: 2.0016\n",
            "Seen so far: 83005 samples\n"
          ]
        },
        {
          "output_type": "stream",
          "name": "stderr",
          "text": [
            " 97%|█████████▋| 16801/17266 [1:30:41<02:16,  3.41it/s]"
          ]
        },
        {
          "output_type": "stream",
          "name": "stdout",
          "text": [
            "Training loss (for one batch) at step 16800: 1.9951\n",
            "Seen so far: 84005 samples\n"
          ]
        },
        {
          "output_type": "stream",
          "name": "stderr",
          "text": [
            " 98%|█████████▊| 17001/17266 [1:31:48<01:17,  3.44it/s]"
          ]
        },
        {
          "output_type": "stream",
          "name": "stdout",
          "text": [
            "Training loss (for one batch) at step 17000: 1.9914\n",
            "Seen so far: 85005 samples\n"
          ]
        },
        {
          "output_type": "stream",
          "name": "stderr",
          "text": [
            "100%|█████████▉| 17201/17266 [1:32:52<00:19,  3.38it/s]"
          ]
        },
        {
          "output_type": "stream",
          "name": "stdout",
          "text": [
            "Training loss (for one batch) at step 17200: 1.9885\n",
            "Seen so far: 86005 samples\n"
          ]
        },
        {
          "output_type": "stream",
          "name": "stderr",
          "text": [
            "100%|██████████| 17266/17266 [1:33:11<00:00,  3.09it/s]\n"
          ]
        },
        {
          "output_type": "stream",
          "name": "stdout",
          "text": [
            "\n",
            "Start of epoch 1\n"
          ]
        },
        {
          "output_type": "stream",
          "name": "stderr",
          "text": [
            "  0%|          | 1/17266 [00:00<3:04:22,  1.56it/s]"
          ]
        },
        {
          "output_type": "stream",
          "name": "stdout",
          "text": [
            "Training loss (for one batch) at step 0: 1.9992\n",
            "Seen so far: 5 samples\n"
          ]
        },
        {
          "output_type": "stream",
          "name": "stderr",
          "text": [
            "  1%|          | 201/17266 [01:12<2:48:17,  1.69it/s]"
          ]
        },
        {
          "output_type": "stream",
          "name": "stdout",
          "text": [
            "Training loss (for one batch) at step 200: 2.0053\n",
            "Seen so far: 1005 samples\n"
          ]
        },
        {
          "output_type": "stream",
          "name": "stderr",
          "text": [
            "  2%|▏         | 401/17266 [02:23<2:25:49,  1.93it/s]"
          ]
        },
        {
          "output_type": "stream",
          "name": "stdout",
          "text": [
            "Training loss (for one batch) at step 400: 1.9912\n",
            "Seen so far: 2005 samples\n"
          ]
        },
        {
          "output_type": "stream",
          "name": "stderr",
          "text": [
            "  3%|▎         | 601/17266 [03:33<2:02:20,  2.27it/s]"
          ]
        },
        {
          "output_type": "stream",
          "name": "stdout",
          "text": [
            "Training loss (for one batch) at step 600: 1.9885\n",
            "Seen so far: 3005 samples\n"
          ]
        },
        {
          "output_type": "stream",
          "name": "stderr",
          "text": [
            "  5%|▍         | 801/17266 [04:37<1:39:45,  2.75it/s]"
          ]
        },
        {
          "output_type": "stream",
          "name": "stdout",
          "text": [
            "Training loss (for one batch) at step 800: 2.0024\n",
            "Seen so far: 4005 samples\n"
          ]
        },
        {
          "output_type": "stream",
          "name": "stderr",
          "text": [
            "  6%|▌         | 1001/17266 [05:42<1:39:31,  2.72it/s]"
          ]
        },
        {
          "output_type": "stream",
          "name": "stdout",
          "text": [
            "Training loss (for one batch) at step 1000: 1.9961\n",
            "Seen so far: 5005 samples\n"
          ]
        },
        {
          "output_type": "stream",
          "name": "stderr",
          "text": [
            "  7%|▋         | 1201/17266 [06:47<1:27:10,  3.07it/s]"
          ]
        },
        {
          "output_type": "stream",
          "name": "stdout",
          "text": [
            "Training loss (for one batch) at step 1200: 1.9900\n",
            "Seen so far: 6005 samples\n"
          ]
        },
        {
          "output_type": "stream",
          "name": "stderr",
          "text": [
            "  8%|▊         | 1401/17266 [07:50<1:26:39,  3.05it/s]"
          ]
        },
        {
          "output_type": "stream",
          "name": "stdout",
          "text": [
            "Training loss (for one batch) at step 1400: 1.9989\n",
            "Seen so far: 7005 samples\n"
          ]
        },
        {
          "output_type": "stream",
          "name": "stderr",
          "text": [
            "  9%|▉         | 1601/17266 [08:53<1:21:35,  3.20it/s]"
          ]
        },
        {
          "output_type": "stream",
          "name": "stdout",
          "text": [
            "Training loss (for one batch) at step 1600: 2.0027\n",
            "Seen so far: 8005 samples\n"
          ]
        },
        {
          "output_type": "stream",
          "name": "stderr",
          "text": [
            " 10%|█         | 1801/17266 [09:56<1:21:41,  3.16it/s]"
          ]
        },
        {
          "output_type": "stream",
          "name": "stdout",
          "text": [
            "Training loss (for one batch) at step 1800: 1.9944\n",
            "Seen so far: 9005 samples\n"
          ]
        },
        {
          "output_type": "stream",
          "name": "stderr",
          "text": [
            " 12%|█▏        | 2001/17266 [11:01<1:20:44,  3.15it/s]"
          ]
        },
        {
          "output_type": "stream",
          "name": "stdout",
          "text": [
            "Training loss (for one batch) at step 2000: 1.9967\n",
            "Seen so far: 10005 samples\n"
          ]
        },
        {
          "output_type": "stream",
          "name": "stderr",
          "text": [
            " 13%|█▎        | 2201/17266 [12:07<1:19:41,  3.15it/s]"
          ]
        },
        {
          "output_type": "stream",
          "name": "stdout",
          "text": [
            "Training loss (for one batch) at step 2200: 2.0053\n",
            "Seen so far: 11005 samples\n"
          ]
        },
        {
          "output_type": "stream",
          "name": "stderr",
          "text": [
            " 14%|█▍        | 2401/17266 [13:10<1:12:56,  3.40it/s]"
          ]
        },
        {
          "output_type": "stream",
          "name": "stdout",
          "text": [
            "Training loss (for one batch) at step 2400: 2.0015\n",
            "Seen so far: 12005 samples\n"
          ]
        },
        {
          "output_type": "stream",
          "name": "stderr",
          "text": [
            " 15%|█▌        | 2601/17266 [14:14<1:13:12,  3.34it/s]"
          ]
        },
        {
          "output_type": "stream",
          "name": "stdout",
          "text": [
            "Training loss (for one batch) at step 2600: 2.0004\n",
            "Seen so far: 13005 samples\n"
          ]
        },
        {
          "output_type": "stream",
          "name": "stderr",
          "text": [
            " 16%|█▌        | 2801/17266 [15:20<1:14:17,  3.24it/s]"
          ]
        },
        {
          "output_type": "stream",
          "name": "stdout",
          "text": [
            "Training loss (for one batch) at step 2800: 2.0048\n",
            "Seen so far: 14005 samples\n"
          ]
        },
        {
          "output_type": "stream",
          "name": "stderr",
          "text": [
            " 17%|█▋        | 3001/17266 [16:26<1:09:38,  3.41it/s]"
          ]
        },
        {
          "output_type": "stream",
          "name": "stdout",
          "text": [
            "Training loss (for one batch) at step 3000: 2.0022\n",
            "Seen so far: 15005 samples\n"
          ]
        },
        {
          "output_type": "stream",
          "name": "stderr",
          "text": [
            " 19%|█▊        | 3201/17266 [17:31<1:11:19,  3.29it/s]"
          ]
        },
        {
          "output_type": "stream",
          "name": "stdout",
          "text": [
            "Training loss (for one batch) at step 3200: 2.0002\n",
            "Seen so far: 16005 samples\n"
          ]
        },
        {
          "output_type": "stream",
          "name": "stderr",
          "text": [
            " 20%|█▉        | 3401/17266 [18:35<1:06:38,  3.47it/s]"
          ]
        },
        {
          "output_type": "stream",
          "name": "stdout",
          "text": [
            "Training loss (for one batch) at step 3400: 1.9951\n",
            "Seen so far: 17005 samples\n"
          ]
        },
        {
          "output_type": "stream",
          "name": "stderr",
          "text": [
            " 21%|██        | 3601/17266 [19:40<1:12:17,  3.15it/s]"
          ]
        },
        {
          "output_type": "stream",
          "name": "stdout",
          "text": [
            "Training loss (for one batch) at step 3600: 1.9993\n",
            "Seen so far: 18005 samples\n"
          ]
        },
        {
          "output_type": "stream",
          "name": "stderr",
          "text": [
            " 22%|██▏       | 3801/17266 [20:46<1:08:27,  3.28it/s]"
          ]
        },
        {
          "output_type": "stream",
          "name": "stdout",
          "text": [
            "Training loss (for one batch) at step 3800: 1.9921\n",
            "Seen so far: 19005 samples\n"
          ]
        },
        {
          "output_type": "stream",
          "name": "stderr",
          "text": [
            " 23%|██▎       | 4001/17266 [21:50<1:03:18,  3.49it/s]"
          ]
        },
        {
          "output_type": "stream",
          "name": "stdout",
          "text": [
            "Training loss (for one batch) at step 4000: 2.0007\n",
            "Seen so far: 20005 samples\n"
          ]
        },
        {
          "output_type": "stream",
          "name": "stderr",
          "text": [
            " 24%|██▍       | 4201/17266 [22:54<1:03:46,  3.41it/s]"
          ]
        },
        {
          "output_type": "stream",
          "name": "stdout",
          "text": [
            "Training loss (for one batch) at step 4200: 2.0035\n",
            "Seen so far: 21005 samples\n"
          ]
        },
        {
          "output_type": "stream",
          "name": "stderr",
          "text": [
            " 25%|██▌       | 4401/17266 [23:57<1:01:05,  3.51it/s]"
          ]
        },
        {
          "output_type": "stream",
          "name": "stdout",
          "text": [
            "Training loss (for one batch) at step 4400: 2.0002\n",
            "Seen so far: 22005 samples\n"
          ]
        },
        {
          "output_type": "stream",
          "name": "stderr",
          "text": [
            " 27%|██▋       | 4601/17266 [25:02<1:02:07,  3.40it/s]"
          ]
        },
        {
          "output_type": "stream",
          "name": "stdout",
          "text": [
            "Training loss (for one batch) at step 4600: 2.0022\n",
            "Seen so far: 23005 samples\n"
          ]
        },
        {
          "output_type": "stream",
          "name": "stderr",
          "text": [
            " 28%|██▊       | 4801/17266 [26:05<57:57,  3.58it/s]"
          ]
        },
        {
          "output_type": "stream",
          "name": "stdout",
          "text": [
            "Training loss (for one batch) at step 4800: 2.0026\n",
            "Seen so far: 24005 samples\n"
          ]
        },
        {
          "output_type": "stream",
          "name": "stderr",
          "text": [
            " 29%|██▉       | 5001/17266 [27:10<57:53,  3.53it/s]"
          ]
        },
        {
          "output_type": "stream",
          "name": "stdout",
          "text": [
            "Training loss (for one batch) at step 5000: 2.0087\n",
            "Seen so far: 25005 samples\n"
          ]
        },
        {
          "output_type": "stream",
          "name": "stderr",
          "text": [
            " 30%|███       | 5201/17266 [28:17<58:11,  3.46it/s]"
          ]
        },
        {
          "output_type": "stream",
          "name": "stdout",
          "text": [
            "Training loss (for one batch) at step 5200: 1.9984\n",
            "Seen so far: 26005 samples\n"
          ]
        },
        {
          "output_type": "stream",
          "name": "stderr",
          "text": [
            " 31%|███▏      | 5401/17266 [29:22<59:24,  3.33it/s]  "
          ]
        },
        {
          "output_type": "stream",
          "name": "stdout",
          "text": [
            "Training loss (for one batch) at step 5400: 1.9956\n",
            "Seen so far: 27005 samples\n"
          ]
        },
        {
          "output_type": "stream",
          "name": "stderr",
          "text": [
            " 32%|███▏      | 5601/17266 [30:31<57:19,  3.39it/s]"
          ]
        },
        {
          "output_type": "stream",
          "name": "stdout",
          "text": [
            "Training loss (for one batch) at step 5600: 2.0018\n",
            "Seen so far: 28005 samples\n"
          ]
        },
        {
          "output_type": "stream",
          "name": "stderr",
          "text": [
            " 34%|███▎      | 5801/17266 [31:38<56:54,  3.36it/s]"
          ]
        },
        {
          "output_type": "stream",
          "name": "stdout",
          "text": [
            "Training loss (for one batch) at step 5800: 1.9996\n",
            "Seen so far: 29005 samples\n"
          ]
        },
        {
          "output_type": "stream",
          "name": "stderr",
          "text": [
            " 35%|███▍      | 6001/17266 [32:46<56:17,  3.34it/s]"
          ]
        },
        {
          "output_type": "stream",
          "name": "stdout",
          "text": [
            "Training loss (for one batch) at step 6000: 1.9987\n",
            "Seen so far: 30005 samples\n"
          ]
        },
        {
          "output_type": "stream",
          "name": "stderr",
          "text": [
            " 36%|███▌      | 6201/17266 [33:53<51:21,  3.59it/s]"
          ]
        },
        {
          "output_type": "stream",
          "name": "stdout",
          "text": [
            "Training loss (for one batch) at step 6200: 1.9986\n",
            "Seen so far: 31005 samples\n"
          ]
        },
        {
          "output_type": "stream",
          "name": "stderr",
          "text": [
            " 37%|███▋      | 6401/17266 [34:59<52:33,  3.45it/s]"
          ]
        },
        {
          "output_type": "stream",
          "name": "stdout",
          "text": [
            "Training loss (for one batch) at step 6400: 2.0001\n",
            "Seen so far: 32005 samples\n"
          ]
        },
        {
          "output_type": "stream",
          "name": "stderr",
          "text": [
            " 38%|███▊      | 6601/17266 [36:07<1:34:41,  1.88it/s]"
          ]
        },
        {
          "output_type": "stream",
          "name": "stdout",
          "text": [
            "Training loss (for one batch) at step 6600: 1.9903\n",
            "Seen so far: 33005 samples\n"
          ]
        },
        {
          "output_type": "stream",
          "name": "stderr",
          "text": [
            " 39%|███▉      | 6801/17266 [37:15<1:28:09,  1.98it/s]"
          ]
        },
        {
          "output_type": "stream",
          "name": "stdout",
          "text": [
            "Training loss (for one batch) at step 6800: 2.0052\n",
            "Seen so far: 34005 samples\n"
          ]
        },
        {
          "output_type": "stream",
          "name": "stderr",
          "text": [
            " 41%|████      | 7001/17266 [38:21<1:14:55,  2.28it/s]"
          ]
        },
        {
          "output_type": "stream",
          "name": "stdout",
          "text": [
            "Training loss (for one batch) at step 7000: 1.9972\n",
            "Seen so far: 35005 samples\n"
          ]
        },
        {
          "output_type": "stream",
          "name": "stderr",
          "text": [
            " 41%|████▏     | 7125/17266 [39:00<48:27,  3.49it/s]"
          ]
        }
      ]
    },
    {
      "cell_type": "code",
      "metadata": {
        "id": "z8G5v9ju4aNR"
      },
      "source": [
        "tf.saved_model.save(simulator, './Zonal_Model_Sim')"
      ],
      "execution_count": null,
      "outputs": []
    },
    {
      "cell_type": "code",
      "metadata": {
        "id": "qRU0P8443Aeq"
      },
      "source": [
        "compression = 10\n",
        "\n",
        "loss = np.ndarray.flatten(loss_values)\n",
        "loss = np.nanmean(np.pad(loss.astype(float), (0, compression - loss.size%compression), mode='constant', constant_values=np.NaN).reshape(-1, compression), axis=1)\n",
        "plt.plot(loss)"
      ],
      "execution_count": null,
      "outputs": []
    },
    {
      "cell_type": "markdown",
      "metadata": {
        "id": "_liH6pP5oHB1"
      },
      "source": [
        "# Rollouts"
      ]
    },
    {
      "cell_type": "code",
      "metadata": {
        "id": "tch35ftasJfW"
      },
      "source": [
        "simulator = tf.saved_model.load('./Zonal_Model_Sim')"
      ],
      "execution_count": null,
      "outputs": []
    },
    {
      "cell_type": "code",
      "metadata": {
        "id": "YfpV_h2cAp28",
        "cellView": "form"
      },
      "source": [
        "#@title ### Rollout Function\n",
        "\n",
        "def rollout(simulator, features, num_steps):\n",
        "  \"\"\"Rolls out a trajectory by applying the model in sequence.\"\"\"\n",
        "  \n",
        "  initial_positions = features['pos'][0:INPUT_SEQUENCE_LENGTH]\n",
        "  initial_velocities = features['vel'][0:INPUT_SEQUENCE_LENGTH]\n",
        "  ground_truth_positions = features['pos'][INPUT_SEQUENCE_LENGTH:]\n",
        "  ground_truth_velocities = features['vel'][INPUT_SEQUENCE_LENGTH:]\n",
        "  global_context = None\n",
        "  \n",
        "  def step_fn(step, current_positions, current_velocities, pos_predictions, vel_predictions):\n",
        "    if global_context is None:\n",
        "      global_context_step = None\n",
        "    else:\n",
        "      global_context_step = global_context[\n",
        "          step + INPUT_SEQUENCE_LENGTH - 1][tf.newaxis]\n",
        "\n",
        "    next_position, next_velocity = simulator(\n",
        "        current_positions,\n",
        "        current_velocities,\n",
        "        n_particles_per_example=tf.constant([N]),\n",
        "        particle_types=None,\n",
        "        global_context=global_context_step)\n",
        "\n",
        "    # Update kinematic particles from prescribed trajectory.\n",
        "    kinematic_mask = get_kinematic_mask(tf.zeros(N))\n",
        "    next_position_ground_truth = ground_truth_positions[step,:,:]\n",
        "    next_velocity_ground_truth = ground_truth_velocities[step,:,:]\n",
        "    next_position = tf.where(tf.expand_dims(kinematic_mask,-1), next_position_ground_truth,\n",
        "                             next_position)\n",
        "    next_velocity = tf.where(tf.expand_dims(kinematic_mask,-1), next_velocity_ground_truth,\n",
        "                             next_velocity)\n",
        "    updated_pos_predictions = pos_predictions.write(step, next_position)\n",
        "    updated_vel_predictions = vel_predictions.write(step, next_velocity)\n",
        "\n",
        "    # Shift `current_positions`, removing the oldest position in the sequence\n",
        "    # and appending the next position at the end.\n",
        "    next_positions = tf.concat([current_positions[1:,:,:],\n",
        "                                next_position[tf.newaxis,:,:]], axis=0)\n",
        "    next_velocities = tf.concat([current_velocities[1:,:,:],\n",
        "                                next_velocity[tf.newaxis,:,:]], axis=0)\n",
        "    return (step + 1, next_positions, next_velocities, updated_pos_predictions, updated_vel_predictions)\n",
        "  \n",
        "  pos_predictions = tf.TensorArray(size=num_steps, dtype=tf.float32)\n",
        "  vel_predictions = tf.TensorArray(size=num_steps, dtype=tf.float32)\n",
        "\n",
        "  _, _, _, pos_predictions, vel_predictions = tf.while_loop(\n",
        "      cond=lambda step, state, vel, pos_prediction, vel_prediction: tf.less(step, num_steps),\n",
        "      body=step_fn,\n",
        "      loop_vars=(0, initial_positions, initial_velocities, pos_predictions, vel_predictions),\n",
        "      parallel_iterations=1)\n",
        "\n",
        "  output_dict = {\n",
        "      'initial_positions': initial_positions,\n",
        "      'initial_velocities': initial_velocities,\n",
        "      'pos_predicted_rollout': pos_predictions.stack(),\n",
        "      'vel_predicted_rollout': vel_predictions.stack(),\n",
        "      'ground_truth_position_rollout': ground_truth_positions,\n",
        "      'ground_truth_velocity_rollout': ground_truth_velocities\n",
        "  }\n",
        "\n",
        "  if global_context is not None:\n",
        "    output_dict['global_context'] = global_context\n",
        "  return output_dict"
      ],
      "execution_count": null,
      "outputs": []
    },
    {
      "cell_type": "code",
      "metadata": {
        "id": "5ANUWjzPAy6-"
      },
      "source": [
        "#@title ### Rollouts\n",
        "\n",
        "num_steps = metadata['sequence_length'] - INPUT_SEQUENCE_LENGTH\n",
        "\n",
        "ds = tf.data.TFRecordDataset(['train_datasets/microstates-' + str(i) + '.tfrecords' for i in range(1)])\n",
        "\n",
        "# map the record to features\n",
        "ds = ds.map(_parse_record)\n",
        "\n",
        "# map the features to tensors\n",
        "ds = ds.map(_parse_tensor)\n",
        "\n",
        "#print(ds.element_spec)\n",
        "\n",
        "def make_dataset(x):\n",
        "    # make a dataset from the time series tensor\n",
        "    pos = tf.data.Dataset.from_tensors((x['pos']))\n",
        "    vel = tf.data.Dataset.from_tensors((x['vel']))\n",
        "\n",
        "    data = tf.data.Dataset.zip((pos, vel))\n",
        "    #data = data.flat_map(lambda pos_ds,vel_ds: tf.data.Dataset.zip((pos_ds,vel_ds)))\n",
        "\n",
        "    return data\n",
        "\n",
        "# flatten the windowed dataset\n",
        "#ds = ds.map(make_dataset)\n",
        "\n",
        "for databatch in ds:\n",
        "    output = rollout(simulator,databatch,num_steps)\n",
        "    break\n",
        "\n",
        "output['metadata'] = metadata\n",
        "filename = '/zonal_model.pkl'\n",
        "with open(filename, 'wb') as file:\n",
        "    pickle.dump(output, file)"
      ],
      "execution_count": null,
      "outputs": []
    },
    {
      "cell_type": "code",
      "metadata": {
        "id": "027yPE8irqvU",
        "cellView": "form"
      },
      "source": [
        "#@title ### Plots of Predicted Pos/Vel vs Ground Truth\n",
        "\n",
        "from scipy import stats\n",
        "\n",
        "fig, axs = plt.subplots(2,2, figsize=(8, 6), facecolor='w', edgecolor='k')  \n",
        "labels = [\"x values\", \"y values\", \"u values\", \"v values\"]\n",
        "axs = axs.ravel()\n",
        "for pred_i in range(4):\n",
        "    pred_list = tf.concat([output['pos_predicted_rollout'], output['vel_predicted_rollout']], axis=-1)\n",
        "    true_list = tf.concat([output['ground_truth_position_rollout'], output['ground_truth_velocity_rollout']], axis=-1)\n",
        "\n",
        "    pred_vals = np.array([pp[:,pred_i] for pp in pred_list]).flatten()\n",
        "    true_vals = np.array([tt[:,pred_i] for tt in true_list]).flatten()\n",
        "\n",
        "    bin_means, bin_edges, binnumber = stats.binned_statistic(true_vals, pred_vals,bins=100)\n",
        "    bin_width = (bin_edges[1] - bin_edges[0])\n",
        "    bin_centers = bin_edges[1:] - bin_width/2\n",
        "\n",
        "    bin_stds, bin_edges, binnumber = stats.binned_statistic(true_vals, pred_vals,statistic='std',bins=100)\n",
        "\n",
        "\n",
        "    axs[pred_i].plot(bin_centers,bin_means,c='C0')\n",
        "\n",
        "    axs[pred_i].fill_between(bin_centers,bin_means-bin_stds,bin_means+bin_stds,color='C0',alpha=0.5)\n",
        "\n",
        "    xx = np.linspace(0,200,10)\n",
        "    vv = np.linspace(-1,1,10)\n",
        "    if pred_i<=1:\n",
        "        axs[pred_i].plot(xx,xx,c='k',ls='--')\n",
        "    else:\n",
        "        axs[pred_i].plot(vv,vv,c='k',ls='--')\n",
        "    axs[pred_i].set_ylabel('GNN prediction of parameter')\n",
        "    axs[pred_i].set_xlabel('True parameter')\n",
        "    axs[pred_i].set_title(labels[pred_i])\n",
        "\n",
        "fig.tight_layout()"
      ],
      "execution_count": null,
      "outputs": []
    },
    {
      "cell_type": "code",
      "metadata": {
        "id": "rXpla4UdkJtD"
      },
      "source": [
        "#@title ### Order Parameter Plot\n",
        "\n",
        "pred_av_velocity = np.mean(output['vel_predicted_rollout'],axis=1)\n",
        "true_av_velocity = np.mean(output['ground_truth_velocity_rollout'],axis=1)\n",
        "pred_std = np.std(output['vel_predicted_rollout'],axis=1)\n",
        "true_std = np.std(output['ground_truth_velocity_rollout'],axis=1)\n",
        "\n",
        "pred_order_parameter = np.linalg.norm(pred_av_velocity,axis=1)/vs\n",
        "true_order_parameter = np.linalg.norm(true_av_velocity,axis=1)/vs\n",
        "\n",
        "line = np.linspace(0,max(pred_order_parameter),10)\n",
        "#plt.scatter(true_order_parameter, pred_order_parameter)\n",
        "#plt.plot(line, line)\n",
        "\n",
        "order = np.argsort(true_order_parameter)\n",
        "true_order_parameter = true_order_parameter[order]\n",
        "pred_order_parameter = pred_order_parameter[order]\n",
        "\n",
        "bin_means, bin_edges, binnumber = stats.binned_statistic(true_order_parameter, pred_order_parameter,bins=100)\n",
        "bin_width = (bin_edges[1] - bin_edges[0])\n",
        "bin_centers = bin_edges[1:] - bin_width/2\n",
        "\n",
        "bin_stds, bin_edges, binnumber = stats.binned_statistic(true_order_parameter, pred_order_parameter,statistic='std',bins=100)\n",
        "\n",
        "plt.plot(bin_centers,bin_means,c='C0')\n",
        "plt.xlabel(\"Ground Truth Order Parameter\")\n",
        "plt.ylabel(\"Predicted Order Parameter\")\n",
        "plt.fill_between(bin_centers,bin_means-bin_stds,bin_means+bin_stds,color='C0',alpha=0.5)\n"
      ],
      "execution_count": null,
      "outputs": []
    },
    {
      "cell_type": "code",
      "metadata": {
        "id": "9XPJcbaJoOxM",
        "cellView": "form"
      },
      "source": [
        "#@title ### Render Rollouts\n",
        "\n",
        "TYPE_TO_COLOR = {\n",
        "    3: \"black\",  # Boundary particles.\n",
        "    0: \"green\",  # Rigid solids.\n",
        "    7: \"magenta\",  # Goop.\n",
        "    6: \"gold\",  # Sand.\n",
        "    5: \"blue\",  # Water.\n",
        "}\n",
        "\n",
        "step_stride = 3\n",
        "block_on_show = True\n",
        "\n",
        "with open(filename, \"rb\") as file:\n",
        "  rollout_data = pickle.load(file)\n",
        "\n",
        "fig, axes = plt.subplots(1, 2, figsize=(10, 5))\n",
        "\n",
        "plot_info = []\n",
        "Q={}\n",
        "for ax_i, (label, (rollout_field_1, rollout_field_2)) in enumerate(\n",
        "    [(\"Ground truth\", (\"ground_truth_position_rollout\", \"ground_truth_velocity_rollout\")),\n",
        "      (\"Prediction\", (\"pos_predicted_rollout\", \"vel_predicted_rollout\"))]):\n",
        "  # Append the initial positions to get the full trajectory.\n",
        "  pos_trajectory = np.concatenate([\n",
        "      rollout_data[\"initial_positions\"],\n",
        "      rollout_data[rollout_field_1]], axis=0)\n",
        "  vel_trajectory = np.concatenate([\n",
        "      rollout_data[\"initial_velocities\"],\n",
        "      rollout_data[rollout_field_2]], axis=0)\n",
        "  ax = axes[ax_i]\n",
        "  ax.set_title(label)\n",
        "  bounds = rollout_data[\"metadata\"][\"bounds\"]\n",
        "  ax.set_xlim(bounds[0][0], bounds[0][1])\n",
        "  ax.set_ylim(bounds[1][0], bounds[1][1])\n",
        "  ax.set_xticks([])\n",
        "  ax.set_yticks([])\n",
        "  ax.set_aspect(1.)\n",
        "  points = {\n",
        "      particle_type: ax.plot([], [], \"o\", ms=2, color=color)[0]\n",
        "      for particle_type, color in TYPE_TO_COLOR.items()}\n",
        "  X, Y, U, V = pos_trajectory[0,:,0], pos_trajectory[0,:,1], vel_trajectory[0,:,0], vel_trajectory[0,:,1]\n",
        "  Q[f'{ax_i}'] = ax.quiver(X, Y, U, V, pivot='mid', color='b', units='inches')\n",
        "  plot_info.append((ax, pos_trajectory, vel_trajectory, points))\n",
        "\n",
        "\n",
        "num_steps = pos_trajectory.shape[0]\n",
        "\n",
        "\n",
        "def update_quiver(num):\n",
        "  for i, (ax, pos_trajectory, vel_trajectory, _) in enumerate(plot_info):\n",
        "    U, V = vel_trajectory[num,:,0], vel_trajectory[num,:,1]\n",
        "    offsets = pos_trajectory[num]\n",
        "\n",
        "    Q[f'{i}'].set_offsets(offsets)\n",
        "    Q[f'{i}'].set_UVC(U,V)\n",
        "  return axes\n",
        "\n",
        "anim = animation.FuncAnimation(fig, update_quiver,\n",
        "                               interval=50, frames=np.arange(0, num_steps, step_stride),blit=False)\n",
        "#plt.show(block=block_on_show)\n",
        "rc('animation', html='jshtml')\n",
        "anim\n"
      ],
      "execution_count": null,
      "outputs": []
    }
  ]
}