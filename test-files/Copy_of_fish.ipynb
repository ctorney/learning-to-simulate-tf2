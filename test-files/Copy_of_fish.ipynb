{
  "cells": [
    {
      "cell_type": "markdown",
      "metadata": {
        "id": "view-in-github",
        "colab_type": "text"
      },
      "source": [
        "<a href=\"https://colab.research.google.com/github/ctorney/learning-to-simulate-tf2/blob/main/Copy_of_fish.ipynb\" target=\"_parent\"><img src=\"https://colab.research.google.com/assets/colab-badge.svg\" alt=\"Open In Colab\"/></a>"
      ]
    },
    {
      "cell_type": "markdown",
      "metadata": {
        "id": "pw8DwLk-8nzE"
      },
      "source": [
        "#Preliminaries"
      ],
      "id": "pw8DwLk-8nzE"
    },
    {
      "cell_type": "code",
      "execution_count": null,
      "metadata": {
        "colab": {
          "base_uri": "https://localhost:8080/"
        },
        "id": "Wd3epTkM44Eq",
        "outputId": "1fe4e61a-389d-417d-d859-f716b6d87f94"
      },
      "outputs": [
        {
          "name": "stdout",
          "output_type": "stream",
          "text": [
            "Requirement already satisfied: spektral in /usr/local/lib/python3.7/dist-packages (1.0.8)\n",
            "Requirement already satisfied: tqdm in /usr/local/lib/python3.7/dist-packages (from spektral) (4.62.3)\n",
            "Requirement already satisfied: networkx in /usr/local/lib/python3.7/dist-packages (from spektral) (2.6.3)\n",
            "Requirement already satisfied: lxml in /usr/local/lib/python3.7/dist-packages (from spektral) (4.2.6)\n",
            "Requirement already satisfied: pandas in /usr/local/lib/python3.7/dist-packages (from spektral) (1.1.5)\n",
            "Requirement already satisfied: scikit-learn in /usr/local/lib/python3.7/dist-packages (from spektral) (1.0.2)\n",
            "Requirement already satisfied: joblib in /usr/local/lib/python3.7/dist-packages (from spektral) (1.1.0)\n",
            "Requirement already satisfied: numpy<1.20 in /usr/local/lib/python3.7/dist-packages (from spektral) (1.19.5)\n",
            "Requirement already satisfied: scipy in /usr/local/lib/python3.7/dist-packages (from spektral) (1.4.1)\n",
            "Requirement already satisfied: tensorflow>=2.1.0 in /usr/local/lib/python3.7/dist-packages (from spektral) (2.7.0)\n",
            "Requirement already satisfied: requests in /usr/local/lib/python3.7/dist-packages (from spektral) (2.23.0)\n",
            "Requirement already satisfied: keras<2.8,>=2.7.0rc0 in /usr/local/lib/python3.7/dist-packages (from tensorflow>=2.1.0->spektral) (2.7.0)\n",
            "Requirement already satisfied: absl-py>=0.4.0 in /usr/local/lib/python3.7/dist-packages (from tensorflow>=2.1.0->spektral) (0.12.0)\n",
            "Requirement already satisfied: termcolor>=1.1.0 in /usr/local/lib/python3.7/dist-packages (from tensorflow>=2.1.0->spektral) (1.1.0)\n",
            "Requirement already satisfied: gast<0.5.0,>=0.2.1 in /usr/local/lib/python3.7/dist-packages (from tensorflow>=2.1.0->spektral) (0.4.0)\n",
            "Requirement already satisfied: six>=1.12.0 in /usr/local/lib/python3.7/dist-packages (from tensorflow>=2.1.0->spektral) (1.15.0)\n",
            "Requirement already satisfied: typing-extensions>=3.6.6 in /usr/local/lib/python3.7/dist-packages (from tensorflow>=2.1.0->spektral) (3.10.0.2)\n",
            "Requirement already satisfied: flatbuffers<3.0,>=1.12 in /usr/local/lib/python3.7/dist-packages (from tensorflow>=2.1.0->spektral) (2.0)\n",
            "Requirement already satisfied: wrapt>=1.11.0 in /usr/local/lib/python3.7/dist-packages (from tensorflow>=2.1.0->spektral) (1.13.3)\n",
            "Requirement already satisfied: protobuf>=3.9.2 in /usr/local/lib/python3.7/dist-packages (from tensorflow>=2.1.0->spektral) (3.17.3)\n",
            "Requirement already satisfied: wheel<1.0,>=0.32.0 in /usr/local/lib/python3.7/dist-packages (from tensorflow>=2.1.0->spektral) (0.37.1)\n",
            "Requirement already satisfied: keras-preprocessing>=1.1.1 in /usr/local/lib/python3.7/dist-packages (from tensorflow>=2.1.0->spektral) (1.1.2)\n",
            "Requirement already satisfied: h5py>=2.9.0 in /usr/local/lib/python3.7/dist-packages (from tensorflow>=2.1.0->spektral) (3.1.0)\n",
            "Requirement already satisfied: opt-einsum>=2.3.2 in /usr/local/lib/python3.7/dist-packages (from tensorflow>=2.1.0->spektral) (3.3.0)\n",
            "Requirement already satisfied: grpcio<2.0,>=1.24.3 in /usr/local/lib/python3.7/dist-packages (from tensorflow>=2.1.0->spektral) (1.43.0)\n",
            "Requirement already satisfied: astunparse>=1.6.0 in /usr/local/lib/python3.7/dist-packages (from tensorflow>=2.1.0->spektral) (1.6.3)\n",
            "Requirement already satisfied: libclang>=9.0.1 in /usr/local/lib/python3.7/dist-packages (from tensorflow>=2.1.0->spektral) (12.0.0)\n",
            "Requirement already satisfied: tensorboard~=2.6 in /usr/local/lib/python3.7/dist-packages (from tensorflow>=2.1.0->spektral) (2.7.0)\n",
            "Requirement already satisfied: tensorflow-estimator<2.8,~=2.7.0rc0 in /usr/local/lib/python3.7/dist-packages (from tensorflow>=2.1.0->spektral) (2.7.0)\n",
            "Requirement already satisfied: google-pasta>=0.1.1 in /usr/local/lib/python3.7/dist-packages (from tensorflow>=2.1.0->spektral) (0.2.0)\n",
            "Requirement already satisfied: tensorflow-io-gcs-filesystem>=0.21.0 in /usr/local/lib/python3.7/dist-packages (from tensorflow>=2.1.0->spektral) (0.23.1)\n",
            "Requirement already satisfied: cached-property in /usr/local/lib/python3.7/dist-packages (from h5py>=2.9.0->tensorflow>=2.1.0->spektral) (1.5.2)\n",
            "Requirement already satisfied: google-auth<3,>=1.6.3 in /usr/local/lib/python3.7/dist-packages (from tensorboard~=2.6->tensorflow>=2.1.0->spektral) (1.35.0)\n",
            "Requirement already satisfied: setuptools>=41.0.0 in /usr/local/lib/python3.7/dist-packages (from tensorboard~=2.6->tensorflow>=2.1.0->spektral) (57.4.0)\n",
            "Requirement already satisfied: werkzeug>=0.11.15 in /usr/local/lib/python3.7/dist-packages (from tensorboard~=2.6->tensorflow>=2.1.0->spektral) (1.0.1)\n",
            "Requirement already satisfied: tensorboard-plugin-wit>=1.6.0 in /usr/local/lib/python3.7/dist-packages (from tensorboard~=2.6->tensorflow>=2.1.0->spektral) (1.8.1)\n",
            "Requirement already satisfied: google-auth-oauthlib<0.5,>=0.4.1 in /usr/local/lib/python3.7/dist-packages (from tensorboard~=2.6->tensorflow>=2.1.0->spektral) (0.4.6)\n",
            "Requirement already satisfied: markdown>=2.6.8 in /usr/local/lib/python3.7/dist-packages (from tensorboard~=2.6->tensorflow>=2.1.0->spektral) (3.3.6)\n",
            "Requirement already satisfied: tensorboard-data-server<0.7.0,>=0.6.0 in /usr/local/lib/python3.7/dist-packages (from tensorboard~=2.6->tensorflow>=2.1.0->spektral) (0.6.1)\n",
            "Requirement already satisfied: pyasn1-modules>=0.2.1 in /usr/local/lib/python3.7/dist-packages (from google-auth<3,>=1.6.3->tensorboard~=2.6->tensorflow>=2.1.0->spektral) (0.2.8)\n",
            "Requirement already satisfied: cachetools<5.0,>=2.0.0 in /usr/local/lib/python3.7/dist-packages (from google-auth<3,>=1.6.3->tensorboard~=2.6->tensorflow>=2.1.0->spektral) (4.2.4)\n",
            "Requirement already satisfied: rsa<5,>=3.1.4 in /usr/local/lib/python3.7/dist-packages (from google-auth<3,>=1.6.3->tensorboard~=2.6->tensorflow>=2.1.0->spektral) (4.8)\n",
            "Requirement already satisfied: requests-oauthlib>=0.7.0 in /usr/local/lib/python3.7/dist-packages (from google-auth-oauthlib<0.5,>=0.4.1->tensorboard~=2.6->tensorflow>=2.1.0->spektral) (1.3.0)\n",
            "Requirement already satisfied: importlib-metadata>=4.4 in /usr/local/lib/python3.7/dist-packages (from markdown>=2.6.8->tensorboard~=2.6->tensorflow>=2.1.0->spektral) (4.10.0)\n",
            "Requirement already satisfied: zipp>=0.5 in /usr/local/lib/python3.7/dist-packages (from importlib-metadata>=4.4->markdown>=2.6.8->tensorboard~=2.6->tensorflow>=2.1.0->spektral) (3.7.0)\n",
            "Requirement already satisfied: pyasn1<0.5.0,>=0.4.6 in /usr/local/lib/python3.7/dist-packages (from pyasn1-modules>=0.2.1->google-auth<3,>=1.6.3->tensorboard~=2.6->tensorflow>=2.1.0->spektral) (0.4.8)\n",
            "Requirement already satisfied: certifi>=2017.4.17 in /usr/local/lib/python3.7/dist-packages (from requests->spektral) (2021.10.8)\n",
            "Requirement already satisfied: urllib3!=1.25.0,!=1.25.1,<1.26,>=1.21.1 in /usr/local/lib/python3.7/dist-packages (from requests->spektral) (1.24.3)\n",
            "Requirement already satisfied: idna<3,>=2.5 in /usr/local/lib/python3.7/dist-packages (from requests->spektral) (2.10)\n",
            "Requirement already satisfied: chardet<4,>=3.0.2 in /usr/local/lib/python3.7/dist-packages (from requests->spektral) (3.0.4)\n",
            "Requirement already satisfied: oauthlib>=3.0.0 in /usr/local/lib/python3.7/dist-packages (from requests-oauthlib>=0.7.0->google-auth-oauthlib<0.5,>=0.4.1->tensorboard~=2.6->tensorflow>=2.1.0->spektral) (3.1.1)\n",
            "Requirement already satisfied: pytz>=2017.2 in /usr/local/lib/python3.7/dist-packages (from pandas->spektral) (2018.9)\n",
            "Requirement already satisfied: python-dateutil>=2.7.3 in /usr/local/lib/python3.7/dist-packages (from pandas->spektral) (2.8.2)\n",
            "Requirement already satisfied: threadpoolctl>=2.0.0 in /usr/local/lib/python3.7/dist-packages (from scikit-learn->spektral) (3.0.0)\n"
          ]
        }
      ],
      "source": [
        "!pip install spektral"
      ],
      "id": "Wd3epTkM44Eq"
    },
    {
      "cell_type": "code",
      "execution_count": null,
      "metadata": {
        "cellView": "form",
        "id": "VfoYzr9AWlXB"
      },
      "outputs": [],
      "source": [
        "#@title ### Imports { form-width: \"30%\" }\n",
        "\n",
        "import os, sys\n",
        "import numpy as np\n",
        "from math import *\n",
        "from tqdm import tqdm\n",
        "import matplotlib.pyplot as plt\n",
        "from matplotlib import animation, rc\n",
        "import datetime\n",
        "import json\n",
        "\n",
        "import tensorflow as tf\n",
        "\n",
        "from scipy import stats\n",
        "\n",
        "import pickle\n",
        "\n",
        "import functools\n",
        "from tqdm import tqdm\n",
        "\n",
        "from tensorflow.keras import Model\n",
        "from tensorflow.keras.layers import Dense, Input, Concatenate\n",
        "from tensorflow.keras.losses import MeanSquaredError\n",
        "from tensorflow.keras.optimizers import Adam\n",
        "from tensorflow.keras import backend as K\n",
        "\n",
        "import tensorflow_probability as tfp\n",
        "\n",
        "from spektral.layers import ECCConv, GlobalAvgPool, MessagePassing, XENetConv, GlobalAttentionPool, GlobalMaxPool, GlobalSumPool,GlobalAttnSumPool\n",
        "tfpl = tfp.layers\n",
        "tfd = tfp.distributions\n",
        "\n",
        "plt.style.use('ggplot')\n",
        "plt.style.use('seaborn-paper') \n",
        "plt.style.use('seaborn-whitegrid')"
      ],
      "id": "VfoYzr9AWlXB"
    },
    {
      "cell_type": "code",
      "execution_count": null,
      "metadata": {
        "cellView": "form",
        "id": "868e045e-5c67-4b12-a69d-af06367275b4"
      },
      "outputs": [],
      "source": [
        "#@title ### Data { form-width: \"30%\" }\n",
        "\n",
        "with open('schooling_frames.json') as json_file:\n",
        "    data = json.load(json_file)\n",
        "\n",
        "data_as_list = []\n",
        "for d in data.keys():\n",
        "    data_as_list.append(data[d])"
      ],
      "id": "868e045e-5c67-4b12-a69d-af06367275b4"
    },
    {
      "cell_type": "code",
      "execution_count": null,
      "metadata": {
        "cellView": "form",
        "colab": {
          "base_uri": "https://localhost:8080/"
        },
        "id": "ed557b61-9fca-408e-bcb9-8dd48d56d97a",
        "outputId": "fea3b36c-718b-4551-c817-f3a60f6a1273"
      },
      "outputs": [
        {
          "name": "stdout",
          "output_type": "stream",
          "text": [
            "max_n = 289, min_n = 87, max_id = 112205, min_id = 97196, total_id = 15010\n"
          ]
        }
      ],
      "source": [
        "#@title ### Metadata { form-width: \"30%\" }\n",
        "n_frames = len(data_as_list)\n",
        "max_n = 0\n",
        "min_n = 1000000\n",
        "for d in data_as_list:\n",
        "    if len(d['px'])> max_n: max_n = len(d['px'])\n",
        "    if len(d['px'])< min_n: min_n = len(d['px'])\n",
        "\n",
        "max_id = 0\n",
        "min_id = 10000000\n",
        "for d in data_as_list:\n",
        "    for i in d['onfish']:\n",
        "        if i> max_id: max_id = i\n",
        "        if i< min_id: min_id = i\n",
        "\n",
        "total_id = max_id-min_id+1\n",
        "\n",
        "print(f'max_n = {max_n}, min_n = {min_n}, max_id = {max_id}, min_id = {min_id}, total_id = {total_id}')"
      ],
      "id": "ed557b61-9fca-408e-bcb9-8dd48d56d97a"
    },
    {
      "cell_type": "code",
      "execution_count": null,
      "metadata": {
        "colab": {
          "base_uri": "https://localhost:8080/"
        },
        "id": "wA9iCyizJyks",
        "outputId": "df573568-18c8-4e40-91fe-ab7b4d767829"
      },
      "outputs": [
        {
          "name": "stdout",
          "output_type": "stream",
          "text": [
            "[97196, 97975, 98320, 98324, 98372, 98500, 98518, 98604, 98804, 98864, 98940, 99021, 99024, 99027, 99083, 99098, 99152, 99160, 99188, 99217, 99258, 99263, 99341, 99343, 99372, 99398, 99404, 99429, 99430, 99431, 99436, 99439, 99458, 99461, 99462, 99464, 99471, 99476, 99485, 99497, 99516, 99523, 99525, 99529, 99547, 99553, 99558, 99559, 99573, 99583, 99596, 99601, 99606, 99616, 99631, 99635, 99636, 99638, 99646, 99649, 99657, 99661, 99662, 99663, 99677, 99692, 99694, 99699, 99702, 99718, 99720, 99736, 99741, 99746, 99752, 99754, 99755, 99758, 99768, 99770, 99771, 99777, 99778, 99779, 99780, 99793, 99794, 99805, 99814, 99820, 99822, 99823, 99830, 99834, 99837, 99844, 99850, 99852, 99855, 99857, 99860, 99868, 99876, 99878, 99880, 99883, 99884, 99885, 99892, 99898, 99899, 99901, 99911, 99912, 99919, 99920, 99930, 99934, 99941, 99942, 99943, 99950, 99953, 99956, 99960, 99967, 99976, 99980, 99981, 99984, 99985, 99989, 99992, 99993, 99996, 100003, 100004, 100006, 100011, 100013, 100014, 100016, 100017, 100020, 100025, 100026, 100027, 100035, 100040, 100041, 100042, 100044, 100051, 100052, 100057, 100061, 100065, 100067, 100070, 100071, 100084, 100085, 100086, 100087, 100088, 100089, 100095, 100096, 100097, 100099, 100103, 100107, 100111, 100112, 100114, 100117, 100120, 100127, 100131, 100135, 100136, 100137, 100138, 100140, 100141, 100142, 100144, 100145, 100146, 100147, 100148, 100149, 100150, 100157, 100158, 100159, 100160, 100161, 100163, 100167, 100169, 100170, 100171, 100172, 100173, 100175, 100178, 100180, 100181, 100182, 100183, 100184, 100185, 100186, 100187, 100189, 100190, 100191, 100192, 100193, 100196, 100197, 100201, 100205, 100206, 100207, 100208, 100210, 100211, 100212, 100213, 100215, 100216, 100217, 100218, 100219, 100220, 100221, 100222, 100223, 100224, 100226, 100228, 100230, 100231, 100232, 100233, 100234, 100235, 100236, 100237, 100238, 100239]\n",
            "97196 100239\n"
          ]
        }
      ],
      "source": [
        "max_id1 = 0\n",
        "min_id1 = 10000000\n",
        "for d in data_as_list:\n",
        "    print(d['onfish'])\n",
        "    for i in d['onfish']:\n",
        "        if i> max_id1: max_id1 = i\n",
        "        if i< min_id1: min_id1 = i\n",
        "    break\n",
        "print(min_id1, max_id1)"
      ],
      "id": "wA9iCyizJyks"
    },
    {
      "cell_type": "code",
      "execution_count": null,
      "metadata": {
        "cellView": "form",
        "id": "MDYEmTvA_1HR"
      },
      "outputs": [],
      "source": [
        "#@title ### Datatypes { form-width: \"30%\" }\n",
        "\n",
        "for d in data_as_list:\n",
        "    for key in d.keys():\n",
        "        if key=='onfish':\n",
        "            pass\n",
        "        else:\n",
        "            for i in range(len(d[key])):\n",
        "                if d[key][i]==None: d[key][i]=np.nan\n",
        "                d[key][i] = float(d[key][i])"
      ],
      "id": "MDYEmTvA_1HR"
    },
    {
      "cell_type": "code",
      "execution_count": null,
      "metadata": {
        "cellView": "form",
        "id": "76ec6ae7-115f-49ee-98e2-2e53a9693efa"
      },
      "outputs": [],
      "source": [
        "#@title ### Plotting Data { form-width: \"30%\" }\n",
        "\n",
        "plot_pos = np.zeros((n_frames,max_n, 2))\n",
        "plot_vel = np.zeros((n_frames,max_n, 2))\n",
        "ns = np.zeros(n_frames)\n",
        "\n",
        "for i in range(n_frames):\n",
        "    thisn = len(data_as_list[i]['px'])\n",
        "    ns[i] = thisn\n",
        "    thisposx = data_as_list[i]['px']\n",
        "    thisposy = data_as_list[i]['py']\n",
        "    thisvelx = data_as_list[i]['vx']\n",
        "    thisvely = data_as_list[i]['vy']\n",
        "    \n",
        "    plot_pos[i,:thisn,0]=thisposx\n",
        "    plot_pos[i,:thisn,1]=thisposy\n",
        "    plot_vel[i,:thisn,0]=thisvelx\n",
        "    plot_vel[i,:thisn,1]=thisvely"
      ],
      "id": "76ec6ae7-115f-49ee-98e2-2e53a9693efa"
    },
    {
      "cell_type": "markdown",
      "metadata": {
        "id": "liD5Hzai8MF-"
      },
      "source": [
        "# Animation"
      ],
      "id": "liD5Hzai8MF-"
    },
    {
      "cell_type": "code",
      "execution_count": null,
      "metadata": {
        "colab": {
          "base_uri": "https://localhost:8080/",
          "height": 520
        },
        "id": "9cfd8c67-6c04-4aa7-9883-e67f20df1588",
        "outputId": "0de0da27-828d-428f-f4d2-02b5efff0c88"
      },
      "outputs": [
        {
          "data": {
            "image/png": "[encoded data removed]",
            "text/plain": [
              "<Figure size 1152x648 with 1 Axes>"
            ]
          },
          "metadata": {},
          "output_type": "display_data"
        }
      ],
      "source": [
        "#@title ### Animation Code { form-width: \"30%\" }\n",
        "\n",
        "step_stride = 10\n",
        "block_on_show = True\n",
        "\n",
        "fig, axes = plt.subplots(1, 1, figsize=(16, 9))\n",
        "\n",
        "plot_info = []\n",
        "Q={}\n",
        "\n",
        "ax_i = 1\n",
        "ax = axes#[ax_i]\n",
        "\n",
        "bounds = [(0,1920), (0,1080)]\n",
        "ax.set_xlim(bounds[0][0], bounds[0][1])\n",
        "ax.set_ylim(bounds[1][0], bounds[1][1])\n",
        "ax.set_xticks([])\n",
        "ax.set_yticks([])\n",
        "ax.set_aspect(1.)\n",
        "    \n",
        "X, Y = plot_pos[0,:,0],plot_pos[0,:,1]\n",
        "U, V = plot_vel[0,:,0],plot_vel[0,:,1]\n"
      ],
      "id": "9cfd8c67-6c04-4aa7-9883-e67f20df1588"
    },
    {
      "cell_type": "code",
      "execution_count": null,
      "metadata": {
        "colab": {
          "background_save": true
        },
        "id": "0dks2i8Y8Yjk"
      },
      "outputs": [],
      "source": [
        "#@title ### Generate Animation { form-width: \"30%\" }\n",
        "\n",
        "Q[f'{ax_i}'] = ax.quiver(X, Y, U, V, pivot='mid', color='b', units='inches')\n",
        "\n",
        "num_steps = len(data_as_list)\n",
        "#print(pos_trajectory.shape)\n",
        "\n",
        "def update_quiver(num):\n",
        "\n",
        "    U, V = plot_vel[num,:,0],plot_vel[num,:,1]\n",
        "    offsets  = plot_pos[num]\n",
        "    #Q[f'{ax_i}'] = ax.quiver(X, Y, U, V, pivot='mid', color='b', units='inches')\n",
        "    #offsets  = np.asarray(offsets).T\n",
        "    Q[f'{ax_i}'].set_offsets(offsets)\n",
        "    Q[f'{ax_i}'].set_UVC(U,V)\n",
        "    return axes\n",
        "\n",
        "anim = animation.FuncAnimation(fig, update_quiver, interval=50, frames=np.arange(0, num_steps, step_stride),blit=False)\n",
        "#plt.show(block=block_on_show)\n",
        "rc('animation', html='jshtml')\n",
        "anim\n"
      ],
      "id": "0dks2i8Y8Yjk"
    },
    {
      "cell_type": "markdown",
      "metadata": {
        "id": "GHUxjY_l8tPu"
      },
      "source": [
        "#Preprocessing"
      ],
      "id": "GHUxjY_l8tPu"
    },
    {
      "cell_type": "code",
      "execution_count": null,
      "metadata": {
        "id": "9fe15fab-09d6-47ea-b371-f1d31d310faa",
        "cellView": "form"
      },
      "outputs": [],
      "source": [
        "#@title ### Create Full Array { form-width: \"30%\" }\n",
        "\n",
        "pos = np.zeros((n_frames,total_id, 2))\n",
        "vel = np.zeros((n_frames,total_id, 2))\n",
        "pos[...] = np.nan\n",
        "vel[...] = np.nan\n",
        "\n",
        "for i in range(n_frames):\n",
        "    thisn = ns[i]\n",
        "    thisindices = np.array([c - min_id for c in data_as_list[i]['onfish']])\n",
        "    thisposx = data_as_list[i]['px']\n",
        "    thisposy = data_as_list[i]['py']\n",
        "    thisvelx = data_as_list[i]['vx']\n",
        "    thisvely = data_as_list[i]['vy']\n",
        "    \n",
        "    pos[i,thisindices,0]=np.array(thisposx)\n",
        "    pos[i,thisindices,1]=np.array(thisposy)\n",
        "    vel[i,thisindices,0]=np.array(thisvelx)\n",
        "    vel[i,thisindices,1]=np.array(thisvely)\n",
        "\n",
        "# data_dicts = [{'pos':pos,\n",
        "#                'vel':vel}]"
      ],
      "id": "9fe15fab-09d6-47ea-b371-f1d31d310faa"
    },
    {
      "cell_type": "code",
      "execution_count": null,
      "metadata": {
        "colab": {
          "base_uri": "https://localhost:8080/"
        },
        "id": "xePWnCe-I1Ok",
        "outputId": "3c5c9e68-b6d7-4217-9838-a6204b2b880a"
      },
      "outputs": [
        {
          "data": {
            "text/plain": [
              "253.0"
            ]
          },
          "execution_count": 14,
          "metadata": {},
          "output_type": "execute_result"
        }
      ],
      "source": [
        "ns[0]"
      ],
      "id": "xePWnCe-I1Ok"
    },
    {
      "cell_type": "code",
      "execution_count": null,
      "metadata": {
        "colab": {
          "base_uri": "https://localhost:8080/"
        },
        "id": "KvpWSrwWn1N_",
        "outputId": "d1021186-724e-4cff-b301-b1b22d3637c7"
      },
      "outputs": [
        {
          "data": {
            "text/plain": [
              "0.0"
            ]
          },
          "execution_count": 15,
          "metadata": {},
          "output_type": "execute_result"
        }
      ],
      "source": [
        "difflist = [np.count_nonzero(~np.isnan(pos[i,:,0]))-ns[i] for i in range(5000)]\n",
        "np.sum(difflist)"
      ],
      "id": "KvpWSrwWn1N_"
    },
    {
      "cell_type": "code",
      "execution_count": null,
      "metadata": {
        "colab": {
          "base_uri": "https://localhost:8080/",
          "height": 303
        },
        "id": "BURmG8j0gRXO",
        "outputId": "039cacf4-11ca-43ba-c2e4-c38a6cb19d0b"
      },
      "outputs": [
        {
          "data": {
            "text/plain": [
              "<matplotlib.collections.QuadMesh at 0x7f678ff4a390>"
            ]
          },
          "execution_count": 15,
          "metadata": {},
          "output_type": "execute_result"
        },
        {
          "data": {
            "image/png": "[encoded data removed]",
            "text/plain": [
              "<Figure size 460.8x316.8 with 1 Axes>"
            ]
          },
          "metadata": {},
          "output_type": "display_data"
        }
      ],
      "source": [
        "pos_c = np.where(np.isnan(pos), 1, 0)\n",
        "fig, ax = plt.subplots()\n",
        "ax.pcolormesh(np.matrix.transpose(pos_c[4700:,14500:15000,0]))"
      ],
      "id": "BURmG8j0gRXO"
    },
    {
      "cell_type": "code",
      "execution_count": null,
      "metadata": {
        "colab": {
          "base_uri": "https://localhost:8080/"
        },
        "id": "RwOuI2Y6nJBy",
        "outputId": "eaeb640c-35f2-49e9-f768-c1713feec7d0"
      },
      "outputs": [
        {
          "data": {
            "text/plain": [
              "array([[1, 1, 1, ..., 1, 1, 1],\n",
              "       [1, 1, 1, ..., 1, 1, 1],\n",
              "       [1, 1, 1, ..., 1, 1, 1],\n",
              "       ...,\n",
              "       [1, 1, 1, ..., 1, 1, 1],\n",
              "       [1, 1, 1, ..., 1, 1, 1],\n",
              "       [1, 1, 1, ..., 1, 1, 1]])"
            ]
          },
          "execution_count": 12,
          "metadata": {},
          "output_type": "execute_result"
        }
      ],
      "source": [
        "pos_c[:100,200:400,0]"
      ],
      "id": "RwOuI2Y6nJBy"
    },
    {
      "cell_type": "code",
      "execution_count": null,
      "metadata": {
        "colab": {
          "base_uri": "https://localhost:8080/"
        },
        "id": "9MnzEtEfezxW",
        "outputId": "51db0be5-045e-43d3-9f0d-6d9c50853042"
      },
      "outputs": [
        {
          "name": "stdout",
          "output_type": "stream",
          "text": [
            "1828\n"
          ]
        }
      ],
      "source": [
        "print(data_as_list[397]['onfish'][0]-min_id)"
      ],
      "id": "9MnzEtEfezxW"
    },
    {
      "cell_type": "code",
      "execution_count": null,
      "metadata": {
        "colab": {
          "base_uri": "https://localhost:8080/"
        },
        "id": "K4CcMC48b1me",
        "outputId": "28afe9d9-8130-4dc6-b46a-0f5084adc7ef"
      },
      "outputs": [
        {
          "data": {
            "text/plain": [
              "2"
            ]
          },
          "execution_count": 150,
          "metadata": {},
          "output_type": "execute_result"
        }
      ],
      "source": [
        "np.count_nonzero(~np.isnan(pos[50,0,:]))"
      ],
      "id": "K4CcMC48b1me"
    },
    {
      "cell_type": "code",
      "execution_count": null,
      "metadata": {
        "colab": {
          "base_uri": "https://localhost:8080/"
        },
        "id": "Wmg3FG91W9po",
        "outputId": "3a8a72f6-105f-47a4-a455-79a323976fcf"
      },
      "outputs": [
        {
          "name": "stdout",
          "output_type": "stream",
          "text": [
            "[237. 234. 229. ...   0.   0.   0.]\n",
            "[ True  True  True ...  True  True  True]\n",
            "[253. 251. 251. ... 261. 261. 262.]\n"
          ]
        }
      ],
      "source": [
        "batches = np.zeros((4998))\n",
        "for i in range(4998):\n",
        "    arr = pos[i:i+2]\n",
        "    ind = np.any(np.isnan(arr), axis=(0,2))\n",
        "    arr[:,ind,:]=np.nan\n",
        "    batches[i] = np.count_nonzero(~np.isnan(arr))/4\n",
        "print(batches)\n",
        "print(ind)\n",
        "print(ns)"
      ],
      "id": "Wmg3FG91W9po"
    },
    {
      "cell_type": "code",
      "execution_count": null,
      "metadata": {
        "colab": {
          "base_uri": "https://localhost:8080/"
        },
        "id": "qtsPO2dmincr",
        "outputId": "7231be19-0346-44d4-d8b0-d71e97176847"
      },
      "outputs": [
        {
          "data": {
            "text/plain": [
              "59092"
            ]
          },
          "execution_count": 140,
          "metadata": {},
          "output_type": "execute_result"
        }
      ],
      "source": [
        "np.count_nonzero(np.isnan(pos[0:2,]))"
      ],
      "id": "qtsPO2dmincr"
    },
    {
      "cell_type": "code",
      "execution_count": null,
      "metadata": {
        "id": "ibSSp4fDCI4e",
        "cellView": "form"
      },
      "outputs": [],
      "source": [
        "#@title ### Parsing Functions { form-width: \"30%\" }\n",
        "\n",
        "WINDOW_SIZE=3\n",
        "DOMAIN_SIZE=(1920,1080)\n",
        "\n",
        "def make_window_dataset(x, y):\n",
        "    # make a dataset from the time series tensor\n",
        "    windows = tf.data.Dataset.from_tensor_slices((x, y))\n",
        "    # convert to windows\n",
        "    windows = windows.window(WINDOW_SIZE, shift=1, stride=1)\n",
        "    # take a batch of window size and combine pos, vel to a single dataset\n",
        "    windows = windows.flat_map(lambda pos_ds,vel_ds: tf.data.Dataset.zip((pos_ds.batch(WINDOW_SIZE, drop_remainder=True),vel_ds.batch(WINDOW_SIZE, drop_remainder=True))))\n",
        "    return windows\n",
        "\n",
        "\n",
        "def split_targets(x, y, w=WINDOW_SIZE):\n",
        "    inputs = (x[0:w-1], y[0:w-1])\n",
        "    targets = y[None,-1]\n",
        "    return (inputs, targets)\n",
        "\n",
        "split_with_window = functools.partial(\n",
        "  split_targets,\n",
        "  w=WINDOW_SIZE)\n",
        "\n",
        "def reduce_windows(x, y):\n",
        "    indices = tf.where(tf.math.logical_not(tf.reduce_any(tf.math.logical_or(tf.math.is_nan(x), tf.math.is_nan(y)), axis=(0,2))))[:,0]\n",
        "    #print('indices', indices)\n",
        "    x = tf.gather(x, indices, axis=1)\n",
        "    y = tf.gather(y, indices, axis=1)\n",
        "    #print('x2', x)\n",
        "    return tf.data.Dataset.from_tensors((x, y))\n",
        "\n"
      ],
      "id": "ibSSp4fDCI4e"
    },
    {
      "cell_type": "code",
      "execution_count": null,
      "metadata": {
        "cellView": "form",
        "id": "oNNaM20jC5Kc"
      },
      "outputs": [],
      "source": [
        "#@title ### Parse Graph Function { form-width: \"30%\"}\n",
        "#@markdown Edge distance not normalised to L\n",
        "\n",
        "def pre_process_function(X, V, _Lx=DOMAIN_SIZE[0], _Ly=DOMAIN_SIZE[1], train_mode=True, add_noise=True):\n",
        "        \n",
        "        #X, V = inputs\n",
        "        # input shape [batch, steps, num. agents, dims]\n",
        "        # node features xpos, ypos, xvel, yvel\n",
        "        # edge features distance, rel angle to receiver\n",
        "        X_current = X[:,-1]\n",
        "        V_current = V[:,-1]\n",
        "        print(X_current.shape)\n",
        "\n",
        "        Xx = tf.expand_dims(X_current[...,0],-1)\n",
        "        dx = -Xx + tf.linalg.matrix_transpose(Xx)\n",
        "        dx = tf.where(dx>0.5*_Lx, dx-_Lx, dx)\n",
        "        dx = tf.where(dx<-0.5*_Lx, dx+_Lx, dx)\n",
        "        #x_boundary_dist = tf.concat([Xx, _L-Xx], axis=-1)\n",
        "\n",
        "        Xy = tf.expand_dims(X_current[...,1],-1)\n",
        "        dy = -Xy + tf.linalg.matrix_transpose(Xy)\n",
        "        dy = tf.where(dy>0.5*_Ly, dy-_Ly, dy)\n",
        "        dy = tf.where(dy<-0.5*_Ly, dy+_Ly, dy)\n",
        "        #y_boundary_dist = tf.concat([Xy, _L-Xy], axis=-1)\n",
        "\n",
        "        #boundary_dist = tf.concat([x_boundary_dist, y_boundary_dist], axis=-1)\n",
        "\n",
        "        Vx = tf.expand_dims(V_current[...,0],-1)\n",
        "        dvx = -Vx + tf.linalg.matrix_transpose(Vx)\n",
        "\n",
        "        Vy = tf.expand_dims(V_current[...,1],-1)\n",
        "        dvy = -Vy + tf.linalg.matrix_transpose(Vy)\n",
        "        \n",
        "        dvnorm = tf.math.sqrt(dvx**2+dvy**2)\n",
        "        dvx = tf.math.divide_no_nan(dvx,dvnorm)\n",
        "        dvy = tf.math.divide_no_nan(dvy,dvnorm)\n",
        "\n",
        "        angles = tf.expand_dims(tf.math.atan2(V_current[...,1],V_current[...,0]),-1)\n",
        "        angle_to_neigh = tf.math.atan2(dy, dx)\n",
        "\n",
        "        rel_angle_to_neigh = angle_to_neigh - angles\n",
        "\n",
        "        dist = tf.math.sqrt(tf.square(dx)+tf.square(dy))\n",
        "\n",
        "        interaction_radius = 25.0# tf.reduce_mean(dist,axis=[1,2],keepdims=True)\n",
        "        adj_matrix = tf.where(dist<interaction_radius, tf.ones_like(dist,dtype=tf.int32), tf.zeros_like(dist,dtype=tf.int32))\n",
        "        adj_matrix = tf.linalg.set_diag(adj_matrix, tf.zeros(tf.shape(adj_matrix)[:2],dtype=tf.int32))\n",
        "        sender_recv_list = tf.where(adj_matrix)\n",
        "        n_edge = tf.reduce_sum(adj_matrix, axis=[1,2])\n",
        "        n_node = tf.ones_like(n_edge)*tf.shape(adj_matrix)[-1]\n",
        "        output_i = tf.repeat(tf.range(tf.shape(adj_matrix)[0]),n_node)\n",
        "\n",
        "        senders = tf.squeeze(tf.slice(sender_recv_list,(0,1),size=(-1,1)))+ tf.squeeze(tf.slice(sender_recv_list,(0,0),size=(-1,1)))*tf.shape(adj_matrix,out_type=tf.int64)[-1]\n",
        "        receivers = tf.squeeze(tf.slice(sender_recv_list,(0,2),size=(-1,1))) + tf.squeeze(tf.slice(sender_recv_list,(0,0),size=(-1,1)))*tf.shape(adj_matrix,out_type=tf.int64)[-1]\n",
        "\n",
        "        output_a = tf.sparse.SparseTensor(indices=tf.stack([senders,receivers],axis=1), values = tf.ones_like(senders),dense_shape=[tf.shape(output_i)[0],tf.shape(output_i)[0]])\n",
        "        edge_distance = tf.expand_dims(tf.gather_nd(dist,sender_recv_list),-1)\n",
        "        #print(\"ed\", edge_distance.shape)\n",
        "        edge_x_distance = tf.expand_dims(tf.gather_nd(tf.math.cos(rel_angle_to_neigh),sender_recv_list),-1)  # neigbour position relative to sender heading\n",
        "        edge_y_distance = tf.expand_dims(tf.gather_nd(tf.math.sin(rel_angle_to_neigh),sender_recv_list),-1)  # neigbour position relative to sender heading\n",
        "        edge_x_orientation = tf.expand_dims(tf.gather_nd(dvx,sender_recv_list),-1)  # neigbour velocity relative to sender heading\n",
        "        edge_y_orientation = tf.expand_dims(tf.gather_nd(dvy,sender_recv_list),-1)  # neigbour velocity relative to sender heading\n",
        "\n",
        "\n",
        "        output_e = tf.concat([edge_distance,edge_x_distance,edge_y_distance,edge_x_orientation,edge_y_orientation],axis=-1)\n",
        "        #edges = tf.concat([edge_distance,edge_x_distance,edge_y_distance],axis=-1)\n",
        "        node_velocities = tf.transpose(V, perm=[0,2,1,3])\n",
        "        #node_accelerations = tf.transpose(A, perm=[0,2,1,3])\n",
        "\n",
        "        return output_x, output_a, output_e#, output_i\n",
        "\n",
        "ppfunc = functools.partial(pre_process_function,\n",
        "                           _Lx=DOMAIN_SIZE[0],\n",
        "                           _Ly=DOMAIN_SIZE[1]\n",
        "                           )"
      ],
      "id": "oNNaM20jC5Kc"
    },
    {
      "cell_type": "code",
      "execution_count": null,
      "metadata": {
        "id": "Edtq7fHUSiGc"
      },
      "outputs": [],
      "source": [
        "#@title ### Naive Parse Graph Function { form-width: \"30%\"}\n",
        "#@markdown Edge distance not normalised to L\n",
        "\n",
        "def naive_pre_process_function(X, V, _Lx=DOMAIN_SIZE[0], _Ly=DOMAIN_SIZE[1], train_mode=True, add_noise=True):\n",
        "        \n",
        "        #X, V = inputs\n",
        "        # input shape [batch, steps, num. agents, dims]\n",
        "        # node features xpos, ypos, xvel, yvel\n",
        "        # edge features distance, rel angle to receiver\n",
        "        X_current = X[...,-1]\n",
        "        V_current = V[...,-1]\n",
        "        #print(X_current.shape)\n",
        "        \n",
        "        def transpose_tensors_pos(i):\n",
        "            i = i.to_tensor()\n",
        "            ii = tf.expand_dims(i[...,0], -1)\n",
        "            dx = tf.linalg.matrix_transpose(ii)-ii\n",
        "            dx = tf.where(dx>0.5*_Lx, dx-_Lx, dx)\n",
        "            dx = tf.where(dx<-0.5*_Lx, dx+_Lx, dx)\n",
        "            dx = tf.RaggedTensor.from_tensor(dx)\n",
        "\n",
        "            jj = tf.expand_dims(i[...,1], -1)\n",
        "            dy = tf.linalg.matrix_transpose(jj)-jj\n",
        "            dy = tf.where(dy>0.5*_Ly, dy-_Ly, dy)\n",
        "            dy = tf.where(dy<-0.5*_Ly, dy+_Ly, dy)\n",
        "            dy = tf.RaggedTensor.from_tensor(dy)\n",
        "\n",
        "            dd = tf.math.sqrt(tf.square(dx)+tf.square(dy))\n",
        "\n",
        "            return dx, dy, dd\n",
        "\n",
        "        def transpose_tensors_vel(i):\n",
        "            i = i.to_tensor()\n",
        "            ii = tf.expand_dims(i[...,0], -1)\n",
        "            dx = tf.linalg.matrix_transpose(ii)-ii\n",
        "            dx = tf.RaggedTensor.from_tensor(dx)\n",
        "\n",
        "            jj = tf.expand_dims(i[...,1], -1)\n",
        "            dy = tf.linalg.matrix_transpose(jj)-jj\n",
        "            dy = tf.RaggedTensor.from_tensor(dy)\n",
        "\n",
        "            dnorm = tf.math.sqrt(tf.square(dx)+tf.square(dy))\n",
        "\n",
        "            dx = tf.math.divide_no_nan(dx,dnorm)\n",
        "            dy = tf.math.divide_no_nan(dy,dnorm)\n",
        "\n",
        "            return dx, dy\n",
        "\n",
        "        posdata = tf.map_fn(fn=transpose_tensors_pos,\n",
        "                          elems=X_current,\n",
        "                          fn_output_signature=(tf.RaggedTensorSpec(shape=[None, None],\n",
        "                                                                   ragged_rank=1, \n",
        "                                                                   dtype=tf.float64),\n",
        "                                               tf.RaggedTensorSpec(shape=[None, None], \n",
        "                                                                   ragged_rank=1, \n",
        "                                                                   dtype=tf.float64),\n",
        "                                               tf.RaggedTensorSpec(shape=[None, None], \n",
        "                                                                   ragged_rank=1, \n",
        "                                                                   dtype=tf.float64))\n",
        "                          )\n",
        "        \n",
        "        dx, dy, dist = posdata\n",
        "\n",
        "        veldata = tf.map_fn(fn=transpose_tensors_vel,\n",
        "                          elems=V_current,\n",
        "                          fn_output_signature=(tf.RaggedTensorSpec(shape=[None, None], \n",
        "                                                                   ragged_rank=1, \n",
        "                                                                   dtype=tf.float64),\n",
        "                                               tf.RaggedTensorSpec(shape=[None, None], \n",
        "                                                                   ragged_rank=1, \n",
        "                                                                   dtype=tf.float64))\n",
        "                          )\n",
        "        dvx, dvy = veldata\n",
        "\n",
        "        def angles(x):\n",
        "            x = x.to_tensor()\n",
        "            return tf.expand_dims(tf.math.atan2(x[...,1],x[...,0]),-1)\n",
        "\n",
        "        angles = tf.map_fn(fn=angles,\n",
        "                           elems=V_current,\n",
        "                           fn_output_signature=tf.RaggedTensorSpec(shape=[None, None], \n",
        "                                                                   ragged_rank=0, \n",
        "                                                                   dtype=tf.float64)\n",
        "                           )\n",
        "        angle_to_neigh = tf.math.atan2(dy, dx)\n",
        "\n",
        "        rel_angle_to_neigh = angle_to_neigh - angles\n",
        "\n",
        "        #dist = tf.math.sqrt(tf.square(dx)+tf.square(dy))\n",
        "\n",
        "        interaction_radius = 25.0# tf.reduce_mean(dist,axis=[1,2],keepdims=True)\n",
        "        \n",
        "        def set_diag_func(x):\n",
        "            x = x.to_tensor()\n",
        "            x = tf.linalg.set_diag(x, tf.zeros(tf.shape(x)[0],dtype=tf.int32))\n",
        "            return tf.RaggedTensor.from_tensor(x)\n",
        "        \n",
        "        adj_matrix = tf.where(dist<interaction_radius, tf.ones_like(dist,dtype=tf.int32), tf.zeros_like(dist,dtype=tf.int32))\n",
        "        #adj_matrix = tf.linalg.set_diag(adj_matrix, tf.zeros(tf.shape(adj_matrix)[:2],dtype=tf.int32))\n",
        "        adj_matrix = tf.map_fn(fn=set_diag_func,\n",
        "                               elems=adj_matrix,\n",
        "                               fn_output_signature=(tf.RaggedTensorSpec(shape=[None,None],\n",
        "                                                                        ragged_rank=1, \n",
        "                                                                        dtype=tf.int32)))\n",
        "        \n",
        "        sender_recv_list = tf.where(adj_matrix)\n",
        "        n_edge = tf.reduce_sum(adj_matrix, axis=[1,2])\n",
        "        #print('sr list', sender_recv_list)\n",
        "        # def count_nodes(x):\n",
        "        #     return tf.shape(x)[-1]\n",
        "\n",
        "        # #n_node = tf.ones_like(n_edge)*tf.shape(adj_matrix)[-1]\n",
        "        # n_node = tf.map_fn(fn=count_nodes,\n",
        "        #                    elems=adj_matrix,\n",
        "        #                    fn_output_signature=tf.RaggedTensorSpec(shape=[None,None], ragged_rank=1, dtype=tf.int32))\n",
        "        n_node = adj_matrix.row_lengths(axis=1)\n",
        "        #print(tf.range(adj_matrix.get_shape()[0]))\n",
        "        #output_i = tf.repeat(tf.range(adj_matrix.get_shape()[0]),n_node)\n",
        "\n",
        "        # Finds batch indices (s1) for each edge and multiplies by \n",
        "        # the number of nodes in each graph (n_node) to determine the \n",
        "        # shift along the sparse matrix axes for sender and receiver indices\n",
        "\n",
        "        s1 = tf.squeeze(tf.slice(sender_recv_list,(0,0),size=(-1,1)))\n",
        "        s2 = tf.squeeze(tf.slice(sender_recv_list,(0,1),size=(-1,1)))\n",
        "        s3 = tf.squeeze(tf.slice(sender_recv_list,(0,2),size=(-1,1)))\n",
        "        # print('s1, s2, s3', s1.shape, s2.shape, s3.shape)\n",
        "        # print('nodes', n_node)#.shape)\n",
        "\n",
        "        def indice_func(n):\n",
        "            return n_node[n]\n",
        "        \n",
        "        indice_update = tf.map_fn(fn=indice_func,\n",
        "                                  elems=s1\n",
        "                                  #fn_output_signature=\n",
        "                                  )\n",
        "        senders = s2 + indice_update\n",
        "        receivers = s3 + indice_update\n",
        "\n",
        "        # def send_func(n):\n",
        "        #     return s2 + s1*n\n",
        "      \n",
        "        # def rec_func(n):\n",
        "        #     return s3 + s1*n\n",
        "        \n",
        "        # senders = tf.map_fn(fn=send_func,\n",
        "        #                     elems=n_node,\n",
        "        #                     fn_output_signature=tf.TensorSpec(shape=[None], dtype=tf.int64)\n",
        "        #                     )\n",
        "        # receivers = tf.map_fn(fn=send_func,\n",
        "        #                     elems=n_node,\n",
        "        #                     fn_output_signature=tf.TensorSpec(shape=[None], dtype=tf.int64)\n",
        "        #                     )\n",
        "        #print(senders.shape)\n",
        "        # senders = tf.squeeze(tf.slice(sender_recv_list,(0,1),size=(-1,1))) + tf.squeeze(tf.slice(sender_recv_list,(0,0),size=(-1,1)))*n_node\n",
        "        # receivers = tf.squeeze(tf.slice(sender_recv_list,(0,2),size=(-1,1))) + tf.squeeze(tf.slice(sender_recv_list,(0,0),size=(-1,1)))*tf.shape(adj_matrix,out_type=tf.int64)[-1]\n",
        "        total_nodes = tf.reduce_sum(n_node, axis=0)\n",
        "        output_a = tf.sparse.SparseTensor(indices=tf.stack([senders,receivers],axis=1), values = tf.ones_like(senders),dense_shape=[total_nodes, total_nodes])\n",
        "        edge_distance = tf.expand_dims(tf.gather_nd(dist,sender_recv_list),-1)\n",
        "        #print(\"ed\", edge_distance.shape)\n",
        "        edge_x_distance = tf.expand_dims(tf.gather_nd(tf.math.cos(rel_angle_to_neigh),sender_recv_list),-1)  # neigbour position relative to sender heading\n",
        "        edge_y_distance = tf.expand_dims(tf.gather_nd(tf.math.sin(rel_angle_to_neigh),sender_recv_list),-1)  # neigbour position relative to sender heading\n",
        "        edge_x_orientation = tf.expand_dims(tf.gather_nd(dvx,sender_recv_list),-1)  # neigbour velocity relative to sender heading\n",
        "        edge_y_orientation = tf.expand_dims(tf.gather_nd(dvy,sender_recv_list),-1)  # neigbour velocity relative to sender heading\n",
        "\n",
        "\n",
        "        output_e = tf.concat([edge_distance,edge_x_distance,edge_y_distance,edge_x_orientation,edge_y_orientation],axis=-1)\n",
        "        #edges = tf.concat([edge_distance,edge_x_distance,edge_y_distance],axis=-1)\n",
        "        #node_velocities = tf.transpose(V, perm=[0,2,1,3])\n",
        "        def vel_transpose_func(x):\n",
        "            x = x.to_tensor()\n",
        "            x = tf.transpose(x, perm=[1,0,2])\n",
        "            return tf.reshape(x, (-1, 2*(WINDOW_SIZE-1)))\n",
        "        #print(V.shape)\n",
        "        node_velocities = tf.map_fn(fn=vel_transpose_func,\n",
        "                                    elems=V,\n",
        "                                    fn_output_signature=tf.RaggedTensorSpec(shape=[None, None],\n",
        "                                                                            ragged_rank=0, \n",
        "                                                                            dtype=tf.float64),\n",
        "                                    infer_shape=False\n",
        "                                    )\n",
        "\n",
        "        #node_accelerations = tf.transpose(A, perm=[0,2,1,3])\n",
        "        output_x = node_velocities.merge_dims(0,1)\n",
        "\n",
        "        return output_x, output_a, output_e#, output_i\n",
        "\n",
        "naive_ppfunc = functools.partial(naive_pre_process_function,\n",
        "                           _Lx=DOMAIN_SIZE[0],\n",
        "                           _Ly=DOMAIN_SIZE[1]\n",
        "                           )"
      ],
      "id": "Edtq7fHUSiGc"
    },
    {
      "cell_type": "code",
      "execution_count": null,
      "metadata": {
        "id": "8SpOMvGp7aAa"
      },
      "outputs": [],
      "source": [
        "b=0\n",
        "parsed_train_dataset = make_window_dataset(pos, vel)\n",
        "for i, (x,y) in enumerate(parsed_train_dataset):\n",
        "    a = tf.where(tf.math.logical_not(tf.reduce_any(tf.math.logical_or(tf.math.is_nan(x), tf.math.is_nan(y)), axis=(0,2))))[:,0]\n",
        "    if i==b:break\n",
        "# print(tf.math.reduce_sum(tf.cast(tf.math.logical_not(tf.reduce_all(tf.math.is_nan(y), axis=(0,2))),tf.float32)))\n",
        "# print(tf.math.reduce_sum(tf.cast(tf.math.logical_not(tf.reduce_all(tf.math.logical_or(tf.math.is_nan(x), tf.math.is_nan(y)), axis=(0,2))),tf.float32)))\n",
        "index=3044\n",
        "print(tf.reduce_any(tf.math.logical_or(tf.math.is_nan(x), tf.math.is_nan(y)),axis=[0,2])[index])\n",
        "print(tf.math.logical_or(tf.math.is_nan(x), tf.math.is_nan(y))[:,index,:])\n",
        "print(x[:,index,:])\n",
        "print(a)\n",
        "print(ns[b])\n",
        "#print(pos[b,:,:][a])\n",
        "#print(tf.math.is_nan(pos[b,:,:][a]))"
      ],
      "id": "8SpOMvGp7aAa"
    },
    {
      "cell_type": "code",
      "execution_count": null,
      "metadata": {
        "id": "LFTeLbhTVIKq"
      },
      "outputs": [],
      "source": [
        "#@title ### Create Dataset { form-width: \"30%\"}\n",
        "\n",
        "n_out = 2\n",
        "n_feat_node = (WINDOW_SIZE-1)*4+2\n",
        "n_feat_edge = 5\n",
        "\n",
        "BATCH_SIZE=128\n",
        "\n",
        "\n",
        "#parsed_train_dataset = tf.data.Dataset.from_tensor_slices((pos, vel))\n",
        "parsed_train_dataset = make_window_dataset(pos, vel)\n",
        "parsed_train_dataset = parsed_train_dataset.flat_map(reduce_windows)\n",
        "parsed_train_dataset = parsed_train_dataset.map(split_with_window)\n",
        "# for batch in parsed_train_dataset:\n",
        "#     print(batch[0].shape)\n",
        "#     break\n",
        "parsed_train_dataset = parsed_train_dataset.shuffle(10000, reshuffle_each_iteration=True)\n",
        "#parsed_train_dataset = parsed_train_dataset.repeat(EPOCHS)\n",
        "parsed_train_dataset = parsed_train_dataset.apply(tf.data.experimental.dense_to_ragged_batch(BATCH_SIZE, drop_remainder=True))\n",
        "#parsed_train_dataset = parsed_train_dataset.map(_parse_graph)\n",
        "# for batch in parsed_train_dataset:\n",
        "#     #print(naive_ppfunc(batch[0][0], batch[0][1]))\n",
        "#     print(batch[1].shape)\n",
        "#     break\n",
        "parsed_train_dataset = parsed_train_dataset.map(lambda x, y: (naive_ppfunc(x[0], x[1]), y))\n",
        "\n",
        "#big_list = [batch[0].shape[1]-ns[i] for i, batch in enumerate(parsed_train_dataset)]\n",
        "# valid_dataset =  tf.data.TFRecordDataset(tf.data.Dataset.list_files([valid_dir + filename for filename in os.listdir(valid_dir)]))\n",
        "\n",
        "# parsed_valid_dataset = valid_dataset.map(_parse_record)\n",
        "# parsed_valid_dataset = parsed_valid_dataset.map(_parse_tensor)\n",
        "# parsed_valid_dataset = parsed_valid_dataset.flat_map(make_window_dataset)\n",
        "# parsed_valid_dataset = parsed_valid_dataset.map(split_with_window)\n",
        "# parsed_valid_dataset = parsed_valid_dataset.shuffle(10000, reshuffle_each_iteration=True)\n",
        "# #parsed_valid_dataset = parsed_valid_dataset.repeat(EPOCHS)\n",
        "# parsed_valid_dataset = parsed_valid_dataset.batch(BATCH_SIZE, drop_remainder=True)\n",
        "# #parsed_valid_dataset = parsed_valid_dataset.map(_parse_graph)"
      ],
      "id": "LFTeLbhTVIKq"
    },
    {
      "cell_type": "code",
      "execution_count": null,
      "metadata": {
        "id": "Yv14wauH6jZ9"
      },
      "outputs": [],
      "source": [
        "big_list"
      ],
      "id": "Yv14wauH6jZ9"
    },
    {
      "cell_type": "code",
      "execution_count": null,
      "metadata": {
        "cellView": "form",
        "id": "hOId7yMy2XWp"
      },
      "outputs": [],
      "source": [
        "#@title ### Preprocessing Layer\n",
        "\n",
        "class PreprocessingLayer(tf.keras.layers.Layer):\n",
        "    def __init__(self, Ls):\n",
        "        super(PreprocessingLayer, self).__init__()\n",
        "        self._Lx = Ls[0]\n",
        "        self._Ly = Ls[1]\n",
        "        \n",
        "\n",
        "    #@tf.function(input_signature=([tf.TensorSpec(shape=(None,WINDOW_SIZE-1,N,2), dtype=tf.float32),tf.TensorSpec(shape=(None,WINDOW_SIZE-1,N,2), dtype=tf.float32),tf.TensorSpec(shape=(None,WINDOW_SIZE-1,N,2), dtype=tf.float32)]))\n",
        "    def call(self, inputs, train_mode=True, add_noise=True):\n",
        "        \n",
        "        X, V = inputs\n",
        "        # input shape [batch, steps, num. agents, dims]\n",
        "        # node features xpos, ypos, xvel, yvel\n",
        "        # edge features distance, rel angle to receiver\n",
        "        X_current = X[:,-1]\n",
        "        V_current = V[:,-1]\n",
        "\n",
        "        Xx = tf.expand_dims(X_current[...,0],-1)\n",
        "        dx = -Xx + tf.linalg.matrix_transpose(Xx)\n",
        "        dx = tf.where(dx>0.5*self._Lx, dx-self._Lx, dx)\n",
        "        dx = tf.where(dx<-0.5*self._Lx, dx+self._Lx, dx)\n",
        "        #x_boundary_dist = tf.concat([Xx, self._L-Xx], axis=-1)\n",
        "\n",
        "        Xy = tf.expand_dims(X_current[...,1],-1)\n",
        "        dy = -Xy + tf.linalg.matrix_transpose(Xy)\n",
        "        dy = tf.where(dy>0.5*self._Ly, dy-self._Ly, dy)\n",
        "        dy = tf.where(dy<-0.5*self._Ly, dy+self._Ly, dy)\n",
        "        #y_boundary_dist = tf.concat([Xy, self._L-Xy], axis=-1)\n",
        "\n",
        "        #boundary_dist = tf.concat([x_boundary_dist, y_boundary_dist], axis=-1)\n",
        "\n",
        "        Vx = tf.expand_dims(V_current[...,0],-1)\n",
        "        dvx = -Vx + tf.linalg.matrix_transpose(Vx)\n",
        "\n",
        "        Vy = tf.expand_dims(V_current[...,1],-1)\n",
        "        dvy = -Vy + tf.linalg.matrix_transpose(Vy)\n",
        "        \n",
        "        dvnorm = tf.math.sqrt(dvx**2+dvy**2)\n",
        "        dvx = tf.math.divide_no_nan(dvx,dvnorm)\n",
        "        dvy = tf.math.divide_no_nan(dvy,dvnorm)\n",
        "\n",
        "        angles = tf.expand_dims(tf.math.atan2(V_current[...,1],V_current[...,0]),-1)\n",
        "        angle_to_neigh = tf.math.atan2(dy, dx)\n",
        "\n",
        "        rel_angle_to_neigh = angle_to_neigh - angles\n",
        "\n",
        "        dist = tf.math.sqrt(tf.square(dx)+tf.square(dy))\n",
        "\n",
        "        interaction_radius = 25.0# tf.reduce_mean(dist,axis=[1,2],keepdims=True)\n",
        "        adj_matrix = tf.where(dist<interaction_radius, tf.ones_like(dist,dtype=tf.int32), tf.zeros_like(dist,dtype=tf.int32))\n",
        "        adj_matrix = tf.linalg.set_diag(adj_matrix, tf.zeros(tf.shape(adj_matrix)[:2],dtype=tf.int32))\n",
        "        sender_recv_list = tf.where(adj_matrix)\n",
        "        n_edge = tf.reduce_sum(adj_matrix, axis=[1,2])\n",
        "        n_node = tf.ones_like(n_edge)*tf.shape(adj_matrix)[-1]\n",
        "        output_i = tf.repeat(tf.range(tf.shape(adj_matrix)[0]),n_node)\n",
        "\n",
        "        senders = tf.squeeze(tf.slice(sender_recv_list,(0,1),size=(-1,1)))+ tf.squeeze(tf.slice(sender_recv_list,(0,0),size=(-1,1)))*tf.shape(adj_matrix,out_type=tf.int64)[-1]\n",
        "        receivers = tf.squeeze(tf.slice(sender_recv_list,(0,2),size=(-1,1))) + tf.squeeze(tf.slice(sender_recv_list,(0,0),size=(-1,1)))*tf.shape(adj_matrix,out_type=tf.int64)[-1]\n",
        "\n",
        "        output_a = tf.sparse.SparseTensor(indices=tf.stack([senders,receivers],axis=1), values = tf.ones_like(senders),dense_shape=[tf.shape(output_i)[0],tf.shape(output_i)[0]])\n",
        "        edge_distance = tf.expand_dims(tf.gather_nd(dist,sender_recv_list),-1)\n",
        "\n",
        "        edge_x_distance = tf.expand_dims(tf.gather_nd(tf.math.cos(rel_angle_to_neigh),sender_recv_list),-1)  # neigbour position relative to sender heading\n",
        "        edge_y_distance = tf.expand_dims(tf.gather_nd(tf.math.sin(rel_angle_to_neigh),sender_recv_list),-1)  # neigbour position relative to sender heading\n",
        "        edge_x_orientation = tf.expand_dims(tf.gather_nd(dvx,sender_recv_list),-1)  # neigbour velocity relative to sender heading\n",
        "        edge_y_orientation = tf.expand_dims(tf.gather_nd(dvy,sender_recv_list),-1)  # neigbour velocity relative to sender heading\n",
        "\n",
        "\n",
        "        output_e = tf.concat([edge_distance,edge_x_distance,edge_y_distance,edge_x_orientation,edge_y_orientation],axis=-1)\n",
        "        node_velocities = tf.transpose(V, perm=[0,2,1,3])\n",
        "\n",
        "        output_x = tf.reshape(node_velocities,(-1,2*(WINDOW_SIZE-1)))\n",
        "\n",
        "        return output_x, output_a, output_e, output_i"
      ],
      "id": "hOId7yMy2XWp"
    },
    {
      "cell_type": "code",
      "execution_count": null,
      "metadata": {
        "id": "W4pqnbtbGG7u"
      },
      "outputs": [],
      "source": [
        "#@title ### Model { form-width: \"30%\" }\n",
        "\n",
        "min_lr = 1e-6\n",
        "lr = tf.keras.optimizers.schedules.ExponentialDecay(initial_learning_rate=1e-3 - min_lr,\n",
        "                                decay_steps=int(5e6),\n",
        "                                decay_rate=0.1) #+ min_lr\n",
        "MLP_SIZE=4\n",
        "\n",
        "class GNNNet(Model):\n",
        "    def __init__(self,n_out=4,mp_steps=2):\n",
        "        super().__init__()\n",
        "        #self.preprocess = PreprocessingLayer(DOMAIN_SIZE)\n",
        "        self.encoder = XENetConv([MLP_SIZE,MLP_SIZE], MLP_SIZE, 2*MLP_SIZE, node_activation=\"tanh\", edge_activation=\"tanh\") #ECCConv(32, activation=\"tanh\")\n",
        "        \n",
        "        self.process = XENetConv([MLP_SIZE,MLP_SIZE], MLP_SIZE, 2*MLP_SIZE, node_activation=\"relu\", edge_activation=\"relu\")# MessagePassing(aggregate='mean')# 32, activation=\"relu\")\n",
        "        \n",
        "        self.decoder = Dense(tfpl.IndependentNormal.params_size(n_out), activation=\"tanh\",use_bias=False) #ECCConv(n_out, activation=\"tanh\")\n",
        "        \n",
        "        self.mean_decoder = Dense(n_out, activation=\"tanh\",use_bias=False) #ECCConv(n_out, activation=\"tanh\")\n",
        "        self.std_decoder = Dense(n_out, activation=\"linear\",kernel_initializer=tf.keras.initializers.Zeros(),bias_initializer=tf.keras.initializers.Constant(-2.)) #ECCConv(n_out, activation=\"tanh\")\n",
        "\n",
        "        self.distribution = tfp.layers.IndependentNormal(n_out)#lambda (mu, std): tfd.Normal(loc=mu, scale=std))\n",
        "        #self.global_pool = GlobalAvgPool()\n",
        "        #self.dense = Dense(32, activation=\"relu\")\n",
        "        #self.final = Dense(n_out, activation=\"sigmoid\")\n",
        "        self.mp_steps=mp_steps\n",
        "    \n",
        "    def call(self, inputs, train_mode=True):\n",
        "        #x, a, e, i = self.preprocess(inputs, train_mode=train_mode)\n",
        "        #x.set_shape([None,None])\n",
        "        #print(x.shape, a.shape, e.shape, i.shape)\n",
        "        x, a, e = inputs\n",
        "        x, e = self.encoder([x, a, e])\n",
        "        #x = self.node_encoder(x)\n",
        "        #e = self.edge_encoder(e)\n",
        "        for _ in range(self.mp_steps):\n",
        "            x, e = self.process([x, a, e])         \n",
        "        mu = self.mean_decoder(x)\n",
        "        std = self.std_decoder(x)\n",
        "        x = tf.keras.layers.concatenate([mu,std])\n",
        "#        x = self.distribution([mu,std])\n",
        "#        x = self.decoder(x)\n",
        "        x = self.distribution(x)\n",
        "        #x = self.global_pool([x, i])\n",
        "        #x = self.dense(x)\n",
        "        #x = self.final(x)\n",
        "\n",
        "        #x = tf.reshape(x, (-1, N, 2))\n",
        "\n",
        "        return x\n",
        "\n",
        "\n",
        "model = GNNNet(n_out=n_out)\n",
        "optimizer = Adam(lr)\n",
        "loss_fn = MeanSquaredError()\n",
        "\n",
        "def loss_fn(target,predicted_dist):\n",
        "    return -tf.reduce_sum(predicted_dist.log_prob(target.merge_dims(0,2)))"
      ],
      "id": "W4pqnbtbGG7u"
    },
    {
      "cell_type": "code",
      "execution_count": null,
      "metadata": {
        "id": "IPbjfwN1H9vy"
      },
      "outputs": [],
      "source": [
        "#@title ### Train Step\n",
        "\n",
        "#@tf.function()#input_signature=[[tf.TensorSpec(shape=(None,None,2), dtype=tf.float32),tf.TensorSpec(shape=(None,None,2), dtype=tf.float32),tf.TensorSpec(shape=(None,None,2), dtype=tf.float32)],tf.TensorSpec(shape=(None,4), dtype=tf.float32)], experimental_relax_shapes=True)\n",
        "def train_step(inputs, target):\n",
        "    with tf.GradientTape() as tape:\n",
        "        predictions = model(inputs, training=True)\n",
        "        #print(predictions.dtype, target.dtype)\n",
        "        target = tf.cast(target, dtype=tf.float32)\n",
        "        loss = loss_fn(target, predictions) #+ sum(model.losses)\n",
        "    gradients = tape.gradient(loss, model.trainable_variables)\n",
        "    optimizer.apply_gradients(zip(gradients, model.trainable_variables))\n",
        "    \n",
        "    return loss\n",
        "\n",
        "# def train_step_op(inputs, target):\n",
        "#     with tf.GradientTape() as tape:\n",
        "#         predictions = model(inputs, training=True)\n",
        "#         loss = op_loss(target, predictions) #+ sum(model.losses)\n",
        "#     gradients = tape.gradient(loss, model.trainable_variables)\n",
        "#     optimizer.apply_gradients(zip(gradients, model.trainable_variables))\n",
        "    \n",
        "#     return loss"
      ],
      "id": "IPbjfwN1H9vy"
    },
    {
      "cell_type": "code",
      "execution_count": 157,
      "metadata": {
        "colab": {
          "base_uri": "https://localhost:8080/"
        },
        "id": "PFV3nFtKICJc",
        "outputId": "6edcdb0f-1434-492f-aa2f-76dbba47e494"
      },
      "outputs": [
        {
          "metadata": {
            "tags": null
          },
          "name": "stdout",
          "output_type": "stream",
          "text": [
            "total = 39, batch size = 128\n",
            "\n",
            "Start of epoch 0\n"
          ]
        },
        {
          "metadata": {
            "tags": null
          },
          "name": "stderr",
          "output_type": "stream",
          "text": [
            "loss 46551.911458: 100%|██████████| 39/39 [00:11<00:00,  3.52it/s]\n"
          ]
        },
        {
          "metadata": {
            "tags": null
          },
          "name": "stdout",
          "output_type": "stream",
          "text": [
            "\n",
            "Start of epoch 1\n"
          ]
        },
        {
          "metadata": {
            "tags": null
          },
          "name": "stderr",
          "output_type": "stream",
          "text": [
            "loss 45612.728423: 100%|██████████| 39/39 [00:10<00:00,  3.55it/s]\n"
          ]
        },
        {
          "metadata": {
            "tags": null
          },
          "name": "stdout",
          "output_type": "stream",
          "text": [
            "\n",
            "Start of epoch 2\n"
          ]
        },
        {
          "metadata": {
            "tags": null
          },
          "name": "stderr",
          "output_type": "stream",
          "text": [
            "loss 45135.835751: 100%|██████████| 39/39 [00:10<00:00,  3.59it/s]\n"
          ]
        },
        {
          "metadata": {
            "tags": null
          },
          "name": "stdout",
          "output_type": "stream",
          "text": [
            "\n",
            "Start of epoch 3\n"
          ]
        },
        {
          "metadata": {
            "tags": null
          },
          "name": "stderr",
          "output_type": "stream",
          "text": [
            "loss 44577.247954: 100%|██████████| 39/39 [00:11<00:00,  3.53it/s]\n"
          ]
        },
        {
          "metadata": {
            "tags": null
          },
          "name": "stdout",
          "output_type": "stream",
          "text": [
            "\n",
            "Start of epoch 4\n"
          ]
        },
        {
          "metadata": {
            "tags": null
          },
          "name": "stderr",
          "output_type": "stream",
          "text": [
            "loss 43525.099888: 100%|██████████| 39/39 [00:10<00:00,  3.55it/s]\n"
          ]
        },
        {
          "metadata": {
            "tags": null
          },
          "name": "stdout",
          "output_type": "stream",
          "text": [
            "\n",
            "Start of epoch 5\n"
          ]
        },
        {
          "metadata": {
            "tags": null
          },
          "name": "stderr",
          "output_type": "stream",
          "text": [
            "loss 43043.474516: 100%|██████████| 39/39 [00:10<00:00,  3.55it/s]\n"
          ]
        },
        {
          "metadata": {
            "tags": null
          },
          "name": "stdout",
          "output_type": "stream",
          "text": [
            "\n",
            "Start of epoch 6\n"
          ]
        },
        {
          "metadata": {
            "tags": null
          },
          "name": "stderr",
          "output_type": "stream",
          "text": [
            "loss 42358.231213: 100%|██████████| 39/39 [00:11<00:00,  3.51it/s]\n"
          ]
        },
        {
          "metadata": {
            "tags": null
          },
          "name": "stdout",
          "output_type": "stream",
          "text": [
            "\n",
            "Start of epoch 7\n"
          ]
        },
        {
          "metadata": {
            "tags": null
          },
          "name": "stderr",
          "output_type": "stream",
          "text": [
            "loss 41621.457961: 100%|██████████| 39/39 [00:11<00:00,  3.54it/s]\n"
          ]
        },
        {
          "metadata": {
            "tags": null
          },
          "name": "stdout",
          "output_type": "stream",
          "text": [
            "\n",
            "Start of epoch 8\n"
          ]
        },
        {
          "metadata": {
            "tags": null
          },
          "name": "stderr",
          "output_type": "stream",
          "text": [
            "loss 40678.818452: 100%|██████████| 39/39 [00:10<00:00,  3.58it/s]\n"
          ]
        },
        {
          "metadata": {
            "tags": null
          },
          "name": "stdout",
          "output_type": "stream",
          "text": [
            "\n",
            "Start of epoch 9\n"
          ]
        },
        {
          "metadata": {
            "tags": null
          },
          "name": "stderr",
          "output_type": "stream",
          "text": [
            "loss 40102.272693: 100%|██████████| 39/39 [00:10<00:00,  3.56it/s]\n"
          ]
        },
        {
          "metadata": {
            "tags": null
          },
          "name": "stdout",
          "output_type": "stream",
          "text": [
            "\n",
            "Start of epoch 10\n"
          ]
        },
        {
          "metadata": {
            "tags": null
          },
          "name": "stderr",
          "output_type": "stream",
          "text": [
            "loss 39574.529762: 100%|██████████| 39/39 [00:11<00:00,  3.54it/s]\n"
          ]
        },
        {
          "metadata": {
            "tags": null
          },
          "name": "stdout",
          "output_type": "stream",
          "text": [
            "\n",
            "Start of epoch 11\n"
          ]
        },
        {
          "metadata": {
            "tags": null
          },
          "name": "stderr",
          "output_type": "stream",
          "text": [
            "loss 38855.848586: 100%|██████████| 39/39 [00:11<00:00,  3.53it/s]\n"
          ]
        },
        {
          "metadata": {
            "tags": null
          },
          "name": "stdout",
          "output_type": "stream",
          "text": [
            "\n",
            "Start of epoch 12\n"
          ]
        },
        {
          "metadata": {
            "tags": null
          },
          "name": "stderr",
          "output_type": "stream",
          "text": [
            "loss 38155.558222: 100%|██████████| 39/39 [00:11<00:00,  3.50it/s]\n"
          ]
        },
        {
          "metadata": {
            "tags": null
          },
          "name": "stdout",
          "output_type": "stream",
          "text": [
            "\n",
            "Start of epoch 13\n"
          ]
        },
        {
          "metadata": {
            "tags": null
          },
          "name": "stderr",
          "output_type": "stream",
          "text": [
            "loss 37491.828497: 100%|██████████| 39/39 [00:11<00:00,  3.51it/s]\n"
          ]
        },
        {
          "metadata": {
            "tags": null
          },
          "name": "stdout",
          "output_type": "stream",
          "text": [
            "\n",
            "Start of epoch 14\n"
          ]
        },
        {
          "output_type": "stream",
          "name": "stderr",
          "text": [
            "loss 37006.102679: 100%|██████████| 39/39 [00:11<00:00,  3.52it/s]\n"
          ]
        },
        {
          "output_type": "stream",
          "name": "stdout",
          "text": [
            "\n",
            "Start of epoch 15\n"
          ]
        },
        {
          "output_type": "stream",
          "name": "stderr",
          "text": [
            "loss 36157.833333: 100%|██████████| 39/39 [00:11<00:00,  3.51it/s]\n"
          ]
        },
        {
          "output_type": "stream",
          "name": "stdout",
          "text": [
            "\n",
            "Start of epoch 16\n"
          ]
        },
        {
          "output_type": "stream",
          "name": "stderr",
          "text": [
            "loss 35499.269159: 100%|██████████| 39/39 [00:11<00:00,  3.49it/s]\n"
          ]
        },
        {
          "output_type": "stream",
          "name": "stdout",
          "text": [
            "\n",
            "Start of epoch 17\n"
          ]
        },
        {
          "output_type": "stream",
          "name": "stderr",
          "text": [
            "loss 34309.370908: 100%|██████████| 39/39 [00:11<00:00,  3.50it/s]\n"
          ]
        },
        {
          "output_type": "stream",
          "name": "stdout",
          "text": [
            "\n",
            "Start of epoch 18\n"
          ]
        },
        {
          "output_type": "stream",
          "name": "stderr",
          "text": [
            "loss 33423.428757: 100%|██████████| 39/39 [00:11<00:00,  3.48it/s]\n"
          ]
        },
        {
          "output_type": "stream",
          "name": "stdout",
          "text": [
            "\n",
            "Start of epoch 19\n"
          ]
        },
        {
          "output_type": "stream",
          "name": "stderr",
          "text": [
            "loss 32497.857143: 100%|██████████| 39/39 [00:11<00:00,  3.49it/s]\n"
          ]
        }
      ],
      "source": [
        "#@title ### Train Model { form-width: \"30%\" }\n",
        "step = losses = 0\n",
        "total=len(list(parsed_train_dataset))\n",
        "epochs = 20  # Number of training epochs\n",
        "batch_size = BATCH_SIZE  # Batch size\n",
        "print(f\"total = {total}, batch size = {batch_size}\")\n",
        "divisor=20\n",
        "loss_values = np.zeros((epochs,total))\n",
        "\n",
        "log_dir = os.path.join(\"logs\", datetime.datetime.now().strftime(\"%Y%m%d-%H%M%S\"))\n",
        "summary_writer = tf.summary.create_file_writer(logdir=log_dir)\n",
        "\n",
        "for epoch in range(epochs):\n",
        "    print(\"\\nStart of epoch %d\" % (epoch,))\n",
        "    epoch_loss_avg = tf.keras.metrics.Mean()\n",
        "    epoch_accuracy = tf.keras.metrics.SparseCategoricalAccuracy()\n",
        "    pbar = tqdm(enumerate(parsed_train_dataset), total=total)\n",
        "    \n",
        "    for step, batch in pbar:\n",
        "        inputs, target = batch\n",
        "        #inputs = layer(inputs)\n",
        "        losses = train_step(inputs,target)\n",
        "        loss_values[epoch,step]=losses.numpy()\n",
        "        #epoch_loss_avg(losses)\n",
        "        #epoch_accuracy(y, model())\n",
        "        if step%divisor==0:\n",
        "            pbar.set_description(\"loss %f\" % (tf.reduce_mean(loss_values[epoch,0:step+1]).numpy()))\n",
        "    \n",
        "    with summary_writer.as_default():\n",
        "        tf.summary.scalar('epoch_loss_avg', epoch_loss_avg.result(), step=optimizer.iterations)\n",
        "        tf.summary.scalar('epoch_accuracy', epoch_accuracy.result(), step=optimizer.iterations)"
      ],
      "id": "PFV3nFtKICJc"
    },
    {
      "cell_type": "markdown",
      "metadata": {
        "id": "dfutD0vdvZZl"
      },
      "source": [
        "# Outputs/Rollouts"
      ],
      "id": "dfutD0vdvZZl"
    },
    {
      "cell_type": "code",
      "execution_count": null,
      "metadata": {
        "colab": {
          "base_uri": "https://localhost:8080/",
          "height": 301
        },
        "id": "U4TNjPyLJcCU",
        "outputId": "68288677-33a2-4972-cab7-a5a307aa0cab"
      },
      "outputs": [
        {
          "data": {
            "text/plain": [
              "[<matplotlib.lines.Line2D at 0x7f5ad190d3d0>]"
            ]
          },
          "execution_count": 127,
          "metadata": {},
          "output_type": "execute_result"
        },
        {
          "data": {
            "image/png": "[encoded data removed]",
            "text/plain": [
              "<Figure size 460.8x316.8 with 1 Axes>"
            ]
          },
          "metadata": {},
          "output_type": "display_data"
        }
      ],
      "source": [
        "#@title ### Loss Plot\n",
        "\n",
        "compression = 10\n",
        "\n",
        "loss = np.ndarray.flatten(loss_values)\n",
        "#loss = np.nanmean(np.pad(loss.astype(float), (0, compression - loss.size%compression), mode='constant', constant_values=np.NaN).reshape(-1, compression), axis=1)\n",
        "plt.plot(loss[100:])\n",
        "#plt.yscale('log')"
      ],
      "id": "U4TNjPyLJcCU"
    },
    {
      "cell_type": "code",
      "execution_count": null,
      "metadata": {
        "colab": {
          "base_uri": "https://localhost:8080/"
        },
        "id": "VlfyVholCPXm",
        "outputId": "d31c8ce3-181d-471d-ba76-ba843da69a00"
      },
      "outputs": [
        {
          "name": "stderr",
          "output_type": "stream",
          "text": [
            "39it [00:13,  2.97it/s]"
          ]
        },
        {
          "name": "stdout",
          "output_type": "stream",
          "text": [
            "validation loss 31593.520532852563\n"
          ]
        },
        {
          "name": "stderr",
          "output_type": "stream",
          "text": [
            "\n"
          ]
        }
      ],
      "source": [
        "#@title ### Validation\n",
        "\n",
        "pred_list = []\n",
        "true_values = []\n",
        "valid_loss=0\n",
        "c=0\n",
        "for databatch in tqdm(parsed_train_dataset):\n",
        "\n",
        "    target = databatch[1]\n",
        "    true_values.append(tf.expand_dims(target.merge_dims(0,-2),0).numpy())\n",
        "\n",
        "    predictions = model(databatch[0],train_mode=False)\n",
        "    pred_list.append((predictions.sample(1).numpy()))\n",
        "    target = tf.cast(target, dtype=tf.float32)\n",
        "    #loss_value = tf.keras.losses.MeanSquaredError()(target,predictions).numpy()\n",
        "    loss_value = loss_fn(target, predictions).numpy()\n",
        "    valid_loss+= loss_value\n",
        "    c+=1\n",
        "\n",
        "print('validation loss', valid_loss/c)\n"
      ],
      "id": "VlfyVholCPXm"
    },
    {
      "cell_type": "code",
      "execution_count": null,
      "metadata": {
        "colab": {
          "base_uri": "https://localhost:8080/",
          "height": 301
        },
        "id": "VurE2iDFVIK3",
        "outputId": "4dad1d96-07ef-4d63-af2d-caf4768d5606"
      },
      "outputs": [
        {
          "output_type": "execute_result",
          "data": {
            "text/plain": [
              "(-1.0, 1.0)"
            ]
          },
          "metadata": {},
          "execution_count": 148
        },
        {
          "output_type": "display_data",
          "data": {
            "image/png": "[encoded data removed]",
            "text/plain": [
              "<Figure size 460.8x316.8 with 1 Axes>"
            ]
          },
          "metadata": {}
        }
      ],
      "source": [
        "#@title ### Sample Predictions v Targets Plot { form-width: \"30%\" }\n",
        "plt.plot(predictions.sample(1).numpy()[0,:,0],\n",
        "         tf.expand_dims(target.merge_dims(0,-2),0).numpy()[0,:,0],\n",
        "         '.')\n",
        "plt.xlim((-1,1))\n",
        "#target.numpy().shape"
      ],
      "id": "VurE2iDFVIK3"
    }
  ],
  "metadata": {
    "colab": {
      "collapsed_sections": [
        "pw8DwLk-8nzE",
        "liD5Hzai8MF-"
      ],
      "name": "Copy of fish.ipynb",
      "provenance": [],
      "include_colab_link": true
    },
    "kernelspec": {
      "display_name": "Python 3 (ipykernel)",
      "language": "python",
      "name": "python3"
    },
    "language_info": {
      "codemirror_mode": {
        "name": "ipython",
        "version": 3
      },
      "file_extension": ".py",
      "mimetype": "text/x-python",
      "name": "python",
      "nbconvert_exporter": "python",
      "pygments_lexer": "ipython3",
      "version": "3.9.7"
    }
  },
  "nbformat": 4,
  "nbformat_minor": 5
}
