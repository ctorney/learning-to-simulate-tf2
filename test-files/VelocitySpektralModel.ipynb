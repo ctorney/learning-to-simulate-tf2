{
  "nbformat": 4,
  "nbformat_minor": 0,
  "metadata": {
    "colab": {
      "name": "VelocitySpektralModel.ipynb",
      "provenance": [],
      "authorship_tag": "ABX9TyMPdbDIAS0QYuBrPVIy/5QL",
      "include_colab_link": true
    },
    "kernelspec": {
      "name": "python3",
      "display_name": "Python 3"
    },
    "language_info": {
      "name": "python"
    }
  },
  "cells": [
    {
      "cell_type": "markdown",
      "metadata": {
        "id": "view-in-github",
        "colab_type": "text"
      },
      "source": [
        "<a href=\"https://colab.research.google.com/github/ctorney/learning-to-simulate-tf2/blob/main/test-files/VelocitySpektralModel.ipynb\" target=\"_parent\"><img src=\"https://colab.research.google.com/assets/colab-badge.svg\" alt=\"Open In Colab\"/></a>"
      ]
    },
    {
      "cell_type": "code",
      "metadata": {
        "id": "8SPTqZ5bToXO"
      },
      "source": [
        "!pip install spektral"
      ],
      "execution_count": null,
      "outputs": []
    },
    {
      "cell_type": "code",
      "metadata": {
        "id": "VfoYzr9AWlXB",
        "cellView": "form"
      },
      "source": [
        "#@title ### Imports { form-width: \"30%\" }\n",
        "\n",
        "import os, sys\n",
        "import numpy as np\n",
        "from math import *\n",
        "from tqdm import tqdm\n",
        "import matplotlib.pyplot as plt\n",
        "\n",
        "import tensorflow as tf\n",
        "\n",
        "from scipy import stats\n",
        "\n",
        "import pickle\n",
        "\n",
        "import functools\n",
        "from tqdm import tqdm\n",
        "\n",
        "from tensorflow.keras import Model\n",
        "from tensorflow.keras.layers import Dense, Input, Concatenate\n",
        "from tensorflow.keras.losses import MeanSquaredError\n",
        "from tensorflow.keras.optimizers import Adam\n",
        "\n",
        "from spektral.layers import ECCConv, GlobalAvgPool, MessagePassing, XENetConv, GlobalAttentionPool, GlobalMaxPool, GlobalSumPool,GlobalAttnSumPool\n",
        "\n",
        "\n",
        "plt.style.use('ggplot')\n",
        "plt.style.use('seaborn-paper') \n",
        "plt.style.use('seaborn-whitegrid')"
      ],
      "execution_count": 2,
      "outputs": []
    },
    {
      "cell_type": "markdown",
      "metadata": {
        "id": "djgc1AVtrAdy"
      },
      "source": [
        "# Generate Data"
      ]
    },
    {
      "cell_type": "code",
      "metadata": {
        "id": "o_lpv__-npkr",
        "cellView": "form"
      },
      "source": [
        "#@title ### Zonal Model { form-width: \"30%\" }\n",
        "\n",
        "def get_record(group_id,pos,vel,acc):\n",
        "    feature = { 'group_id': tf.train.Feature(int64_list=tf.train.Int64List(value=[group_id])),\n",
        "                'pos': tf.train.Feature(bytes_list=tf.train.BytesList(value=[pos.numpy()])),\n",
        "                'vel': tf.train.Feature(bytes_list=tf.train.BytesList(value=[vel.numpy()])),\n",
        "                'acc': tf.train.Feature(bytes_list=tf.train.BytesList(value=[acc.numpy()]))\n",
        "                }\n",
        "    return tf.train.Example(features=tf.train.Features(feature=feature))\n",
        "\n",
        "\n",
        "class zonal_model:\n",
        "    def __init__(self, N, timesteps, discard, repeat, L, dt, save_interval,train_directory='train_datasets', valid_directory='valid_datasets', disable_progress=False):\n",
        "        self.N = N\n",
        "        self.timesteps = timesteps\n",
        "        self.discard = discard\n",
        "        self.B = repeat  # repeat for B batches\n",
        "        self.L = L\n",
        "        self.dt = dt\n",
        "        self.save_interval = save_interval\n",
        "        \n",
        "        self.micro_state = np.zeros((self.B, (self.timesteps - self.discard)//self.save_interval, N, 4),dtype=np.float32)\n",
        "\n",
        "        self.sim_counter=0\n",
        "\n",
        "        if not os.path.exists(train_directory):\n",
        "            os.makedirs(train_directory)\n",
        "\n",
        "        if not os.path.exists(valid_directory):\n",
        "            os.makedirs(valid_directory)\n",
        "\n",
        "        self.train_directory = train_directory\n",
        "        self.valid_directory = valid_directory\n",
        "\n",
        "        # turn progress bar on or off\n",
        "        self.disable_progress = disable_progress\n",
        "\n",
        "        self.valid_fraction = 0.1\n",
        "        \n",
        "    def initialise_state(self):\n",
        "\n",
        "        #self.positions = tf.random.uniform((self.B,self.N,2),0.5*self.L, 0.5*self.L+20) #0,self.L)\n",
        "        self.positions = tf.random.uniform((self.B,self.N,2),0, self.L) \n",
        "        self.angles = tf.random.uniform((self.B,self.N,1), 0, 2*pi) #\n",
        "        \n",
        "\n",
        "\n",
        "    def run_sim(self, *params):\n",
        "\n",
        "        eta, Ra, Ro, Rr, vs, va, sigma = params\n",
        "        \n",
        "        record_file = self.train_directory + '/microstates-' + str(self.sim_counter) + '.tfrecords'\n",
        "        self.writer = tf.io.TFRecordWriter(record_file) \n",
        "        \n",
        "        valid_file = self.valid_directory + '/microstates-' + str(self.sim_counter) + '.tfrecords'\n",
        "        self.validwriter = tf.io.TFRecordWriter(valid_file) \n",
        "        \n",
        "        # tensorflow function to run an update step\n",
        "        @tf.function\n",
        "        def update_tf(X, A):\n",
        "            cos_A = tf.math.cos(A)\n",
        "            sin_A = tf.math.sin(A)\n",
        "\n",
        "\n",
        "            Xx = tf.expand_dims(X[...,0],-1)\n",
        "            dx = -Xx + tf.linalg.matrix_transpose(Xx)\n",
        "            dx = tf.where(dx>0.5*self.L, dx-self.L, dx)\n",
        "            dx = tf.where(dx<-0.5*self.L, dx+self.L, dx)\n",
        "\n",
        "            Xy = tf.expand_dims(X[...,1],-1)\n",
        "            dy = -Xy + tf.linalg.matrix_transpose(Xy)\n",
        "            dy = tf.where(dy>0.5*self.L, dy-self.L, dy)\n",
        "            dy = tf.where(dy<-0.5*self.L, dy+self.L, dy)\n",
        "\n",
        "\n",
        "            angle_to_neigh = tf.math.atan2(dy, dx)\n",
        "            cos_N = tf.math.cos(angle_to_neigh)\n",
        "            sin_N = tf.math.sin(angle_to_neigh)\n",
        "            rel_angle_to_neigh = angle_to_neigh - A\n",
        "            rel_angle_to_neigh = tf.math.atan2(tf.math.sin(rel_angle_to_neigh), tf.math.cos(rel_angle_to_neigh))\n",
        "            \n",
        "            dist = tf.math.sqrt(tf.square(dx)+tf.square(dy))\n",
        "    \n",
        "            # repulsion \n",
        "            rep_x = tf.where(dist<=Rr, -dx, tf.zeros_like(dx))\n",
        "            rep_x = tf.where(rel_angle_to_neigh<0.5*va, rep_x, tf.zeros_like(rep_x))\n",
        "            rep_x = tf.where(rel_angle_to_neigh>-0.5*va, rep_x, tf.zeros_like(rep_x))\n",
        "            rep_x = tf.math.divide_no_nan(rep_x,tf.math.square(dist))\n",
        "            rep_x = tf.reduce_sum(rep_x,axis=2)\n",
        "\n",
        "            rep_y = tf.where(dist<=Rr, -dy, tf.zeros_like(dy))\n",
        "            rep_y = tf.where(rel_angle_to_neigh<0.5*va, rep_y, tf.zeros_like(rep_y))\n",
        "            rep_y = tf.where(rel_angle_to_neigh>-0.5*va, rep_y, tf.zeros_like(rep_y))\n",
        "            rep_y = tf.math.divide_no_nan(rep_y,tf.math.square(dist))\n",
        "            rep_y = tf.reduce_sum(rep_y,axis=2)\n",
        "\n",
        "            # alignment \n",
        "            align_x = tf.where(dist<=Ro, cos_A, tf.zeros_like(cos_A))\n",
        "            align_x = tf.where(rel_angle_to_neigh<0.5*va, align_x, tf.zeros_like(align_x))\n",
        "            align_x = tf.where(rel_angle_to_neigh>-0.5*va, align_x, tf.zeros_like(align_x))\n",
        "            align_x = tf.reduce_sum(align_x,axis=1)\n",
        "            \n",
        "            align_y = tf.where(dist<=Ro, sin_A, tf.zeros_like(sin_A))\n",
        "            align_y = tf.where(rel_angle_to_neigh<0.5*va, align_y, tf.zeros_like(align_y))\n",
        "            align_y = tf.where(rel_angle_to_neigh>-0.5*va, align_y, tf.zeros_like(align_y))\n",
        "            align_y = tf.reduce_sum(align_y,axis=1)\n",
        "\n",
        "            al_norm = tf.math.sqrt(align_x**2+align_y**2)\n",
        "            align_x = tf.math.divide_no_nan(align_x,al_norm)\n",
        "            align_y = tf.math.divide_no_nan(align_y,al_norm)\n",
        "\n",
        "            # attractive interactions\n",
        "            attr_x = tf.where(dist<=Ra, dx, tf.zeros_like(dx))\n",
        "            attr_x = tf.where(rel_angle_to_neigh<0.5*va, attr_x, tf.zeros_like(attr_x))\n",
        "            attr_x = tf.where(rel_angle_to_neigh>-0.5*va, attr_x, tf.zeros_like(attr_x))\n",
        "            attr_x = tf.reduce_sum(attr_x,axis=2)\n",
        "\n",
        "            attr_y = tf.where(dist<=Ra, dy, tf.zeros_like(dy))\n",
        "            attr_y = tf.where(rel_angle_to_neigh<0.5*va, attr_y, tf.zeros_like(attr_y))\n",
        "            attr_y = tf.where(rel_angle_to_neigh>-0.5*va, attr_y, tf.zeros_like(attr_y))\n",
        "            attr_y = tf.reduce_sum(attr_y,axis=2)\n",
        "\n",
        "            at_norm = tf.math.sqrt(attr_x**2+attr_y**2)\n",
        "            attr_x = tf.math.divide_no_nan(attr_x,at_norm)\n",
        "            attr_y = tf.math.divide_no_nan(attr_y,at_norm)\n",
        "\n",
        "            # combine angles and convert to desired angle change\n",
        "            social_x = rep_x + align_x + attr_x\n",
        "            social_y = rep_y + align_y + attr_y\n",
        "\n",
        "            d_angle = tf.math.atan2(social_y,social_x)\n",
        "            d_angle = tf.expand_dims(d_angle,-1)\n",
        "\n",
        "            \n",
        "            d_angle = tf.math.atan2((1-eta)*tf.math.sin(d_angle) + eta*sin_A, (1-eta)*tf.math.cos(d_angle) + eta*cos_A)\n",
        "\n",
        "            d_angle = d_angle - A\n",
        "            d_angle = tf.where(d_angle>pi, d_angle-2*pi, d_angle)\n",
        "            d_angle = tf.where(d_angle<-pi, d_angle+2*pi, d_angle)\n",
        "\n",
        "\n",
        "            # add perception noise\n",
        "            noise = tf.random.normal(shape=(self.B,self.N,1),mean=0,stddev=sigma*(self.dt**0.5))\n",
        "            d_angle = d_angle + noise\n",
        "            \n",
        "            # restrict to maximum turning angle\n",
        "            #d_angle = tf.where(tf.math.abs(d_angle)>eta*self.dt, tf.math.sign(d_angle)*eta*self.dt, d_angle)\n",
        "            \n",
        "            # rotate headings\n",
        "            A = A + d_angle\n",
        "            \n",
        "            # update positions\n",
        "            velocity = self.dt*vs*tf.concat([tf.cos(A),tf.sin(A)],axis=-1)\n",
        "            X += velocity\n",
        "\n",
        "            # add periodic boundary conditions\n",
        "            A = tf.where(A<-pi,  A+2*pi, A)\n",
        "            A = tf.where(A>pi, A-2*pi, A)\n",
        "\n",
        "            X = tf.where(X>self.L, X-self.L, X)\n",
        "            X = tf.where(X<0, X+self.L, X)\n",
        "\n",
        "            X = tf.where(X>self.L, X-self.L, X)\n",
        "            X = tf.where(X<0, X+self.L, X)\n",
        "\n",
        "            return X, A\n",
        "            \n",
        "        self.initialise_state()\n",
        "\n",
        "        counter=0\n",
        "        for i in tqdm(range(self.timesteps),disable=self.disable_progress):\n",
        "            self.positions, self.angles = update_tf(self.positions,  self.angles)\n",
        "            if i>=self.discard:\n",
        "                if i%self.save_interval==0:\n",
        "                    # store in an array in case we want to visualise\n",
        "                    self.micro_state[:,counter,:,0:2] = self.positions.numpy()\n",
        "                    self.micro_state[:,counter,:,2:3] = np.cos(self.angles.numpy())\n",
        "                    self.micro_state[:,counter,:,3:4] = np.sin(self.angles.numpy())\n",
        "                    \n",
        "                        \n",
        "                    \n",
        "\n",
        "                    counter = counter + 1\n",
        "\n",
        "        for b in range(self.B):\n",
        "            self.save_tf_record(b)\n",
        "\n",
        "        self.writer.close()\n",
        "        self.validwriter.close()\n",
        "        self.sim_counter+=1\n",
        "        return \n",
        "\n",
        "    def save_tf_record(self, b):\n",
        "        pos =  tf.io.serialize_tensor(self.micro_state[b,:,:,0:2])\n",
        "        vel =  tf.io.serialize_tensor(self.micro_state[b,:,:,2:4])\n",
        "        acc =  tf.io.serialize_tensor(np.gradient(self.micro_state[b,:,:,2:4], axis=1))\n",
        "\n",
        "        tf_record = get_record(b,pos,vel,acc)\n",
        "        if b> self.B*self.valid_fraction:\n",
        "            self.writer.write(tf_record.SerializeToString())\n",
        "        else:\n",
        "            self.validwriter.write(tf_record.SerializeToString())\n",
        "\n",
        "        \n",
        "        return "
      ],
      "execution_count": 3,
      "outputs": []
    },
    {
      "cell_type": "code",
      "metadata": {
        "id": "W-iHCH3WaZuO",
        "cellView": "form"
      },
      "source": [
        "#@title ### Params { form-width: \"30%\" }\n",
        "\n",
        "n_points=50 #10\n",
        "\n",
        "param_values = np.linspace(0,25,n_points)\n",
        "L= 200\n",
        "N= 100 \n",
        "repeat = 100\n",
        "discard = 0\n",
        "timesteps = 200\n",
        "save_interval=1\n",
        "dt=1\n",
        "\n",
        "\n",
        "sim = zonal_model(N,timesteps=timesteps+discard,discard=discard,L=L,repeat=repeat, dt=dt,save_interval=save_interval,disable_progress=False)\n",
        "\n",
        "latt=0  # adapt\n",
        "lrep= 1 # adapt\n",
        "lali= 5 # adapt\n",
        "eta=0.5 # adapt\n",
        "va=2*pi # adapt\n",
        "vs=2 # fix \n",
        "sigma=0. "
      ],
      "execution_count": 4,
      "outputs": []
    },
    {
      "cell_type": "code",
      "metadata": {
        "colab": {
          "base_uri": "https://localhost:8080/",
          "height": 53
        },
        "id": "kiyL0DASnrzU",
        "cellView": "form",
        "outputId": "d5ef128a-39d2-4bd6-b224-054b8d91bf09"
      },
      "source": [
        "#@title ### Create Training Data { form-width: \"30%\" }\n",
        "\n",
        "def evaluate_zonal_model(X):\n",
        "    sim.run_sim(eta, latt, X, lrep, vs, va, sigma)\n",
        "    return\n",
        "\n",
        "evaluate_zonal_model(0)\n",
        "\n",
        "\"\"\"\n",
        "for i in tqdm(range(param_values.shape[0])):\n",
        "    evaluate_zonal_model(param_values[i])\n",
        "\"\"\""
      ],
      "execution_count": 5,
      "outputs": [
        {
          "output_type": "stream",
          "name": "stderr",
          "text": [
            "100%|██████████| 200/200 [00:28<00:00,  7.11it/s]\n"
          ]
        },
        {
          "output_type": "execute_result",
          "data": {
            "application/vnd.google.colaboratory.intrinsic+json": {
              "type": "string"
            },
            "text/plain": [
              "'\\nfor i in tqdm(range(param_values.shape[0])):\\n    evaluate_zonal_model(param_values[i])\\n'"
            ]
          },
          "metadata": {},
          "execution_count": 5
        }
      ]
    },
    {
      "cell_type": "markdown",
      "metadata": {
        "id": "IMGNTWjMWcTv"
      },
      "source": [
        "# Parsing/Preprocessing"
      ]
    },
    {
      "cell_type": "code",
      "metadata": {
        "id": "CDyPgl9V-C3n",
        "cellView": "form"
      },
      "source": [
        "#@title ### Parsing Functions { form-width: \"30%\" }\n",
        "\n",
        "\n",
        "def _parse_record(x):\n",
        "  # Parse the input tf.train.Example proto using the dictionary above.\n",
        "  return tf.io.parse_single_example(x, feature_description)\n",
        "\n",
        "def _parse_tensor(x):\n",
        "    output = {'group_id': x['group_id'],\n",
        "                'pos': tf.io.parse_tensor(x['pos'],out_type=tf.float32),\n",
        "                'vel': tf.io.parse_tensor(x['vel'],out_type=tf.float32),\n",
        "                'acc': tf.io.parse_tensor(x['acc'],out_type=tf.float32)\n",
        "                }\n",
        "    return output\n",
        "\n",
        "def make_window_dataset(x):\n",
        "    # make a dataset from the time series tensor\n",
        "    windows = tf.data.Dataset.from_tensor_slices((x['pos'],x['vel'],x['acc']))\n",
        "    # convert to windows\n",
        "    windows = windows.window(WINDOW_SIZE, shift=1, stride=1)\n",
        "    # take a batch of window size and combine pos, vel, acc to a single dataset\n",
        "    windows = windows.flat_map(lambda pos_ds,vel_ds,acc_ds: tf.data.Dataset.zip((pos_ds.batch(WINDOW_SIZE, drop_remainder=True),vel_ds.batch(WINDOW_SIZE, drop_remainder=True),acc_ds.batch(WINDOW_SIZE, drop_remainder=True))))\n",
        "    return windows\n",
        "\n",
        "\n",
        "def split_targets(x, y, z, w=7):\n",
        "    inputs = (x[0:w-1], y[0:w-1], z[0:w-1])\n",
        "    targets = y[-1]\n",
        "    return (inputs, targets)\n",
        "\n",
        "\n",
        "def _parse_graph(inputs, targets):\n",
        "    #inputs, targets = x\n",
        "    X, V, A = inputs\n",
        "    X_current = X[-1]\n",
        "    V_current = V[-1]\n",
        "\n",
        "    Xx = tf.expand_dims(X_current[...,0],-1)\n",
        "    dx = -Xx + tf.linalg.matrix_transpose(Xx)\n",
        "    dx = tf.where(dx>0.5*DOMAIN_SIZE, dx-DOMAIN_SIZE, dx)\n",
        "    dx = tf.where(dx<-0.5*DOMAIN_SIZE, dx+DOMAIN_SIZE, dx)\n",
        "\n",
        "    Xy = tf.expand_dims(X_current[...,1],-1)\n",
        "    dy = -Xy + tf.linalg.matrix_transpose(Xy)\n",
        "    dy = tf.where(dy>0.5*DOMAIN_SIZE, dy-DOMAIN_SIZE, dy)\n",
        "    dy = tf.where(dy<-0.5*DOMAIN_SIZE, dy+DOMAIN_SIZE, dy)\n",
        "\n",
        "    Vx = tf.expand_dims(V_current[...,0],-1)\n",
        "    dvx = -Vx + tf.linalg.matrix_transpose(Vx)\n",
        "\n",
        "    Vy = tf.expand_dims(V_current[...,1],-1)\n",
        "    dvy = -Vy + tf.linalg.matrix_transpose(Vy)\n",
        "    \n",
        "    dvnorm = tf.math.sqrt(dvx**2+dvy**2)\n",
        "    dvx = tf.math.divide_no_nan(dvx,dvnorm)\n",
        "    dvy = tf.math.divide_no_nan(dvy,dvnorm)\n",
        "\n",
        "    angles = tf.expand_dims(tf.math.atan2(V_current[...,1],V_current[...,0]),-1)\n",
        "    angle_to_neigh = tf.math.atan2(dy, dx)\n",
        "\n",
        "    rel_angle_to_neigh = angle_to_neigh - angles\n",
        "\n",
        "    dist = tf.math.sqrt(tf.square(dx)+tf.square(dy))\n",
        "\n",
        "    interaction_radius = 25.0# tf.reduce_mean(dist,axis=[1,2],keepdims=True)\n",
        "    adj_matrix = tf.where(dist<interaction_radius, tf.ones_like(dist,dtype=tf.int32), tf.zeros_like(dist,dtype=tf.int32))\n",
        "    adj_matrix = tf.linalg.set_diag(adj_matrix, tf.zeros(tf.shape(adj_matrix)[:2],dtype=tf.int32))\n",
        "    sender_recv_list = tf.where(adj_matrix)\n",
        "    n_edge = tf.reduce_sum(adj_matrix, axis=[1,2])\n",
        "    n_node = tf.ones_like(n_edge)*tf.shape(adj_matrix)[-1]\n",
        "\n",
        "    output_i = tf.repeat(tf.range(tf.shape(adj_matrix)[0]),n_node)\n",
        "    output_ie = tf.repeat(tf.range(tf.shape(adj_matrix)[0]),n_edge)\n",
        "\n",
        "\n",
        "    senders = tf.squeeze(tf.slice(sender_recv_list,(0,1),size=(-1,1)))+ tf.squeeze(tf.slice(sender_recv_list,(0,0),size=(-1,1)))*tf.shape(adj_matrix,out_type=tf.int64)[-1]\n",
        "    receivers = tf.squeeze(tf.slice(sender_recv_list,(0,2),size=(-1,1))) + tf.squeeze(tf.slice(sender_recv_list,(0,0),size=(-1,1)))*tf.shape(adj_matrix,out_type=tf.int64)[-1]\n",
        "\n",
        "    output_a = tf.sparse.SparseTensor(indices=tf.stack([senders,receivers],axis=1), values = tf.ones_like(senders),dense_shape=[tf.shape(output_i)[0],tf.shape(output_i)[0]])\n",
        "    edge_distance = tf.expand_dims(tf.gather_nd(dist/interaction_radius, sender_recv_list),-1)\n",
        "    edge_x_distance =  tf.expand_dims(tf.gather_nd(tf.math.cos(rel_angle_to_neigh),sender_recv_list),-1)  # neigbour position relative to sender heading\n",
        "    edge_y_distance =  tf.expand_dims(tf.gather_nd(tf.math.sin(rel_angle_to_neigh),sender_recv_list),-1)  # neigbour position relative to sender heading\n",
        "\n",
        "    edge_x_orientation =  tf.expand_dims(tf.gather_nd(dvx,sender_recv_list),-1)  # neigbour velocity relative to sender heading\n",
        "    edge_y_orientation =  tf.expand_dims(tf.gather_nd(dvy,sender_recv_list),-1)  # neigbour velocity relative to sender heading\n",
        "\n",
        "\n",
        "    output_e = tf.concat([edge_distance,edge_x_distance,edge_y_distance,edge_x_orientation,edge_y_orientation],axis=-1)\n",
        "    node_velocities = tf.transpose(V, perm=[1,0,2])\n",
        "    node_accelerations = tf.transpose(A, perm=[1,0,2])\n",
        "\n",
        "    # shape = node_velocities.get_shape().as_list()\n",
        "    # dim = tf.math.reduce_prod(shape[1:])\n",
        "    node_velocities = tf.reshape(node_velocities,(-1,2*(WINDOW_SIZE-1)))\n",
        "    node_accelerations = tf.reshape(node_accelerations,(-1,2*(WINDOW_SIZE-1)))\n",
        "\n",
        "    output_x = tf.concat([X_current, node_velocities,node_accelerations],axis=-1)\n",
        "    #dist = tf.linalg.set_diag(dist, 25.0*tf.ones(tf.shape(dist)[:2],dtype=tf.float32))\n",
        "\n",
        "    #dist_out =  tf.reduce_mean(tf.reduce_min(dist,axis=[2]),axis=[1])\n",
        "    X_T, V_T, A_T = targets\n",
        "    #node_targets = tf.concat([X_T, V_T, A_T], axis=-1)\n",
        "    target = V_T\n",
        "\n",
        "    return (output_x, output_a, output_e, output_i,output_ie), target#, tf.ones_like(targets)/max_params"
      ],
      "execution_count": 6,
      "outputs": []
    },
    {
      "cell_type": "code",
      "metadata": {
        "id": "tgifs2W-T6R7",
        "cellView": "form"
      },
      "source": [
        "#@title ### Preprocessing { form-width: \"30%\" }\n",
        "\n",
        "train_dir = 'train_datasets/'\n",
        "valid_dir = 'valid_datasets/'\n",
        "\n",
        "WINDOW_SIZE=7\n",
        "\n",
        "n_out = 2\n",
        "n_feat_node = (WINDOW_SIZE-1)*4+2\n",
        "n_feat_edge = 5\n",
        "\n",
        "BATCH_SIZE=128\n",
        "EPOCHS=2\n",
        "DOMAIN_SIZE=200\n",
        "\n",
        "\n",
        "all_file_list = [train_dir + filename for filename in os.listdir(train_dir)]\n",
        "\n",
        "dataset_size = sum(1 for _ in tf.data.TFRecordDataset(all_file_list[0]))*len(all_file_list)//BATCH_SIZE\n",
        "\n",
        "\n",
        "feature_description = {'group_id': tf.io.FixedLenFeature([], tf.int64),\n",
        "                        'pos': tf.io.FixedLenFeature([], tf.string),\n",
        "                        'vel': tf.io.FixedLenFeature([], tf.string),\n",
        "                        'acc': tf.io.FixedLenFeature([], tf.string)}\n",
        "\n",
        "\n",
        "split_with_window = functools.partial(\n",
        "  split_targets,\n",
        "  w=WINDOW_SIZE)\n",
        "\n",
        "\n",
        "\n",
        "train_dataset =  tf.data.TFRecordDataset(tf.data.Dataset.list_files([train_dir + filename for filename in os.listdir(train_dir)]))\n",
        "\n",
        "parsed_train_dataset = train_dataset.map(_parse_record)\n",
        "parsed_train_dataset = parsed_train_dataset.map(_parse_tensor)\n",
        "parsed_train_dataset = parsed_train_dataset.flat_map(make_window_dataset)\n",
        "parsed_train_dataset = parsed_train_dataset.map(split_with_window)\n",
        "parsed_train_dataset = parsed_train_dataset.shuffle(10000, reshuffle_each_iteration=True)\n",
        "parsed_train_dataset = parsed_train_dataset.repeat(EPOCHS)\n",
        "parsed_train_dataset = parsed_train_dataset.batch(BATCH_SIZE, drop_remainder=True)\n",
        "#parsed_train_dataset = parsed_train_dataset.map(_parse_graph)\n",
        "\n",
        "\n",
        "valid_dataset =  tf.data.TFRecordDataset(tf.data.Dataset.list_files([valid_dir + filename for filename in os.listdir(valid_dir)]))\n",
        "\n",
        "parsed_valid_dataset = valid_dataset.map(_parse_record)\n",
        "parsed_valid_dataset = parsed_valid_dataset.map(_parse_tensor)\n",
        "parsed_valid_dataset = parsed_valid_dataset.flat_map(make_window_dataset)\n",
        "parsed_valid_dataset = parsed_valid_dataset.map(split_with_window)\n",
        "parsed_valid_dataset = parsed_valid_dataset.shuffle(10000, reshuffle_each_iteration=True)\n",
        "parsed_valid_dataset = parsed_valid_dataset.repeat(EPOCHS)\n",
        "parsed_valid_dataset = parsed_valid_dataset.batch(BATCH_SIZE, drop_remainder=True)\n",
        "#parsed_valid_dataset = parsed_valid_dataset.map(_parse_graph)"
      ],
      "execution_count": 7,
      "outputs": []
    },
    {
      "cell_type": "markdown",
      "metadata": {
        "id": "KlzzQSMkAeqx"
      },
      "source": [
        "# Model"
      ]
    },
    {
      "cell_type": "code",
      "metadata": {
        "id": "hOId7yMy2XWp",
        "cellView": "form"
      },
      "source": [
        "#@title ### Preprocessing Layer { form-width: \"30%\" }\n",
        "#@markdown Issues with @tf.function here - input signature wrong (also possibly related to issue in train step)\n",
        "\n",
        "class PreprocessingLayer(tf.keras.layers.Layer):\n",
        "    def __init__(self, L):\n",
        "        super(PreprocessingLayer, self).__init__()\n",
        "        self._L = L\n",
        "        \n",
        "\n",
        "    #@tf.function(input_signature=([tf.TensorSpec(shape=(None,WINDOW_SIZE-1,N,2), dtype=tf.float32),tf.TensorSpec(shape=(None,WINDOW_SIZE-1,N,2), dtype=tf.float32),tf.TensorSpec(shape=(None,WINDOW_SIZE-1,N,2), dtype=tf.float32)]))\n",
        "    def call(self, inputs):\n",
        "        \n",
        "        X, V, A = inputs\n",
        "        # node features xpos, ypos, xvel, yvel\n",
        "        # edge features distance, rel angle to receiver\n",
        "        X_current = X[:,-1]\n",
        "        V_current = V[:,-1]\n",
        "\n",
        "        Xx = tf.expand_dims(X_current[...,0],-1)\n",
        "        dx = -Xx + tf.linalg.matrix_transpose(Xx)\n",
        "        dx = tf.where(dx>0.5*self._L, dx-self._L, dx)\n",
        "        dx = tf.where(dx<-0.5*self._L, dx+self._L, dx)\n",
        "\n",
        "        Xy = tf.expand_dims(X_current[...,1],-1)\n",
        "        dy = -Xy + tf.linalg.matrix_transpose(Xy)\n",
        "        dy = tf.where(dy>0.5*self._L, dy-self._L, dy)\n",
        "        dy = tf.where(dy<-0.5*self._L, dy+self._L, dy)\n",
        "\n",
        "        Vx = tf.expand_dims(V_current[...,0],-1)\n",
        "        dvx = -Vx + tf.linalg.matrix_transpose(Vx)\n",
        "\n",
        "        Vy = tf.expand_dims(V_current[...,1],-1)\n",
        "        dvy = -Vy + tf.linalg.matrix_transpose(Vy)\n",
        "        \n",
        "        dvnorm = tf.math.sqrt(dvx**2+dvy**2)\n",
        "        dvx = tf.math.divide_no_nan(dvx,dvnorm)\n",
        "        dvy = tf.math.divide_no_nan(dvy,dvnorm)\n",
        "\n",
        "        angles = tf.expand_dims(tf.math.atan2(V_current[...,1],V_current[...,0]),-1)\n",
        "        angle_to_neigh = tf.math.atan2(dy, dx)\n",
        "\n",
        "        rel_angle_to_neigh = angle_to_neigh - angles\n",
        "\n",
        "        dist = tf.math.sqrt(tf.square(dx)+tf.square(dy))\n",
        "\n",
        "        interaction_radius = 25.0# tf.reduce_mean(dist,axis=[1,2],keepdims=True)\n",
        "        adj_matrix = tf.where(dist<interaction_radius, tf.ones_like(dist,dtype=tf.int32), tf.zeros_like(dist,dtype=tf.int32))\n",
        "        adj_matrix = tf.linalg.set_diag(adj_matrix, tf.zeros(tf.shape(adj_matrix)[:2],dtype=tf.int32))\n",
        "        sender_recv_list = tf.where(adj_matrix)\n",
        "        n_edge = tf.reduce_sum(adj_matrix, axis=[1,2])\n",
        "        n_node = tf.ones_like(n_edge)*tf.shape(adj_matrix)[-1]\n",
        "        output_i = tf.repeat(tf.range(tf.shape(adj_matrix)[0]),n_node)\n",
        "\n",
        "        senders = tf.squeeze(tf.slice(sender_recv_list,(0,1),size=(-1,1)))+ tf.squeeze(tf.slice(sender_recv_list,(0,0),size=(-1,1)))*tf.shape(adj_matrix,out_type=tf.int64)[-1]\n",
        "        receivers = tf.squeeze(tf.slice(sender_recv_list,(0,2),size=(-1,1))) + tf.squeeze(tf.slice(sender_recv_list,(0,0),size=(-1,1)))*tf.shape(adj_matrix,out_type=tf.int64)[-1]\n",
        "\n",
        "        output_a = tf.sparse.SparseTensor(indices=tf.stack([senders,receivers],axis=1), values = tf.ones_like(senders),dense_shape=[tf.shape(output_i)[0],tf.shape(output_i)[0]])\n",
        "        edge_distance = tf.expand_dims(tf.gather_nd(dist/self._L,sender_recv_list),-1)\n",
        "        #print(\"ed\", edge_distance.shape)\n",
        "        edge_x_distance = tf.expand_dims(tf.gather_nd(tf.math.cos(rel_angle_to_neigh),sender_recv_list),-1)  # neigbour position relative to sender heading\n",
        "        edge_y_distance = tf.expand_dims(tf.gather_nd(tf.math.sin(rel_angle_to_neigh),sender_recv_list),-1)  # neigbour position relative to sender heading\n",
        "        edge_x_orientation = tf.expand_dims(tf.gather_nd(dvx,sender_recv_list),-1)  # neigbour velocity relative to sender heading\n",
        "        edge_y_orientation = tf.expand_dims(tf.gather_nd(dvy,sender_recv_list),-1)  # neigbour velocity relative to sender heading\n",
        "\n",
        "\n",
        "        output_e = tf.concat([edge_distance,edge_x_distance,edge_y_distance,edge_x_orientation,edge_y_orientation],axis=-1)\n",
        "        #edges = tf.concat([edge_distance,edge_x_distance,edge_y_distance],axis=-1)\n",
        "        node_velocities = tf.transpose(V, perm=[0,2,1,3])\n",
        "        node_accelerations = tf.transpose(A, perm=[0,2,1,3])\n",
        "\n",
        "        # shape = node_velocities.get_shape().as_list()\n",
        "        # dim = tf.math.reduce_prod(shape[1:])\n",
        "        node_velocities = tf.reshape(node_velocities,(-1,2*(WINDOW_SIZE-1)))\n",
        "        node_accelerations = tf.reshape(node_accelerations,(-1,2*(WINDOW_SIZE-1)))\n",
        "        node_positions = (X_current - (self._L/2.))/self._L\n",
        "        node_positions = tf.reshape(node_positions,(-1,2))\n",
        "        output_x = tf.concat([node_positions, node_velocities, node_accelerations],axis=-1)\n",
        "        #dist = tf.linalg.set_diag(dist, 25.0*tf.ones(tf.shape(dist)[:2],dtype=tf.float32))\n",
        "\n",
        "        #dist_out =  tf.reduce_mean(tf.reduce_min(dist,axis=[2]),axis=[1])\n",
        "        #X_T, V_T, A_T = targets\n",
        "        #node_targets = tf.concat([X_T, V_T, A_T], axis=-1)\n",
        "        #target = A_T\n",
        "        #output_x.set_shape((None,n_feat_node))\n",
        "        #output_a.set_shape((None,N))\n",
        "        #output_e.set_shape((None,5))\n",
        "        #input_graphs = utils_tf.set_zero_global_features(input_graphs,self._output_size)\n",
        "        return output_x, output_a, output_e, output_i"
      ],
      "execution_count": 8,
      "outputs": []
    },
    {
      "cell_type": "code",
      "metadata": {
        "id": "U-vHZ2pB-loI",
        "cellView": "form"
      },
      "source": [
        "#@title ### Pre-Model { form-width: \"30%\" }\n",
        "\n",
        "pos = Input(shape=(WINDOW_SIZE-1,N,2))\n",
        "vel = Input(shape=(WINDOW_SIZE-1,N,2))\n",
        "acc = Input(shape=(WINDOW_SIZE-1,N,2))\n",
        "\n",
        "output = PreprocessingLayer(200)([pos,vel,acc])\n",
        "\n",
        "pre_model = Model(inputs=[pos,vel,acc], outputs=output)\n",
        "\n",
        "for data_batch in parsed_train_dataset.take(1):\n",
        "    pre_model(data_batch[0])\n",
        "    break"
      ],
      "execution_count": 9,
      "outputs": []
    },
    {
      "cell_type": "code",
      "metadata": {
        "id": "W4pqnbtbGG7u"
      },
      "source": [
        "#@title ### Build model { form-width: \"30%\" }\n",
        "\n",
        "#learning_rate = 1e-5\n",
        "min_lr = 1e-6\n",
        "lr = tf.keras.optimizers.schedules.ExponentialDecay(initial_learning_rate=1e-4 - min_lr,\n",
        "                                decay_steps=int(5e6),\n",
        "                                decay_rate=0.1) #+ min_lr\n",
        "\n",
        "epochs = EPOCHS  # Number of training epochs\n",
        "batch_size = BATCH_SIZE  # Batch size\n",
        "\n",
        "class GNNNet(Model):\n",
        "    def __init__(self,n_out=4,mp_steps=2):\n",
        "        super().__init__()\n",
        "        self.preprocess = PreprocessingLayer(DOMAIN_SIZE)\n",
        "        self.encoder = ECCConv(32, activation=\"tanh\")\n",
        "        self.process = MessagePassing(aggregate='mean')# 32, activation=\"relu\")\n",
        "        self.decoder = ECCConv(n_out, activation=\"tanh\")\n",
        "        #self.global_pool = GlobalAvgPool()\n",
        "        #self.dense = Dense(32, activation=\"relu\")\n",
        "        #self.final = Dense(n_out, activation=\"sigmoid\")\n",
        "        self.mp_steps=mp_steps\n",
        "    \n",
        "    def call(self, inputs):\n",
        "        x, a, e, i = self.preprocess(inputs)\n",
        "        #x.set_shape([None,None])\n",
        "        #print(x.shape, a.shape, e.shape, i.shape)\n",
        "        x = self.encoder([x, a, e])\n",
        "        for _ in range(self.mp_steps):\n",
        "            x = self.process([x, a, e])         \n",
        "        x = self.decoder([x, a, e])\n",
        "\n",
        "        #x = self.global_pool([x, i])\n",
        "        #x = self.dense(x)\n",
        "        #x = self.final(x)\n",
        "\n",
        "        x = tf.reshape(x, (-1, N, 2))\n",
        "\n",
        "        return x\n",
        "\n",
        "\n",
        "model = GNNNet(n_out=n_out)\n",
        "optimizer = Adam(lr)\n",
        "loss_fn = MeanSquaredError()\n",
        "\n",
        "#model.build(input_shape=((None,WINDOW_SIZE-1,N,2)))\n",
        "#model.summary()"
      ],
      "execution_count": 22,
      "outputs": []
    },
    {
      "cell_type": "code",
      "metadata": {
        "id": "IPbjfwN1H9vy",
        "cellView": "form"
      },
      "source": [
        "#@title ### Fit model { form-width: \"30%\" }\n",
        "#@markdown Issues with @tf.function here - 1st dimension of sender_recv_list in preprocessing layer does not compute a dimension and causes error in encoder step. Hacky fix - do not use @tf.function\n",
        "\n",
        "#@tf.function()#input_signature=[[tf.TensorSpec(shape=(None,None,2), dtype=tf.float32),tf.TensorSpec(shape=(None,None,2), dtype=tf.float32),tf.TensorSpec(shape=(None,None,2), dtype=tf.float32)],tf.TensorSpec(shape=(None,4), dtype=tf.float32)], experimental_relax_shapes=True)\n",
        "def train_step(inputs, target):\n",
        "    with tf.GradientTape() as tape:\n",
        "        predictions = model(inputs, training=True)\n",
        "        loss = loss_fn(target, predictions) #+ sum(model.losses)\n",
        "    gradients = tape.gradient(loss, model.trainable_variables)\n",
        "    optimizer.apply_gradients(zip(gradients, model.trainable_variables))\n",
        "    \n",
        "    return loss"
      ],
      "execution_count": 23,
      "outputs": []
    },
    {
      "cell_type": "code",
      "metadata": {
        "colab": {
          "base_uri": "https://localhost:8080/"
        },
        "id": "PFV3nFtKICJc",
        "outputId": "0447fac5-11f4-4fa1-ddcf-f4718b53cf46"
      },
      "source": [
        "step = losses = 0\n",
        "total=len(list(parsed_train_dataset))\n",
        "divisor=20\n",
        "loss_values = np.zeros((epochs,total))\n",
        "for epoch in range(epochs):\n",
        "    print(\"\\nStart of epoch %d\" % (epoch,))\n",
        "    for step, batch in tqdm(enumerate(parsed_train_dataset), total=total):\n",
        "        inputs, target = batch\n",
        "        #inputs = layer(inputs)\n",
        "        losses = train_step(inputs,target)\n",
        "        loss_values[epoch,step]=losses.numpy()\n",
        "        if step%divisor==0:\n",
        "            print(tf.reduce_mean(loss_values[epoch,max(0,step-divisor):step+1]).numpy())"
      ],
      "execution_count": 24,
      "outputs": [
        {
          "output_type": "stream",
          "name": "stdout",
          "text": [
            "\n",
            "Start of epoch 0\n"
          ]
        },
        {
          "output_type": "stream",
          "name": "stderr",
          "text": [
            "\r  0%|          | 0/269 [00:00<?, ?it/s]/usr/local/lib/python3.7/dist-packages/spektral/layers/convolutional/conv.py:94: UserWarning: The adjacency matrix of dtype <dtype: 'int64'> is incompatible with the dtype of the node features <dtype: 'float32'> and has been automatically cast to <dtype: 'float32'>.\n",
            "  f\"The adjacency matrix of dtype {a.dtype} is incompatible with the dtype \"\n",
            "  0%|          | 1/269 [00:02<12:10,  2.73s/it]"
          ]
        },
        {
          "output_type": "stream",
          "name": "stdout",
          "text": [
            "0.7675776481628418\n"
          ]
        },
        {
          "output_type": "stream",
          "name": "stderr",
          "text": [
            "  8%|▊         | 21/269 [00:16<02:46,  1.49it/s]"
          ]
        },
        {
          "output_type": "stream",
          "name": "stdout",
          "text": [
            "0.6871358127821059\n"
          ]
        },
        {
          "output_type": "stream",
          "name": "stderr",
          "text": [
            " 15%|█▌        | 41/269 [00:29<02:31,  1.50it/s]"
          ]
        },
        {
          "output_type": "stream",
          "name": "stdout",
          "text": [
            "0.5246993459406353\n"
          ]
        },
        {
          "output_type": "stream",
          "name": "stderr",
          "text": [
            " 23%|██▎       | 61/269 [00:42<02:17,  1.51it/s]"
          ]
        },
        {
          "output_type": "stream",
          "name": "stdout",
          "text": [
            "0.389736465045384\n"
          ]
        },
        {
          "output_type": "stream",
          "name": "stderr",
          "text": [
            " 30%|███       | 81/269 [00:56<02:05,  1.49it/s]"
          ]
        },
        {
          "output_type": "stream",
          "name": "stdout",
          "text": [
            "0.29121142341977074\n"
          ]
        },
        {
          "output_type": "stream",
          "name": "stderr",
          "text": [
            " 38%|███▊      | 101/269 [01:09<01:53,  1.49it/s]"
          ]
        },
        {
          "output_type": "stream",
          "name": "stdout",
          "text": [
            "0.2317274645680473\n"
          ]
        },
        {
          "output_type": "stream",
          "name": "stderr",
          "text": [
            " 45%|████▍     | 121/269 [01:22<01:38,  1.50it/s]"
          ]
        },
        {
          "output_type": "stream",
          "name": "stdout",
          "text": [
            "0.19887234341530574\n"
          ]
        },
        {
          "output_type": "stream",
          "name": "stderr",
          "text": [
            " 52%|█████▏    | 141/269 [01:36<01:25,  1.49it/s]"
          ]
        },
        {
          "output_type": "stream",
          "name": "stdout",
          "text": [
            "0.17762012212049394\n"
          ]
        },
        {
          "output_type": "stream",
          "name": "stderr",
          "text": [
            " 60%|█████▉    | 161/269 [01:49<01:11,  1.50it/s]"
          ]
        },
        {
          "output_type": "stream",
          "name": "stdout",
          "text": [
            "0.1632208675146103\n"
          ]
        },
        {
          "output_type": "stream",
          "name": "stderr",
          "text": [
            " 67%|██████▋   | 181/269 [02:02<00:58,  1.50it/s]"
          ]
        },
        {
          "output_type": "stream",
          "name": "stdout",
          "text": [
            "0.15418447341237748\n"
          ]
        },
        {
          "output_type": "stream",
          "name": "stderr",
          "text": [
            " 75%|███████▍  | 201/269 [02:15<00:43,  1.57it/s]"
          ]
        },
        {
          "output_type": "stream",
          "name": "stdout",
          "text": [
            "0.14785144655477434\n"
          ]
        },
        {
          "output_type": "stream",
          "name": "stderr",
          "text": [
            " 82%|████████▏ | 221/269 [02:28<00:30,  1.58it/s]"
          ]
        },
        {
          "output_type": "stream",
          "name": "stdout",
          "text": [
            "0.14245169858137766\n"
          ]
        },
        {
          "output_type": "stream",
          "name": "stderr",
          "text": [
            " 90%|████████▉ | 241/269 [02:41<00:17,  1.56it/s]"
          ]
        },
        {
          "output_type": "stream",
          "name": "stdout",
          "text": [
            "0.13772423991135188\n"
          ]
        },
        {
          "output_type": "stream",
          "name": "stderr",
          "text": [
            " 97%|█████████▋| 261/269 [02:54<00:05,  1.54it/s]"
          ]
        },
        {
          "output_type": "stream",
          "name": "stdout",
          "text": [
            "0.13416602710882822\n"
          ]
        },
        {
          "output_type": "stream",
          "name": "stderr",
          "text": [
            "100%|██████████| 269/269 [02:59<00:00,  1.50it/s]\n"
          ]
        },
        {
          "output_type": "stream",
          "name": "stdout",
          "text": [
            "\n",
            "Start of epoch 1\n"
          ]
        },
        {
          "output_type": "stream",
          "name": "stderr",
          "text": [
            "  0%|          | 1/269 [00:02<12:04,  2.70s/it]"
          ]
        },
        {
          "output_type": "stream",
          "name": "stdout",
          "text": [
            "0.12817326188087463\n"
          ]
        },
        {
          "output_type": "stream",
          "name": "stderr",
          "text": [
            "  8%|▊         | 21/269 [00:16<02:46,  1.49it/s]"
          ]
        },
        {
          "output_type": "stream",
          "name": "stdout",
          "text": [
            "0.12838048239549002\n"
          ]
        },
        {
          "output_type": "stream",
          "name": "stderr",
          "text": [
            " 15%|█▌        | 41/269 [00:29<02:33,  1.49it/s]"
          ]
        },
        {
          "output_type": "stream",
          "name": "stdout",
          "text": [
            "0.1255870826897167\n"
          ]
        },
        {
          "output_type": "stream",
          "name": "stderr",
          "text": [
            " 23%|██▎       | 61/269 [00:42<02:18,  1.50it/s]"
          ]
        },
        {
          "output_type": "stream",
          "name": "stdout",
          "text": [
            "0.12308515076126371\n"
          ]
        },
        {
          "output_type": "stream",
          "name": "stderr",
          "text": [
            " 30%|███       | 81/269 [00:56<02:05,  1.49it/s]"
          ]
        },
        {
          "output_type": "stream",
          "name": "stdout",
          "text": [
            "0.1207773969286964\n"
          ]
        },
        {
          "output_type": "stream",
          "name": "stderr",
          "text": [
            " 38%|███▊      | 101/269 [01:09<01:52,  1.50it/s]"
          ]
        },
        {
          "output_type": "stream",
          "name": "stdout",
          "text": [
            "0.118241382141908\n"
          ]
        },
        {
          "output_type": "stream",
          "name": "stderr",
          "text": [
            " 45%|████▍     | 121/269 [01:23<01:39,  1.48it/s]"
          ]
        },
        {
          "output_type": "stream",
          "name": "stdout",
          "text": [
            "0.1161835002047675\n"
          ]
        },
        {
          "output_type": "stream",
          "name": "stderr",
          "text": [
            " 52%|█████▏    | 141/269 [01:36<01:25,  1.50it/s]"
          ]
        },
        {
          "output_type": "stream",
          "name": "stdout",
          "text": [
            "0.113731939522993\n"
          ]
        },
        {
          "output_type": "stream",
          "name": "stderr",
          "text": [
            " 60%|█████▉    | 161/269 [01:49<01:11,  1.50it/s]"
          ]
        },
        {
          "output_type": "stream",
          "name": "stdout",
          "text": [
            "0.1112643505136172\n"
          ]
        },
        {
          "output_type": "stream",
          "name": "stderr",
          "text": [
            " 67%|██████▋   | 181/269 [02:03<00:58,  1.50it/s]"
          ]
        },
        {
          "output_type": "stream",
          "name": "stdout",
          "text": [
            "0.10948426347403299\n"
          ]
        },
        {
          "output_type": "stream",
          "name": "stderr",
          "text": [
            " 75%|███████▍  | 201/269 [02:16<00:44,  1.55it/s]"
          ]
        },
        {
          "output_type": "stream",
          "name": "stdout",
          "text": [
            "0.10775888569298245\n"
          ]
        },
        {
          "output_type": "stream",
          "name": "stderr",
          "text": [
            " 82%|████████▏ | 221/269 [02:29<00:30,  1.55it/s]"
          ]
        },
        {
          "output_type": "stream",
          "name": "stdout",
          "text": [
            "0.10618577081532705\n"
          ]
        },
        {
          "output_type": "stream",
          "name": "stderr",
          "text": [
            " 90%|████████▉ | 241/269 [02:42<00:17,  1.56it/s]"
          ]
        },
        {
          "output_type": "stream",
          "name": "stdout",
          "text": [
            "0.10418722175416492\n"
          ]
        },
        {
          "output_type": "stream",
          "name": "stderr",
          "text": [
            " 97%|█████████▋| 261/269 [02:55<00:05,  1.53it/s]"
          ]
        },
        {
          "output_type": "stream",
          "name": "stdout",
          "text": [
            "0.10231877153828031\n"
          ]
        },
        {
          "output_type": "stream",
          "name": "stderr",
          "text": [
            "100%|██████████| 269/269 [03:00<00:00,  1.49it/s]\n"
          ]
        }
      ]
    },
    {
      "cell_type": "code",
      "metadata": {
        "colab": {
          "base_uri": "https://localhost:8080/",
          "height": 301
        },
        "id": "n7l4QZmaAa0U",
        "outputId": "cb09d43a-1d04-488e-f6a0-9b2f331db85a"
      },
      "source": [
        "compression = 10\n",
        "\n",
        "loss = np.ndarray.flatten(loss_values)\n",
        "loss = np.nanmean(np.pad(loss.astype(float), (0, compression - loss.size%compression), mode='constant', constant_values=np.NaN).reshape(-1, compression), axis=1)\n",
        "plt.plot(loss)"
      ],
      "execution_count": 25,
      "outputs": [
        {
          "output_type": "execute_result",
          "data": {
            "text/plain": [
              "[<matplotlib.lines.Line2D at 0x7faa5cd47610>]"
            ]
          },
          "metadata": {},
          "execution_count": 25
        },
        {
          "output_type": "display_data",
          "data": {
            "image/png": "[encoded data removed]",
            "text/plain": [
              "<Figure size 460.8x316.8 with 1 Axes>"
            ]
          },
          "metadata": {}
        }
      ]
    },
    {
      "cell_type": "code",
      "metadata": {
        "colab": {
          "base_uri": "https://localhost:8080/"
        },
        "id": "VlfyVholCPXm",
        "outputId": "40d1c280-bec0-4898-de6e-beacd2eba550"
      },
      "source": [
        "#@title ### Rollouts { form-width: \"30%\" }\n",
        "\n",
        "pred_list = []\n",
        "true_values = []\n",
        "valid_loss=0\n",
        "c=0\n",
        "for databatch in tqdm(parsed_valid_dataset):\n",
        "\n",
        "    target = databatch[1]\n",
        "    true_values.append(target.numpy())\n",
        "\n",
        "    predictions = model(databatch[0])\n",
        "    pred_list.append(np.squeeze(predictions.numpy()))\n",
        "\n",
        "    loss_value = tf.keras.losses.MeanSquaredError()(target,predictions).numpy()\n",
        "    valid_loss+= loss_value\n",
        "    c+=1\n",
        "\n",
        "    print('validation loss', valid_loss/c)\n"
      ],
      "execution_count": 26,
      "outputs": [
        {
          "output_type": "stream",
          "name": "stderr",
          "text": [
            "0it [00:00, ?it/s]/usr/local/lib/python3.7/dist-packages/spektral/layers/convolutional/conv.py:94: UserWarning: The adjacency matrix of dtype <dtype: 'int64'> is incompatible with the dtype of the node features <dtype: 'float32'> and has been automatically cast to <dtype: 'float32'>.\n",
            "  f\"The adjacency matrix of dtype {a.dtype} is incompatible with the dtype \"\n",
            "1it [00:01,  1.27s/it]"
          ]
        },
        {
          "output_type": "stream",
          "name": "stdout",
          "text": [
            "validation loss 0.09969951957464218\n"
          ]
        },
        {
          "output_type": "stream",
          "name": "stderr",
          "text": [
            "\r2it [00:01,  1.40it/s]"
          ]
        },
        {
          "output_type": "stream",
          "name": "stdout",
          "text": [
            "validation loss 0.1007159873843193\n"
          ]
        },
        {
          "output_type": "stream",
          "name": "stderr",
          "text": [
            "\r3it [00:01,  1.88it/s]"
          ]
        },
        {
          "output_type": "stream",
          "name": "stdout",
          "text": [
            "validation loss 0.10108021646738052\n"
          ]
        },
        {
          "output_type": "stream",
          "name": "stderr",
          "text": [
            "\r4it [00:02,  2.17it/s]"
          ]
        },
        {
          "output_type": "stream",
          "name": "stdout",
          "text": [
            "validation loss 0.10117096081376076\n"
          ]
        },
        {
          "output_type": "stream",
          "name": "stderr",
          "text": [
            "\r5it [00:02,  2.41it/s]"
          ]
        },
        {
          "output_type": "stream",
          "name": "stdout",
          "text": [
            "validation loss 0.10072144865989685\n"
          ]
        },
        {
          "output_type": "stream",
          "name": "stderr",
          "text": [
            "\r6it [00:02,  2.60it/s]"
          ]
        },
        {
          "output_type": "stream",
          "name": "stdout",
          "text": [
            "validation loss 0.10053591057658195\n"
          ]
        },
        {
          "output_type": "stream",
          "name": "stderr",
          "text": [
            "\r7it [00:03,  2.70it/s]"
          ]
        },
        {
          "output_type": "stream",
          "name": "stdout",
          "text": [
            "validation loss 0.1005720602614539\n"
          ]
        },
        {
          "output_type": "stream",
          "name": "stderr",
          "text": [
            "\r8it [00:03,  2.82it/s]"
          ]
        },
        {
          "output_type": "stream",
          "name": "stdout",
          "text": [
            "validation loss 0.10025930870324373\n"
          ]
        },
        {
          "output_type": "stream",
          "name": "stderr",
          "text": [
            "\r9it [00:03,  2.91it/s]"
          ]
        },
        {
          "output_type": "stream",
          "name": "stdout",
          "text": [
            "validation loss 0.10028569731447431\n"
          ]
        },
        {
          "output_type": "stream",
          "name": "stderr",
          "text": [
            "\r10it [00:04,  2.98it/s]"
          ]
        },
        {
          "output_type": "stream",
          "name": "stdout",
          "text": [
            "validation loss 0.1004184603691101\n"
          ]
        },
        {
          "output_type": "stream",
          "name": "stderr",
          "text": [
            "\r11it [00:04,  2.96it/s]"
          ]
        },
        {
          "output_type": "stream",
          "name": "stdout",
          "text": [
            "validation loss 0.1005732078443874\n"
          ]
        },
        {
          "output_type": "stream",
          "name": "stderr",
          "text": [
            "\r12it [00:04,  2.97it/s]"
          ]
        },
        {
          "output_type": "stream",
          "name": "stdout",
          "text": [
            "validation loss 0.10051319437722366\n"
          ]
        },
        {
          "output_type": "stream",
          "name": "stderr",
          "text": [
            "\r13it [00:05,  3.01it/s]"
          ]
        },
        {
          "output_type": "stream",
          "name": "stdout",
          "text": [
            "validation loss 0.10063596184437092\n"
          ]
        },
        {
          "output_type": "stream",
          "name": "stderr",
          "text": [
            "\r14it [00:05,  3.00it/s]"
          ]
        },
        {
          "output_type": "stream",
          "name": "stdout",
          "text": [
            "validation loss 0.10053407294409615\n"
          ]
        },
        {
          "output_type": "stream",
          "name": "stderr",
          "text": [
            "\r15it [00:05,  3.00it/s]"
          ]
        },
        {
          "output_type": "stream",
          "name": "stdout",
          "text": [
            "validation loss 0.100628628830115\n"
          ]
        },
        {
          "output_type": "stream",
          "name": "stderr",
          "text": [
            "\r16it [00:06,  3.02it/s]"
          ]
        },
        {
          "output_type": "stream",
          "name": "stdout",
          "text": [
            "validation loss 0.10060745570808649\n"
          ]
        },
        {
          "output_type": "stream",
          "name": "stderr",
          "text": [
            "\r17it [00:06,  3.01it/s]"
          ]
        },
        {
          "output_type": "stream",
          "name": "stdout",
          "text": [
            "validation loss 0.100600305287277\n"
          ]
        },
        {
          "output_type": "stream",
          "name": "stderr",
          "text": [
            "\r18it [00:06,  3.01it/s]"
          ]
        },
        {
          "output_type": "stream",
          "name": "stdout",
          "text": [
            "validation loss 0.10064568287796444\n"
          ]
        },
        {
          "output_type": "stream",
          "name": "stderr",
          "text": [
            "\r19it [00:07,  3.01it/s]"
          ]
        },
        {
          "output_type": "stream",
          "name": "stdout",
          "text": [
            "validation loss 0.1007289090438893\n"
          ]
        },
        {
          "output_type": "stream",
          "name": "stderr",
          "text": [
            "\r20it [00:07,  2.99it/s]"
          ]
        },
        {
          "output_type": "stream",
          "name": "stdout",
          "text": [
            "validation loss 0.10068589001893997\n"
          ]
        },
        {
          "output_type": "stream",
          "name": "stderr",
          "text": [
            "\r21it [00:07,  2.99it/s]"
          ]
        },
        {
          "output_type": "stream",
          "name": "stdout",
          "text": [
            "validation loss 0.10069921186992101\n"
          ]
        },
        {
          "output_type": "stream",
          "name": "stderr",
          "text": [
            "\r22it [00:08,  3.04it/s]"
          ]
        },
        {
          "output_type": "stream",
          "name": "stdout",
          "text": [
            "validation loss 0.10071157426996664\n"
          ]
        },
        {
          "output_type": "stream",
          "name": "stderr",
          "text": [
            "\r23it [00:08,  3.04it/s]"
          ]
        },
        {
          "output_type": "stream",
          "name": "stdout",
          "text": [
            "validation loss 0.10070321773705275\n"
          ]
        },
        {
          "output_type": "stream",
          "name": "stderr",
          "text": [
            "\r24it [00:08,  3.07it/s]"
          ]
        },
        {
          "output_type": "stream",
          "name": "stdout",
          "text": [
            "validation loss 0.10073066937426726\n"
          ]
        },
        {
          "output_type": "stream",
          "name": "stderr",
          "text": [
            "\r25it [00:09,  3.08it/s]"
          ]
        },
        {
          "output_type": "stream",
          "name": "stdout",
          "text": [
            "validation loss 0.10071962922811509\n"
          ]
        },
        {
          "output_type": "stream",
          "name": "stderr",
          "text": [
            "\r26it [00:09,  3.07it/s]"
          ]
        },
        {
          "output_type": "stream",
          "name": "stdout",
          "text": [
            "validation loss 0.10074261776529826\n"
          ]
        },
        {
          "output_type": "stream",
          "name": "stderr",
          "text": [
            "\r27it [00:09,  3.08it/s]"
          ]
        },
        {
          "output_type": "stream",
          "name": "stdout",
          "text": [
            "validation loss 0.10070352035540121\n"
          ]
        },
        {
          "output_type": "stream",
          "name": "stderr",
          "text": [
            "\r28it [00:10,  3.08it/s]"
          ]
        },
        {
          "output_type": "stream",
          "name": "stdout",
          "text": [
            "validation loss 0.10068469973547119\n"
          ]
        },
        {
          "output_type": "stream",
          "name": "stderr",
          "text": [
            "\r29it [00:10,  3.01it/s]"
          ]
        },
        {
          "output_type": "stream",
          "name": "stdout",
          "text": [
            "validation loss 0.10065054713652052\n"
          ]
        },
        {
          "output_type": "stream",
          "name": "stderr",
          "text": [
            "\r30it [00:10,  3.04it/s]"
          ]
        },
        {
          "output_type": "stream",
          "name": "stdout",
          "text": [
            "validation loss 0.10053375015656153\n"
          ]
        },
        {
          "output_type": "stream",
          "name": "stderr",
          "text": [
            "\r31it [00:11,  3.06it/s]"
          ]
        },
        {
          "output_type": "stream",
          "name": "stdout",
          "text": [
            "validation loss 0.1005682548688304\n"
          ]
        },
        {
          "output_type": "stream",
          "name": "stderr",
          "text": [
            "\r32it [00:11,  3.03it/s]"
          ]
        },
        {
          "output_type": "stream",
          "name": "stdout",
          "text": [
            "validation loss 0.10054247942753136\n"
          ]
        },
        {
          "output_type": "stream",
          "name": "stderr",
          "text": [
            "33it [00:11,  2.79it/s]"
          ]
        },
        {
          "output_type": "stream",
          "name": "stdout",
          "text": [
            "validation loss 0.10056280073794452\n"
          ]
        },
        {
          "output_type": "stream",
          "name": "stderr",
          "text": [
            "\n"
          ]
        }
      ]
    },
    {
      "cell_type": "code",
      "metadata": {
        "colab": {
          "base_uri": "https://localhost:8080/",
          "height": 383
        },
        "id": "wu2nHUstKEqX",
        "outputId": "ea81a950-451d-4956-aabf-d05c615cfecc"
      },
      "source": [
        "#@title ### Plots of Outputs\n",
        "\n",
        "fig, axs = plt.subplots(1,2, figsize=(8, 6), facecolor='w', edgecolor='k')  \n",
        "\n",
        "axs = axs.ravel()\n",
        "for pred_i in range(2):\n",
        "    pred_vals = np.array([pp[:,:,pred_i] for pp in pred_list]).flatten()\n",
        "    true_vals = np.array([tt[:,:,pred_i] for tt in true_values]).flatten()\n",
        "\n",
        "    bin_means, bin_edges, binnumber = stats.binned_statistic(true_vals, pred_vals,bins=100)\n",
        "    bin_width = (bin_edges[1] - bin_edges[0])\n",
        "    bin_centers = bin_edges[1:] - bin_width/2\n",
        "\n",
        "    bin_stds, bin_edges, binnumber = stats.binned_statistic(true_vals, pred_vals,statistic='std',bins=100)\n",
        "\n",
        "\n",
        "    axs[pred_i].plot(bin_centers,bin_means,c='C0')\n",
        "\n",
        "    axs[pred_i].fill_between(bin_centers,bin_means-bin_stds,bin_means+bin_stds,color='C0',alpha=0.5)\n",
        "\n",
        "    xx = np.linspace(true_vals.min(),true_vals.max(),10)\n",
        "    axs[pred_i].plot(xx,xx,c='k',ls='--')\n",
        "\n",
        "    axs[pred_i].set_ylabel('GNN prediction of parameter')\n",
        "    axs[pred_i].set_xlabel('True parameter that generated the microstate')\n",
        "\n",
        "\n",
        "\n",
        "#plt.savefig('gnn_' + str(run) + '.png',dpi=300)\n",
        "#plt.show()"
      ],
      "execution_count": 27,
      "outputs": [
        {
          "output_type": "display_data",
          "data": {
            "image/png": "[encoded data removed]",
            "text/plain": [
              "<Figure size 576x432 with 2 Axes>"
            ]
          },
          "metadata": {}
        }
      ]
    }
  ]
}